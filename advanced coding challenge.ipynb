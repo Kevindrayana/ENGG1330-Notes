{
 "cells": [
  {
   "cell_type": "code",
   "execution_count": 8,
   "id": "9c98b35e",
   "metadata": {},
   "outputs": [
    {
     "name": "stdout",
     "output_type": "stream",
     "text": [
      "10\n",
      "5\n",
      "16\n",
      "8\n",
      "4\n",
      "2\n",
      "1\n",
      "7\n"
     ]
    }
   ],
   "source": [
    "n = int(input())\n",
    "counter = 1\n",
    "while n != 1:\n",
    "    if n % 2 == 0:\n",
    "        n = n / 2\n",
    "    else:\n",
    "        n = n * 3 + 1\n",
    "    counter += 1\n",
    "    print(f'{n:.0f}')\n",
    "    \n",
    "print(counter)"
   ]
  },
  {
   "cell_type": "code",
   "execution_count": 11,
   "id": "78cc640f",
   "metadata": {},
   "outputs": [
    {
     "name": "stdout",
     "output_type": "stream",
     "text": [
      "13\n",
      "1\n"
     ]
    }
   ],
   "source": [
    "n = int(input())\n",
    "lst = []\n",
    "for i in range(1,n):\n",
    "    if n % i == 0:\n",
    "        lst.append(i)\n",
    "print(max(lst))"
   ]
  },
  {
   "cell_type": "code",
   "execution_count": 16,
   "id": "c4eac0ce",
   "metadata": {},
   "outputs": [
    {
     "name": "stdout",
     "output_type": "stream",
     "text": [
      "4 1\n",
      "4\n"
     ]
    }
   ],
   "source": [
    "n,k = map(int, input().split())\n",
    "result = 1\n",
    "for i in range(k):\n",
    "    result *= n\n",
    "    n -= 1\n",
    "print(result)"
   ]
  },
  {
   "cell_type": "code",
   "execution_count": 18,
   "id": "202eefa9",
   "metadata": {},
   "outputs": [
    {
     "name": "stdout",
     "output_type": "stream",
     "text": [
      "4224\n",
      "12\n"
     ]
    }
   ],
   "source": [
    "n = input()\n",
    "result = 0\n",
    "for i in n:\n",
    "    result += int(i)\n",
    "print(result)"
   ]
  },
  {
   "cell_type": "code",
   "execution_count": null,
   "id": "3674d2c6",
   "metadata": {},
   "outputs": [],
   "source": []
  }
 ],
 "metadata": {
  "kernelspec": {
   "display_name": "Python 3",
   "language": "python",
   "name": "python3"
  },
  "language_info": {
   "codemirror_mode": {
    "name": "ipython",
    "version": 3
   },
   "file_extension": ".py",
   "mimetype": "text/x-python",
   "name": "python",
   "nbconvert_exporter": "python",
   "pygments_lexer": "ipython3",
   "version": "3.8.8"
  }
 },
 "nbformat": 4,
 "nbformat_minor": 5
}
