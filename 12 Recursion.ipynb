{
 "cells": [
  {
   "cell_type": "markdown",
   "id": "2956a3f2",
   "metadata": {},
   "source": [
    "# RECURSION\n",
    "a function definition may contain a call to the function being defined\n",
    "\n",
    "for recursive approach we need:\n",
    "1. base case - smallest problem with solution available\n",
    "2. divide and conquer - breaking a larger problem into smaller problem(s)\n"
   ]
  },
  {
   "cell_type": "markdown",
   "id": "a9ff5ae6",
   "metadata": {},
   "source": [
    "## if a recursive call is encountered:\n",
    "* temporarily suspends its computation in the current function\n",
    "* proceeds to evaluate the recursive call\n",
    "* returns to finish the other computation if the recursive call is completed"
   ]
  },
  {
   "cell_type": "markdown",
   "id": "ba5b93f2",
   "metadata": {},
   "source": [
    "# 3 questions needed to be asked\n",
    "1. what is the parameter that determines the problem size?\n",
    "2. what is the base case(s)?\n",
    "3. what is the progress to break down the problem and reuse the solution of the smaller problem?"
   ]
  },
  {
   "cell_type": "code",
   "execution_count": 1,
   "id": "ce66af39",
   "metadata": {},
   "outputs": [],
   "source": [
    "# ex 1 factorial\n",
    "def f(n):\n",
    "    #base case\n",
    "    if n == 0:\n",
    "        return 1\n",
    "    #progress part\n",
    "    else:\n",
    "        return n * f(n-1)\n",
    "        "
   ]
  },
  {
   "cell_type": "code",
   "execution_count": 2,
   "id": "d3b9990b",
   "metadata": {},
   "outputs": [],
   "source": [
    "# ex 2 palindrome\n",
    "def ispalindrome(s):\n",
    "    #base case\n",
    "    if len(s) <= 1:\n",
    "        return True\n",
    "    \n",
    "    #progress part\n",
    "    if s[0] == s[-1]:\n",
    "        return ispalindrome(s[1:-1])\n",
    "    else:\n",
    "        return False"
   ]
  },
  {
   "cell_type": "code",
   "execution_count": 3,
   "id": "238a2ebc",
   "metadata": {},
   "outputs": [],
   "source": [
    "# ex 3 pascal triangle\n",
    "def pascal(n):\n",
    "    #base case\n",
    "    if n == 1:\n",
    "        return [1]\n",
    "    #progress part\n",
    "    else:\n",
    "        current = []\n",
    "        current.append(1)\n",
    "        previous = pascal(n-1)\n",
    "        for i in range(len(previous)-1):\n",
    "            current.append(previous[i]+previous[i+1])\n",
    "        current.append(1)\n",
    "    return current\n",
    "        "
   ]
  },
  {
   "cell_type": "code",
   "execution_count": 5,
   "id": "8ac6ff85",
   "metadata": {},
   "outputs": [],
   "source": [
    "# ex 4 Greatest Common Divisor\n",
    "def gcd(a,b):\n",
    "    #base case\n",
    "    if (b==0):\n",
    "        return a\n",
    "    #progress part\n",
    "    else:\n",
    "        return gcd(b, a%b)\n",
    "    "
   ]
  },
  {
   "cell_type": "code",
   "execution_count": 8,
   "id": "daa70e17",
   "metadata": {},
   "outputs": [
    {
     "data": {
      "text/plain": [
       "9227465"
      ]
     },
     "execution_count": 8,
     "metadata": {},
     "output_type": "execute_result"
    }
   ],
   "source": [
    "# ex 5 Fibonacci number\n",
    "def f(n):\n",
    "    # base case\n",
    "    if n < 2:\n",
    "        return n\n",
    "    else:\n",
    "        return f(n-1) + f(n-2)\n",
    "f(35)"
   ]
  },
  {
   "cell_type": "markdown",
   "id": "7a06d92c",
   "metadata": {},
   "source": [
    "# Memorization"
   ]
  },
  {
   "cell_type": "code",
   "execution_count": 10,
   "id": "125da232",
   "metadata": {},
   "outputs": [
    {
     "data": {
      "text/plain": [
       "354224848179261915075"
      ]
     },
     "execution_count": 10,
     "metadata": {},
     "output_type": "execute_result"
    }
   ],
   "source": [
    "# option 1\n",
    "## implememnt a dictionary(map) that caches the computed Fibonacci numbers and avoid repeat function calls\n",
    "cache = {}\n",
    "\n",
    "def f(n):\n",
    "    if n in cache:\n",
    "        return cache[n]\n",
    "    if n < 2:\n",
    "        value = n\n",
    "    else:\n",
    "        value = f(n-1) + f(n-2)\n",
    "    cache[n] = value\n",
    "    return value\n",
    "\n",
    "f(100) # this code runs much more faster because it has memorized values of certain n"
   ]
  },
  {
   "cell_type": "code",
   "execution_count": 13,
   "id": "12aa974f",
   "metadata": {},
   "outputs": [
    {
     "data": {
      "text/plain": [
       "354224848179261915075"
      ]
     },
     "execution_count": 13,
     "metadata": {},
     "output_type": "execute_result"
    }
   ],
   "source": [
    "# option 2\n",
    "## use python stnadard library to perform least recently used cache for function\n",
    "from functools import lru_cache\n",
    "@lru_cache(maxsize = 1000)\n",
    "\n",
    "def f(n):\n",
    "    if n<2:\n",
    "        return n\n",
    "    else:\n",
    "        return f(n-1) + f(n-2)\n",
    "    \n",
    "f(100)"
   ]
  },
  {
   "cell_type": "code",
   "execution_count": 3,
   "id": "83a73560",
   "metadata": {},
   "outputs": [],
   "source": [
    "# ex 6 tower of hanoi\n",
    "def move(n, from_, to, bufer):\n",
    "    #base case\n",
    "    if n == 1:\n",
    "        print('Moving disk from', from_, 'to', to)\n",
    "    #progress    \n",
    "    else:\n",
    "        move(n-1, from_, buffer, to)\n",
    "        move(1,from_, to, buffer)\n",
    "        move(n-1,buffer,to,from_)"
   ]
  },
  {
   "cell_type": "code",
   "execution_count": 2,
   "id": "c325fb9d",
   "metadata": {},
   "outputs": [
    {
     "data": {
      "text/plain": [
       "[17, 26, 31, 44, 54, 55, 77, 93]"
      ]
     },
     "execution_count": 2,
     "metadata": {},
     "output_type": "execute_result"
    }
   ],
   "source": [
    "#ex 7 MergeSort\n",
    "## 1) Divide - divide the list with n items to two lists of n/2 items\n",
    "## 2) Merge - Merge two sorted lists of size n/2 to create a sorted list of n items\n",
    "\n",
    "def MergeSort(A, left, right):\n",
    "    if right-left>1: # condition to detect progress cases (until difference between right and left == 1)\n",
    "        mid = (left+right)//2\n",
    "        MergeSort(A,left,mid)\n",
    "        MergeSort(A,mid,right)\n",
    "        merge(A, left, mid, right)\n",
    "        \n",
    "def merge(A, left, mid, right):\n",
    "    L = A[left:mid]\n",
    "    R = A[mid:right]\n",
    "    i = j = 0 #refering to the counter\n",
    "    k = left\n",
    "    while i < len(L) and j < len(R):\n",
    "        if L[i] < R[j]:\n",
    "            A[k] = L[i]\n",
    "            i += 1\n",
    "            k += 1\n",
    "        else:\n",
    "            A[k] = R[j]\n",
    "            j += 1\n",
    "            k += 1\n",
    "    \n",
    "    # since all the values in R are scanned, we put the remaining values in L to A\n",
    "    while i < len(L):\n",
    "        A[k] = L[i]\n",
    "        i += 1\n",
    "        k += 1\n",
    "        \n",
    "    while j < len(R):\n",
    "        A[k] = R[j]\n",
    "        j += 1\n",
    "        k += 1\n",
    "    \n",
    "A = [54,26,93,17,77,31,44,55]    \n",
    "MergeSort(A, 0, len(A))\n",
    "A"
   ]
  },
  {
   "cell_type": "code",
   "execution_count": 6,
   "id": "a9791dd7",
   "metadata": {},
   "outputs": [],
   "source": [
    "#ex 8 subset sum\n",
    "# Given a list L of integers and a target integer M,\n",
    "## print all subsets in L with sum equal to M\n",
    "\n",
    "def subsetsum(L, n, result, M):\n",
    "    #BASE CASE\n",
    "    if M == 0:\n",
    "        print(result)\n",
    "        return\n",
    "    if n==0:\n",
    "        return\n",
    "    \n",
    "    #case 1\n",
    "    if L[n-1] <= M: \n",
    "        subsetsum(L, n-1, result + (L[n-1],), M-L[n-1])\n",
    "        \n",
    "    # case 2\n",
    "    subsetsum(L,n-1,result,M)\n",
    "    \n",
    "L = [3,5,7,8,4]\n",
    "M = 12\n",
    "result = ()\n",
    "subsetsum(L, len(L), result, M)"
   ]
  }
 ],
 "metadata": {
  "kernelspec": {
   "display_name": "Python 3",
   "language": "python",
   "name": "python3"
  },
  "language_info": {
   "codemirror_mode": {
    "name": "ipython",
    "version": 3
   },
   "file_extension": ".py",
   "mimetype": "text/x-python",
   "name": "python",
   "nbconvert_exporter": "python",
   "pygments_lexer": "ipython3",
   "version": "3.8.8"
  }
 },
 "nbformat": 4,
 "nbformat_minor": 5
}
