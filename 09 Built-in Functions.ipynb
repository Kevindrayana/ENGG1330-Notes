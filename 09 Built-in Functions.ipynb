{
 "cells": [
  {
   "cell_type": "code",
   "execution_count": 1,
   "id": "df502301",
   "metadata": {},
   "outputs": [],
   "source": [
    "# docs.python.org --> to see all built in functions documentations"
   ]
  },
  {
   "cell_type": "code",
   "execution_count": 2,
   "id": "6f6a702f",
   "metadata": {},
   "outputs": [],
   "source": [
    "# built in functions are always available"
   ]
  },
  {
   "cell_type": "markdown",
   "id": "17e3996a",
   "metadata": {},
   "source": [
    "# ABS\n",
    "## absolute value\n",
    "return the absolute value of an integer or a float\n",
    "if the argument is a complex number, the magnitude is returned"
   ]
  },
  {
   "cell_type": "code",
   "execution_count": 3,
   "id": "e49ef301",
   "metadata": {},
   "outputs": [
    {
     "data": {
      "text/plain": [
       "43"
      ]
     },
     "execution_count": 3,
     "metadata": {},
     "output_type": "execute_result"
    }
   ],
   "source": [
    "abs(-43)"
   ]
  },
  {
   "cell_type": "code",
   "execution_count": 4,
   "id": "f88b1f4e",
   "metadata": {},
   "outputs": [
    {
     "data": {
      "text/plain": [
       "5.0"
      ]
     },
     "execution_count": 4,
     "metadata": {},
     "output_type": "execute_result"
    }
   ],
   "source": [
    "x = complex(3,4)\n",
    "abs(x)"
   ]
  },
  {
   "cell_type": "markdown",
   "id": "e328f709",
   "metadata": {},
   "source": [
    "# SUM\n",
    "# sum(iterable [,start])\n",
    "sums start and the items of an iterable from left to right and returns the total. start defaults to 0.\n",
    "\n",
    "The iterable's items are normally numbers (but can be list, tuple, range, str)\n",
    "\n",
    "The start value is not allowed to be a string"
   ]
  },
  {
   "cell_type": "code",
   "execution_count": 2,
   "id": "c1afc8e5",
   "metadata": {},
   "outputs": [
    {
     "data": {
      "text/plain": [
       "10"
      ]
     },
     "execution_count": 2,
     "metadata": {},
     "output_type": "execute_result"
    }
   ],
   "source": [
    "sum([1,2,3,4])"
   ]
  },
  {
   "cell_type": "code",
   "execution_count": 6,
   "id": "8d155ab2",
   "metadata": {},
   "outputs": [
    {
     "data": {
      "text/plain": [
       "45"
      ]
     },
     "execution_count": 6,
     "metadata": {},
     "output_type": "execute_result"
    }
   ],
   "source": [
    "sum(range(10))"
   ]
  },
  {
   "cell_type": "markdown",
   "id": "d3ab44bc",
   "metadata": {},
   "source": [
    "# SORTED\n",
    "## sorted(iterable, *, key = None, reverse = False)\n",
    "return a new sorted list from the items in iterable"
   ]
  },
  {
   "cell_type": "code",
   "execution_count": 13,
   "id": "3ff5ef42",
   "metadata": {},
   "outputs": [
    {
     "data": {
      "text/plain": [
       "['a', 'c', 'e', 'e', 'i', 'l', 'n', 'n', 'n', 't']"
      ]
     },
     "execution_count": 13,
     "metadata": {},
     "output_type": "execute_result"
    }
   ],
   "source": [
    "sorted('centennial')"
   ]
  },
  {
   "cell_type": "code",
   "execution_count": 3,
   "id": "cfec46ba",
   "metadata": {},
   "outputs": [],
   "source": [
    "# remember that sorted makes a new list"
   ]
  },
  {
   "cell_type": "markdown",
   "id": "b956aa85",
   "metadata": {},
   "source": [
    "# ALL\n",
    "Returns true if all the elements of a given iterable( List, Dictionary, Tuple, set, etc) are True else it returns False.\n",
    "\n",
    "It also returns True if the iterable object is empty."
   ]
  },
  {
   "cell_type": "code",
   "execution_count": 11,
   "id": "9da9671b",
   "metadata": {},
   "outputs": [
    {
     "name": "stdout",
     "output_type": "stream",
     "text": [
      "False\n"
     ]
    }
   ],
   "source": [
    "# All elements of list are false\n",
    "l = [0, 0, False]\n",
    "print(all(l))"
   ]
  },
  {
   "cell_type": "code",
   "execution_count": 10,
   "id": "ef742719",
   "metadata": {},
   "outputs": [
    {
     "name": "stdout",
     "output_type": "stream",
     "text": [
      "True\n"
     ]
    }
   ],
   "source": [
    "# All elements of tuple are true\n",
    "t = (2, 4, 6)\n",
    "print(all(t))"
   ]
  },
  {
   "cell_type": "code",
   "execution_count": 8,
   "id": "17c577c9",
   "metadata": {},
   "outputs": [
    {
     "name": "stdout",
     "output_type": "stream",
     "text": [
      "True\n"
     ]
    }
   ],
   "source": [
    "# All elements of dictionary are true\n",
    "d = {1: \"Hello\", 2: \"Hi\"}\n",
    "print(all(d))"
   ]
  },
  {
   "cell_type": "code",
   "execution_count": 9,
   "id": "b9ea09b4",
   "metadata": {},
   "outputs": [
    {
     "name": "stdout",
     "output_type": "stream",
     "text": [
      "False\n"
     ]
    }
   ],
   "source": [
    "# All elements of set are false\n",
    "s = {0, 0, False}\n",
    "print(all(s))"
   ]
  },
  {
   "cell_type": "code",
   "execution_count": 3,
   "id": "e24df823",
   "metadata": {},
   "outputs": [
    {
     "name": "stdout",
     "output_type": "stream",
     "text": [
      "True\n",
      "True\n",
      "True\n",
      "True\n"
     ]
    }
   ],
   "source": [
    "# Empty string, dict, tuple, list\n",
    "l = ''\n",
    "print(all(l))\n",
    "\n",
    "l = {}\n",
    "print(all(l))\n",
    "\n",
    "l = ()\n",
    "print(all(l))\n",
    "\n",
    "l = []\n",
    "print(all(l))"
   ]
  },
  {
   "cell_type": "markdown",
   "id": "0439e34a",
   "metadata": {},
   "source": [
    "# ANY\n",
    "returns True if any item in an iterable are true, otherwise it returns False.\n",
    "\n",
    "If the iterable object is empty, the any() function will return False."
   ]
  },
  {
   "cell_type": "code",
   "execution_count": 14,
   "id": "e64cb10e",
   "metadata": {},
   "outputs": [
    {
     "name": "stdout",
     "output_type": "stream",
     "text": [
      "True\n"
     ]
    }
   ],
   "source": [
    "mytuple = (0, 1, False)\n",
    "x = any(mytuple)\n",
    "print(x)"
   ]
  },
  {
   "cell_type": "code",
   "execution_count": 9,
   "id": "dc305548",
   "metadata": {},
   "outputs": [
    {
     "name": "stdout",
     "output_type": "stream",
     "text": [
      "True\n"
     ]
    }
   ],
   "source": [
    "myset = {0, 2, 0}\n",
    "x = any(myset)\n",
    "print(x)"
   ]
  },
  {
   "cell_type": "code",
   "execution_count": 16,
   "id": "8eb222ba",
   "metadata": {},
   "outputs": [
    {
     "name": "stdout",
     "output_type": "stream",
     "text": [
      "True\n"
     ]
    }
   ],
   "source": [
    "mydict = {0 : \"Apple\", 1 : \"Orange\"}\n",
    "x = any(mydict)\n",
    "print(x)"
   ]
  },
  {
   "cell_type": "markdown",
   "id": "779084e9",
   "metadata": {},
   "source": [
    "# BIN\n",
    "Python bin() function returns the binary string of a given integer.\n",
    "\n",
    "Syntax:  bin(a)\n",
    "\n",
    "Parameters : a : an integer to convert\n",
    "\n",
    "Return Value : A binary string of an integer or int object.\n",
    "\n",
    "Exceptions : Raises TypeError when a float value is sent in arguments."
   ]
  },
  {
   "cell_type": "code",
   "execution_count": 17,
   "id": "7980ba51",
   "metadata": {},
   "outputs": [
    {
     "name": "stdout",
     "output_type": "stream",
     "text": [
      "0b1100100\n"
     ]
    }
   ],
   "source": [
    "# declare variable\n",
    "num = 100\n",
    " \n",
    "# print binary number\n",
    "print(bin(num))"
   ]
  },
  {
   "cell_type": "code",
   "execution_count": 18,
   "id": "efdbe33b",
   "metadata": {},
   "outputs": [
    {
     "name": "stdout",
     "output_type": "stream",
     "text": [
      "0b1010\n"
     ]
    }
   ],
   "source": [
    "print(bin(10))"
   ]
  },
  {
   "cell_type": "code",
   "execution_count": 19,
   "id": "423fa9d5",
   "metadata": {},
   "outputs": [
    {
     "name": "stdout",
     "output_type": "stream",
     "text": [
      "0b1011\n"
     ]
    }
   ],
   "source": [
    "print(bin(11))"
   ]
  },
  {
   "cell_type": "code",
   "execution_count": 1,
   "id": "d545cacf",
   "metadata": {},
   "outputs": [
    {
     "name": "stdout",
     "output_type": "stream",
     "text": [
      "0b1100011\n"
     ]
    }
   ],
   "source": [
    "print(bin(99))"
   ]
  },
  {
   "cell_type": "markdown",
   "id": "b1aef740",
   "metadata": {},
   "source": [
    "# DIVMOD\n",
    "The divmod() method in python takes two numbers and returns a pair of numbers consisting of their quotient and remainder. \n",
    " "
   ]
  },
  {
   "cell_type": "code",
   "execution_count": 22,
   "id": "196f2dc5",
   "metadata": {},
   "outputs": [
    {
     "name": "stdout",
     "output_type": "stream",
     "text": [
      "(1, 2)\n"
     ]
    }
   ],
   "source": [
    "a, b = 10, 8\n",
    "print(divmod(a, b))"
   ]
  },
  {
   "cell_type": "markdown",
   "id": "b280f914",
   "metadata": {},
   "source": [
    "# EVAL\n",
    "## eval(expression, globals, locals)\n",
    "eval function evaluates the “String” like a python expression and returns the result as an integer"
   ]
  },
  {
   "cell_type": "code",
   "execution_count": 1,
   "id": "0caabfcb",
   "metadata": {},
   "outputs": [
    {
     "name": "stdout",
     "output_type": "stream",
     "text": [
      "55\n",
      "55\n"
     ]
    }
   ],
   "source": [
    "x = 'print(55)'\n",
    "eval(x)\n",
    "## or\n",
    "print(eval('55'))"
   ]
  },
  {
   "cell_type": "code",
   "execution_count": 23,
   "id": "d7308cb8",
   "metadata": {},
   "outputs": [
    {
     "name": "stdout",
     "output_type": "stream",
     "text": [
      "421\n"
     ]
    }
   ],
   "source": [
    "x = '42'\n",
    "print(eval(x+'1'))"
   ]
  },
  {
   "cell_type": "code",
   "execution_count": 24,
   "id": "55cbcef6",
   "metadata": {},
   "outputs": [
    {
     "name": "stdout",
     "output_type": "stream",
     "text": [
      "43\n"
     ]
    }
   ],
   "source": [
    "x = '42'\n",
    "print(eval(x+'+1'))"
   ]
  },
  {
   "cell_type": "markdown",
   "id": "c80fafdf",
   "metadata": {},
   "source": [
    "# zip\n",
    "combines lists (can be multiple) into a tuple"
   ]
  },
  {
   "cell_type": "code",
   "execution_count": 33,
   "id": "19c36fe9",
   "metadata": {},
   "outputs": [
    {
     "name": "stdout",
     "output_type": "stream",
     "text": [
      "(1, 'a', 'x')\n",
      "(2, 'b', 'y')\n",
      "(3, 'c', 'z')\n"
     ]
    }
   ],
   "source": [
    "lst1 = [1,2,3,4]\n",
    "lst2 = [\"a\",\"b\",\"c\",\"d\"]\n",
    "lst3 = [\"x\",\"y\",'z']\n",
    "\n",
    "for items in zip(lst1,lst2,lst3):\n",
    "    print(items)"
   ]
  },
  {
   "cell_type": "code",
   "execution_count": 34,
   "id": "80faf170",
   "metadata": {},
   "outputs": [
    {
     "name": "stdout",
     "output_type": "stream",
     "text": [
      "[(1, 2), (4, 3), (6, 4)]\n"
     ]
    }
   ],
   "source": [
    "print(list(zip([1, 4, 6], [2, 3, 4])))"
   ]
  },
  {
   "cell_type": "markdown",
   "id": "537e653a",
   "metadata": {},
   "source": [
    "# FILTER\n",
    "The filter() function extracts elements from an iterable (list, tuple etc.) for which a function returns True"
   ]
  },
  {
   "cell_type": "code",
   "execution_count": 10,
   "id": "36dda0f2",
   "metadata": {},
   "outputs": [
    {
     "name": "stdout",
     "output_type": "stream",
     "text": [
      "<filter object at 0x7f9910aa2a30>\n",
      "[2, 4, 6, 8, 10]\n"
     ]
    }
   ],
   "source": [
    "numbers = [1, 2, 3, 4, 5, 6, 7, 8, 9, 10]\n",
    "\n",
    "# returns True if number is even\n",
    "def check_even(number):\n",
    "    if number % 2 == 0:\n",
    "          return True  \n",
    "\n",
    "    return False\n",
    "\n",
    "# Extract elements from the numbers list for which check_even() returns True\n",
    "even_numbers_iterator = filter(check_even, numbers)\n",
    "\n",
    "# converting to list\n",
    "even_numbers = list(even_numbers_iterator)\n",
    "\n",
    "print(even_numbers)"
   ]
  },
  {
   "cell_type": "code",
   "execution_count": 28,
   "id": "9d57988b",
   "metadata": {},
   "outputs": [
    {
     "name": "stdout",
     "output_type": "stream",
     "text": [
      "[2, 3]\n"
     ]
    }
   ],
   "source": [
    "def f(x):\n",
    "    return x>1 and x<4\n",
    "print(list(filter(f, range(5))))"
   ]
  },
  {
   "cell_type": "markdown",
   "id": "b94a2fe7",
   "metadata": {},
   "source": [
    "# MAP\n",
    "The filter() function extracts elements from an iterable (list, tuple etc.) for which a function returns True"
   ]
  },
  {
   "cell_type": "code",
   "execution_count": 15,
   "id": "7531695f",
   "metadata": {},
   "outputs": [
    {
     "name": "stdout",
     "output_type": "stream",
     "text": [
      "[2, 3, 4, 5, 6]\n"
     ]
    }
   ],
   "source": [
    "def f(x):\n",
    "    return x+2\n",
    "x = map(f, range(5))\n",
    "print(list(x))"
   ]
  },
  {
   "cell_type": "markdown",
   "id": "1e38d685",
   "metadata": {},
   "source": [
    "# POW\n",
    "The pow() function returns the value of x to the power of y (x^y)."
   ]
  },
  {
   "cell_type": "code",
   "execution_count": 19,
   "id": "6de2fd53",
   "metadata": {},
   "outputs": [
    {
     "name": "stdout",
     "output_type": "stream",
     "text": [
      "9\n"
     ]
    }
   ],
   "source": [
    "print(pow(3, 2))"
   ]
  },
  {
   "cell_type": "markdown",
   "id": "7c90c8c3",
   "metadata": {},
   "source": [
    "# REVERSED"
   ]
  },
  {
   "cell_type": "code",
   "execution_count": 18,
   "id": "bc9b6619",
   "metadata": {},
   "outputs": [
    {
     "name": "stdout",
     "output_type": "stream",
     "text": [
      "n i v e k "
     ]
    }
   ],
   "source": [
    "for i in reversed(\"kevin\"):\n",
    "    print(i, end = ' ')"
   ]
  }
 ],
 "metadata": {
  "kernelspec": {
   "display_name": "Python 3",
   "language": "python",
   "name": "python3"
  },
  "language_info": {
   "codemirror_mode": {
    "name": "ipython",
    "version": 3
   },
   "file_extension": ".py",
   "mimetype": "text/x-python",
   "name": "python",
   "nbconvert_exporter": "python",
   "pygments_lexer": "ipython3",
   "version": "3.8.8"
  }
 },
 "nbformat": 4,
 "nbformat_minor": 5
}
