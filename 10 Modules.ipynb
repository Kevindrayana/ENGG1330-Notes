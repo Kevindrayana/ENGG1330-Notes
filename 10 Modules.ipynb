{
 "cells": [
  {
   "cell_type": "markdown",
   "id": "787c3b8f",
   "metadata": {},
   "source": [
    "# MODULE\n",
    "## a file containing Python definitions and statements\n",
    "### the file name is the module name with the suffix .py appended\n",
    "\n",
    "to use a module we need to use the keyword \"import\"\n"
   ]
  },
  {
   "cell_type": "code",
   "execution_count": 1,
   "id": "3f0c4c97",
   "metadata": {},
   "outputs": [],
   "source": [
    "# built in module\n",
    "# ex: random"
   ]
  },
  {
   "cell_type": "code",
   "execution_count": 2,
   "id": "9ab15e85",
   "metadata": {},
   "outputs": [
    {
     "data": {
      "text/plain": [
       "[7]"
      ]
     },
     "execution_count": 2,
     "metadata": {},
     "output_type": "execute_result"
    }
   ],
   "source": [
    "import random\n",
    "random.choices(range(10))"
   ]
  },
  {
   "cell_type": "code",
   "execution_count": 3,
   "id": "39e3a64c",
   "metadata": {},
   "outputs": [
    {
     "data": {
      "text/plain": [
       "[2, 7, 2, 0, 7]"
      ]
     },
     "execution_count": 3,
     "metadata": {},
     "output_type": "execute_result"
    }
   ],
   "source": [
    "random.choices(range(10), k = 5) # k is the number of times you want to output the random number"
   ]
  },
  {
   "cell_type": "code",
   "execution_count": 4,
   "id": "899e14b4",
   "metadata": {},
   "outputs": [
    {
     "data": {
      "text/plain": [
       "[1, 0, 1, 1, 0, 1, 0, 1, 1, 1]"
      ]
     },
     "execution_count": 4,
     "metadata": {},
     "output_type": "execute_result"
    }
   ],
   "source": [
    "random.choices([0,1], k = 10)"
   ]
  },
  {
   "cell_type": "code",
   "execution_count": 5,
   "id": "c15c4710",
   "metadata": {},
   "outputs": [],
   "source": [
    "# tossing a coin\n",
    "# finding a probability that a fair coin showing >= 22 heads\n",
    "def performSimulation(numcointoss=30, numhead=22, numtrials=1000000):\n",
    "    m = 0\n",
    "    for i in range(numtrials):\n",
    "        trial = random.choices([0,1], k = numcointoss)\n",
    "        if sum(trial) >= numhead:\n",
    "            m += 1\n",
    "    return m/numtrials"
   ]
  },
  {
   "cell_type": "code",
   "execution_count": 6,
   "id": "d759f0a4",
   "metadata": {},
   "outputs": [
    {
     "data": {
      "text/plain": [
       "0.008027"
      ]
     },
     "execution_count": 6,
     "metadata": {},
     "output_type": "execute_result"
    }
   ],
   "source": [
    "performSimulation()"
   ]
  },
  {
   "cell_type": "code",
   "execution_count": 7,
   "id": "33bc484c",
   "metadata": {},
   "outputs": [],
   "source": [
    "def performSimulation(numcointoss=30, numhead=22, numtrials=1000000):\n",
    "    m = 0\n",
    "    for i in range(numtrials):\n",
    "        if random.choices('HT', k = numcointoss).count(\"H\") >= numhead:\n",
    "            m += 1\n",
    "    return m/numtrials"
   ]
  },
  {
   "cell_type": "code",
   "execution_count": 9,
   "id": "608d9f1b",
   "metadata": {},
   "outputs": [
    {
     "data": {
      "text/plain": [
       "0.00813"
      ]
     },
     "execution_count": 9,
     "metadata": {},
     "output_type": "execute_result"
    }
   ],
   "source": [
    "performSimulation()"
   ]
  },
  {
   "cell_type": "code",
   "execution_count": 11,
   "id": "81523506",
   "metadata": {},
   "outputs": [
    {
     "name": "stdout",
     "output_type": "stream",
     "text": [
      "0.421611\n"
     ]
    }
   ],
   "source": [
    "import random\n",
    "def simulate(numtrials = 1000000):\n",
    "    m = 0\n",
    "    for i in range(numtrials):\n",
    "        dice123 = random.choices([1,2,3,4,5,6], k = 3)\n",
    "        if 4 in dice123:\n",
    "            m += 1\n",
    "    return m/numtrials\n",
    "\n",
    "print(simulate())"
   ]
  }
 ],
 "metadata": {
  "kernelspec": {
   "display_name": "Python 3",
   "language": "python",
   "name": "python3"
  },
  "language_info": {
   "codemirror_mode": {
    "name": "ipython",
    "version": 3
   },
   "file_extension": ".py",
   "mimetype": "text/x-python",
   "name": "python",
   "nbconvert_exporter": "python",
   "pygments_lexer": "ipython3",
   "version": "3.8.8"
  }
 },
 "nbformat": 4,
 "nbformat_minor": 5
}
