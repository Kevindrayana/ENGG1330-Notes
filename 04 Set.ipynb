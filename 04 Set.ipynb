{
 "cells": [
  {
   "cell_type": "markdown",
   "id": "7afbcafc",
   "metadata": {},
   "source": [
    "# SET\n",
    "### a set serves as an UNORDERED list with no duplicate items\n",
    "### mutable"
   ]
  },
  {
   "cell_type": "code",
   "execution_count": 11,
   "id": "97d37289",
   "metadata": {},
   "outputs": [],
   "source": [
    "# declaring a set\n",
    "my_set = {\"square\", \"triange\", \"rectangle\", \"square\"}"
   ]
  },
  {
   "cell_type": "code",
   "execution_count": 12,
   "id": "e3754bc9",
   "metadata": {},
   "outputs": [
    {
     "data": {
      "text/plain": [
       "{'rectangle', 'square', 'triange'}"
      ]
     },
     "execution_count": 12,
     "metadata": {},
     "output_type": "execute_result"
    }
   ],
   "source": [
    "my_set\n",
    "# notice that the same members are not printed and it is printed unorderedly"
   ]
  },
  {
   "cell_type": "code",
   "execution_count": 13,
   "id": "5fe7299a",
   "metadata": {},
   "outputs": [
    {
     "data": {
      "text/plain": [
       "True"
      ]
     },
     "execution_count": 13,
     "metadata": {},
     "output_type": "execute_result"
    }
   ],
   "source": [
    "# checking for membership\n",
    "\"square\" in my_set"
   ]
  },
  {
   "cell_type": "code",
   "execution_count": 14,
   "id": "6f1f1c71",
   "metadata": {},
   "outputs": [
    {
     "data": {
      "text/plain": [
       "True"
      ]
     },
     "execution_count": 14,
     "metadata": {},
     "output_type": "execute_result"
    }
   ],
   "source": [
    "\"polygon\" not in my_set"
   ]
  },
  {
   "cell_type": "code",
   "execution_count": 15,
   "id": "82b220cf",
   "metadata": {},
   "outputs": [
    {
     "data": {
      "text/plain": [
       "{'polygon', 'rectangle', 'square', 'triange'}"
      ]
     },
     "execution_count": 15,
     "metadata": {},
     "output_type": "execute_result"
    }
   ],
   "source": [
    "# using add function\n",
    "my_set.add(\"polygon\")\n",
    "my_set"
   ]
  },
  {
   "cell_type": "code",
   "execution_count": 16,
   "id": "7e1d9e98",
   "metadata": {},
   "outputs": [
    {
     "data": {
      "text/plain": [
       "{'polygon', 'square', 'triange'}"
      ]
     },
     "execution_count": 16,
     "metadata": {},
     "output_type": "execute_result"
    }
   ],
   "source": [
    "# using remove function\n",
    "my_set.remove(\"rectangle\")\n",
    "my_set"
   ]
  },
  {
   "cell_type": "markdown",
   "id": "984a0642",
   "metadata": {},
   "source": [
    "#### SET USEFUL OPERATIONS\n",
    "\n",
    "* SUBSET: s <= t - test wheter every element in s is in t\n",
    "* SUPERSET: s >= t - test wheter every element in t is in s\n",
    "* UNION: s | t - new set with elemets from both s and t\n",
    "* INTERSECTION: s & t - new set with elements common to s and t\n",
    "* DIFFERENCE: s - t  - new set with elements in s but not in t\n",
    "* SYMETRIC DIFFERENCE: s ^ t - new elements in either s or t but not both"
   ]
  },
  {
   "cell_type": "code",
   "execution_count": 21,
   "id": "ccce223d",
   "metadata": {},
   "outputs": [],
   "source": [
    "a = {1,2,3}\n",
    "b = {1,2,3,4}"
   ]
  },
  {
   "cell_type": "code",
   "execution_count": 22,
   "id": "32053a6d",
   "metadata": {},
   "outputs": [
    {
     "data": {
      "text/plain": [
       "True"
      ]
     },
     "execution_count": 22,
     "metadata": {},
     "output_type": "execute_result"
    }
   ],
   "source": [
    "a <= b"
   ]
  },
  {
   "cell_type": "code",
   "execution_count": 23,
   "id": "b401515c",
   "metadata": {},
   "outputs": [
    {
     "data": {
      "text/plain": [
       "False"
      ]
     },
     "execution_count": 23,
     "metadata": {},
     "output_type": "execute_result"
    }
   ],
   "source": [
    "a >= b"
   ]
  },
  {
   "cell_type": "code",
   "execution_count": 24,
   "id": "7148740d",
   "metadata": {},
   "outputs": [],
   "source": [
    "x = {1,2,3}\n",
    "y = {3,4}"
   ]
  },
  {
   "cell_type": "code",
   "execution_count": 27,
   "id": "7f2903d6",
   "metadata": {},
   "outputs": [
    {
     "data": {
      "text/plain": [
       "{3}"
      ]
     },
     "execution_count": 27,
     "metadata": {},
     "output_type": "execute_result"
    }
   ],
   "source": [
    "x & y"
   ]
  },
  {
   "cell_type": "code",
   "execution_count": 28,
   "id": "4a14eadf",
   "metadata": {},
   "outputs": [
    {
     "data": {
      "text/plain": [
       "{1, 2, 3, 4}"
      ]
     },
     "execution_count": 28,
     "metadata": {},
     "output_type": "execute_result"
    }
   ],
   "source": [
    "x | y"
   ]
  },
  {
   "cell_type": "code",
   "execution_count": 29,
   "id": "ed1faf55",
   "metadata": {},
   "outputs": [
    {
     "data": {
      "text/plain": [
       "{1, 2}"
      ]
     },
     "execution_count": 29,
     "metadata": {},
     "output_type": "execute_result"
    }
   ],
   "source": [
    "x - y"
   ]
  },
  {
   "cell_type": "code",
   "execution_count": 30,
   "id": "e7a38e9e",
   "metadata": {},
   "outputs": [
    {
     "data": {
      "text/plain": [
       "{1, 2, 4}"
      ]
     },
     "execution_count": 30,
     "metadata": {},
     "output_type": "execute_result"
    }
   ],
   "source": [
    "x ^ y"
   ]
  }
 ],
 "metadata": {
  "kernelspec": {
   "display_name": "Python 3",
   "language": "python",
   "name": "python3"
  },
  "language_info": {
   "codemirror_mode": {
    "name": "ipython",
    "version": 3
   },
   "file_extension": ".py",
   "mimetype": "text/x-python",
   "name": "python",
   "nbconvert_exporter": "python",
   "pygments_lexer": "ipython3",
   "version": "3.8.8"
  }
 },
 "nbformat": 4,
 "nbformat_minor": 5
}
