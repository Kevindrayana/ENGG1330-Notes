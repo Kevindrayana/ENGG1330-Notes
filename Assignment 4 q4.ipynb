{
 "cells": [
  {
   "cell_type": "code",
   "execution_count": 1,
   "id": "621f06af",
   "metadata": {},
   "outputs": [
    {
     "data": {
      "text/plain": [
       "'[[0, 0, 0], [1, 0, 1], [1, 0, 1]]\\n[[1, 1, 0], [0, 0, 0], [1, 1, 0]]\\n[[1, 0, 1], [1, 0, 1], [0, 0, 0]]\\n[[0, 1, 1], [0, 0, 0], [0, 1, 1]]'"
      ]
     },
     "execution_count": 1,
     "metadata": {},
     "output_type": "execute_result"
    }
   ],
   "source": [
    "the_map = [[1, 1, 1, 1, 1], [1, 1, 1, 1, 1], [1, 1, 0, 1, 1], [1, 1, 0, 1, 1], [1, 0, 0, 0, 1]]\n",
    "\n",
    "'''[[0, 0, 0], [1, 0, 1], [1, 0, 1]]\n",
    "[[1, 1, 0], [0, 0, 0], [1, 1, 0]]\n",
    "[[1, 0, 1], [1, 0, 1], [0, 0, 0]]\n",
    "[[0, 1, 1], [0, 0, 0], [0, 1, 1]]'''"
   ]
  },
  {
   "cell_type": "code",
   "execution_count": 7,
   "id": "843899b4",
   "metadata": {},
   "outputs": [],
   "source": [
    "def rotate90(a):\n",
    "    row = len(a)\n",
    "    col = len(a[0])\n",
    "    result = [list('x' * col) for _ in range(row)]   \n",
    "    for i in range(row):\n",
    "        for j in range(col):\n",
    "            result[i][j] = a[row-j-1][i]   \n",
    "    return result\n",
    "\n",
    "def list_to_string(lst):\n",
    "    result = ''\n",
    "    for i in lst:\n",
    "        result += str(i)\n",
    "    return result\n",
    "\n",
    "def find_m2(t,m):\n",
    "    for i in range(len(m)):\n",
    "        if list_to_string(t[0]) in list_to_string(m[i]):\n",
    "            m2 = m[i:i+len(t)]\n",
    "            return(m2,i)\n",
    "\n",
    "def find_treasure_in_map(t,m2):\n",
    "    for j in m2:\n",
    "        for k in t:\n",
    "            lst.append(list_to_string(j).find(list_to_string(k))) \n",
    "            del t[0]\n",
    "            break\n",
    "    return lst"
   ]
  },
  {
   "cell_type": "code",
   "execution_count": 45,
   "id": "16865320",
   "metadata": {},
   "outputs": [
    {
     "name": "stdout",
     "output_type": "stream",
     "text": [
      "001\n",
      "000\n",
      "000\n",
      "111111\n",
      "111111\n",
      "111111\n",
      "111000\n",
      "111000\n",
      "111100\n"
     ]
    }
   ],
   "source": [
    "treasure = []\n",
    "the_map = []\n",
    "\n",
    "treasure.append(list(map(int,list(input()))))\n",
    "for _ in range(len(treasure[0])-1):\n",
    "    treasure.append(list(map(int,list(input())))) \n",
    "\n",
    "the_map.append(list(map(int,list(input()))))\n",
    "for _ in range(len(the_map[0])-1):\n",
    "    the_map.append(list(map(int,list(input())))) "
   ]
  },
  {
   "cell_type": "code",
   "execution_count": 46,
   "id": "a263f6fc",
   "metadata": {},
   "outputs": [
    {
     "name": "stdout",
     "output_type": "stream",
     "text": [
      "3 3\n"
     ]
    }
   ],
   "source": [
    "while True:\n",
    "    x = len(treasure)\n",
    "    lst = []\n",
    "    treasure_c = treasure[:]\n",
    "    if find_m2(treasure_c,the_map) != None:\n",
    "        m2,i = find_m2(treasure_c,the_map)\n",
    "        if find_treasure_in_map(treasure_c,m2).count(find_treasure_in_map(treasure_c,m2)[0]) == x:\n",
    "            print(find_treasure_in_map(treasure_c,m2)[0],i)\n",
    "            break\n",
    "        \n",
    "        \n",
    "    lst = []\n",
    "    treasure90 = rotate90(treasure)\n",
    "    treasure90_c = treasure90[:]\n",
    "    if find_m2(treasure90_c,the_map) != None:\n",
    "        m2,i = find_m2(treasure90_c,the_map)\n",
    "        if find_treasure_in_map(treasure90_c,m2).count(find_treasure_in_map(treasure90_c,m2)[0]) == x:\n",
    "            print(find_treasure_in_map(treasure90_c,m2)[0],i)\n",
    "            break\n",
    "\n",
    "    lst = []\n",
    "    treasure180 = rotate90(treasure90)\n",
    "    treasure180_c = treasure180[:]\n",
    "    if find_m2(treasure180_c,the_map) != None:\n",
    "        m2,i = find_m2(treasure180_c,the_map)\n",
    "        if find_treasure_in_map(treasure180_c,m2).count(find_treasure_in_map(treasure180_c,m2)[0]) == x:\n",
    "            print(find_treasure_in_map(treasure180_c,m2)[0],i)\n",
    "            break\n",
    "\n",
    "    lst = []\n",
    "    treasure270 = rotate90(treasure180)\n",
    "    treasure270_c = treasure270[:]\n",
    "    if find_m2(treasure270_c,the_map) != None:\n",
    "        m2,i = find_m2(treasure270_c,the_map)    \n",
    "        if find_treasure_in_map(treasure270_c,m2).count(find_treasure_in_map(treasure270_c,m2)[0]) == x:\n",
    "            print(find_treasure_in_map(treasure270_c,m2)[0],i)\n",
    "            break\n",
    "\n"
   ]
  },
  {
   "cell_type": "markdown",
   "id": "2406c4c3",
   "metadata": {},
   "source": [
    "# "
   ]
  }
 ],
 "metadata": {
  "kernelspec": {
   "display_name": "Python 3",
   "language": "python",
   "name": "python3"
  },
  "language_info": {
   "codemirror_mode": {
    "name": "ipython",
    "version": 3
   },
   "file_extension": ".py",
   "mimetype": "text/x-python",
   "name": "python",
   "nbconvert_exporter": "python",
   "pygments_lexer": "ipython3",
   "version": "3.8.8"
  }
 },
 "nbformat": 4,
 "nbformat_minor": 5
}
