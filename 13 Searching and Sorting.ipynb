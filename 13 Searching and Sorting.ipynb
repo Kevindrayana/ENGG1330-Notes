{
 "cells": [
  {
   "cell_type": "markdown",
   "id": "6bc4aa0f",
   "metadata": {},
   "source": [
    "# Searching\n",
    "finding a specific item within a collection of items"
   ]
  },
  {
   "cell_type": "markdown",
   "id": "35d6ee3f",
   "metadata": {},
   "source": [
    "### Linear Search"
   ]
  },
  {
   "cell_type": "code",
   "execution_count": 1,
   "id": "478b1b43",
   "metadata": {},
   "outputs": [],
   "source": [
    "# linear search (single match, not sorted)\n",
    "## if there is only one match, we can stop\n",
    "def linearsearch(A, item):\n",
    "    for i in range(len(A)):\n",
    "        if A[i] == item:\n",
    "            return i\n",
    "    return -1\n",
    "\n",
    "def linerasearchsinglewhile(A,item):\n",
    "    i = 0\n",
    "    while i < len(A):\n",
    "        if A[i] == item:\n",
    "            return i\n",
    "        i += 1\n",
    "    return -1\n"
   ]
  },
  {
   "cell_type": "code",
   "execution_count": 1,
   "id": "0ca96b67",
   "metadata": {},
   "outputs": [],
   "source": [
    "# linear search (multiple match, not sorted)\n",
    "## if the data is not sorted, we need to scan the entire list\n",
    "def linearsearchmultiple(A,item):\n",
    "    result = []\n",
    "    for i in range(len(A)):\n",
    "        if A[i] == item:\n",
    "            result.append(i)\n",
    "    return result"
   ]
  },
  {
   "cell_type": "code",
   "execution_count": 2,
   "id": "eebc1f87",
   "metadata": {},
   "outputs": [],
   "source": [
    "# linear search (single match, sorted)\n",
    "def orderedlinearsearchsingle(A,item):\n",
    "    for i in range(len(A)):\n",
    "        if A[i] == item:\n",
    "            return i \n",
    "        else:\n",
    "            if item < A[i]:\n",
    "                return -1\n",
    "    return -1"
   ]
  },
  {
   "cell_type": "code",
   "execution_count": 3,
   "id": "f54bf692",
   "metadata": {},
   "outputs": [],
   "source": [
    "# linear search (multiple match, sorted)\n",
    "def orderedlinearsearchsingle(A,item):\n",
    "    result = []\n",
    "    for i in range(len(A)):\n",
    "        if A[i] == item:\n",
    "            result.append(i)  \n",
    "        else:\n",
    "            if item < A[i]:\n",
    "                return -1\n",
    "    return -1"
   ]
  },
  {
   "cell_type": "markdown",
   "id": "a683a9d8",
   "metadata": {},
   "source": [
    "### Binary Search"
   ]
  },
  {
   "cell_type": "code",
   "execution_count": 3,
   "id": "aa486511",
   "metadata": {},
   "outputs": [],
   "source": [
    "# binary search\n",
    "## must be sorted\n",
    "def binarysearch(A,item):\n",
    "    a = 0\n",
    "    b = len(A) - 1\n",
    "    while a <= b: # stopping condition\n",
    "        m = (a+b)//2\n",
    "        if A[m] == item:\n",
    "            return m\n",
    "        else:\n",
    "            if item < A[m]:\n",
    "                b = m-1\n",
    "            else:\n",
    "                a = m+1\n",
    "    return -1"
   ]
  },
  {
   "cell_type": "code",
   "execution_count": 4,
   "id": "56e3f4e2",
   "metadata": {},
   "outputs": [],
   "source": [
    "def binarysearchrecursive(A,a,b,item):\n",
    "    if a > b: # base case\n",
    "        return -1\n",
    "    else: # progress\n",
    "        m = (a + b) // 2\n",
    "        if A[m] == item:\n",
    "            return m\n",
    "        elif A[m] < item:\n",
    "            return binarysearchrecursive(A, m+1, b, item)\n",
    "        elif A[m] > item:\n",
    "            return binarysearchrecursive(A, a, m-1, item)\n",
    "        \n",
    "def binarysearc(A, item):\n",
    "    return binarysearchrecursive(A, 0, len(A), item)"
   ]
  },
  {
   "cell_type": "markdown",
   "id": "cf600be9",
   "metadata": {},
   "source": [
    "# Sorting"
   ]
  },
  {
   "cell_type": "code",
   "execution_count": 6,
   "id": "fa4c2f2d",
   "metadata": {},
   "outputs": [
    {
     "name": "stdout",
     "output_type": "stream",
     "text": [
      "[1, 2, 3, 4, 5, 7, 100]\n"
     ]
    }
   ],
   "source": [
    "#bubble sort\n",
    "## swapping the adjacent elements if they are in the wrong order repeatedly\n",
    "### not efficient\n",
    "def bubblesort(A):\n",
    "    for bubble in range(len(A)-1,0,-1):\n",
    "        for i in range(bubble):\n",
    "            if A[i]>A[i+1]:\n",
    "                A[i], A[i+1] = A[i+1], A[i]\n",
    "                \n",
    "## bringing the largest value to the right\n",
    "\n",
    "A = [1,2,4,5,7,3,100]\n",
    "bubblesort(A)\n",
    "print(A)"
   ]
  },
  {
   "cell_type": "code",
   "execution_count": 7,
   "id": "0eb667cd",
   "metadata": {},
   "outputs": [],
   "source": [
    "#insertion sort\n",
    "## the idea is like sorting card decks in our hand\n",
    "def insertionsort(A):\n",
    "    for i in range(1,len(A)):\n",
    "        key = A[i]\n",
    "        j = i-1\n",
    "        while j >= 0 and key < A[j]:\n",
    "            A[j+1] = A[j]\n",
    "            j -= 1\n",
    "        A[j+1] = key"
   ]
  },
  {
   "cell_type": "code",
   "execution_count": 5,
   "id": "34cf32c0",
   "metadata": {},
   "outputs": [],
   "source": [
    "#selection sort\n",
    "## repeatedly finding the minimum item and putting it at the begining of the list\n",
    "def selectionSort(A):\n",
    "    for i in range(len(A)-1): \n",
    "        m = i\n",
    "        for j in range(i+1, len(A)): \n",
    "            if A[m] > A[j]: \n",
    "                m = j \n",
    "        A[i], A[m] = A[m], A[i] \n"
   ]
  }
 ],
 "metadata": {
  "kernelspec": {
   "display_name": "Python 3",
   "language": "python",
   "name": "python3"
  },
  "language_info": {
   "codemirror_mode": {
    "name": "ipython",
    "version": 3
   },
   "file_extension": ".py",
   "mimetype": "text/x-python",
   "name": "python",
   "nbconvert_exporter": "python",
   "pygments_lexer": "ipython3",
   "version": "3.8.8"
  }
 },
 "nbformat": 4,
 "nbformat_minor": 5
}
