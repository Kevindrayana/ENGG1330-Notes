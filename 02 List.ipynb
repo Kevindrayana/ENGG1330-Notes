{
 "cells": [
  {
   "cell_type": "code",
   "execution_count": 7,
   "id": "b449c66a",
   "metadata": {},
   "outputs": [],
   "source": [
    "# using the insert function\n",
    "my_list.insert(2, \"apple\")"
   ]
  },
  {
   "cell_type": "code",
   "execution_count": 8,
   "id": "bff18edf",
   "metadata": {},
   "outputs": [
    {
     "data": {
      "text/plain": [
       "[1, 2, 'apple', 3, 4, 5]"
      ]
     },
     "execution_count": 8,
     "metadata": {},
     "output_type": "execute_result"
    }
   ],
   "source": [
    "my_list"
   ]
  },
  {
   "cell_type": "code",
   "execution_count": 9,
   "id": "ac22b138",
   "metadata": {},
   "outputs": [],
   "source": [
    "# using the delete function\n",
    "del my_list[2]"
   ]
  },
  {
   "cell_type": "code",
   "execution_count": 10,
   "id": "c498ecf4",
   "metadata": {},
   "outputs": [
    {
     "data": {
      "text/plain": [
       "[1, 2, 3, 4, 5]"
      ]
     },
     "execution_count": 10,
     "metadata": {},
     "output_type": "execute_result"
    }
   ],
   "source": [
    "my_list"
   ]
  },
  {
   "cell_type": "code",
   "execution_count": 3,
   "id": "1959d4e8",
   "metadata": {},
   "outputs": [
    {
     "data": {
      "text/plain": [
       "[2, 3, 1, 2, 3]"
      ]
     },
     "execution_count": 3,
     "metadata": {},
     "output_type": "execute_result"
    }
   ],
   "source": [
    "# using the remove function\n",
    "my_list = [1,2,3,1,2,3]\n",
    "my_list.remove(1) # delete the first occurence of the input in the list\n",
    "my_list"
   ]
  },
  {
   "cell_type": "code",
   "execution_count": 6,
   "id": "0304f549",
   "metadata": {},
   "outputs": [
    {
     "name": "stdout",
     "output_type": "stream",
     "text": [
      "2\n",
      "[1, 3, 1, 2, 3]\n"
     ]
    }
   ],
   "source": [
    "# using the pop function\n",
    "my_list = [1,2,3,1,2,3]\n",
    "print(my_list.pop(1)) # remove index 1 and return it\n",
    "print(my_list)"
   ]
  },
  {
   "cell_type": "code",
   "execution_count": 5,
   "id": "4b1d8338",
   "metadata": {},
   "outputs": [
    {
     "name": "stdout",
     "output_type": "stream",
     "text": [
      "number: 6\n",
      "True\n"
     ]
    }
   ],
   "source": [
    "# prompt the user input\n",
    "num = int(input(\"number: \"))\n",
    "\n",
    "# put the factors in a list\n",
    "lst = []\n",
    "for i in range (1, num):\n",
    "    if num % i == 0:\n",
    "        lst.insert(-1, i)\n",
    "        \n",
    "# calculate the sum of objects inside the list\n",
    "result = 0\n",
    "for j in lst:\n",
    "    result += j\n",
    "    \n",
    "# check if the result is equal to the num\n",
    "print(num == result)"
   ]
  },
  {
   "cell_type": "code",
   "execution_count": 1,
   "id": "b0d158df",
   "metadata": {},
   "outputs": [
    {
     "data": {
      "text/plain": [
       "[4, 2, 3]"
      ]
     },
     "execution_count": 1,
     "metadata": {},
     "output_type": "execute_result"
    }
   ],
   "source": [
    "lst = [1,2,3]\n",
    "lst[0] = 4\n",
    "lst"
   ]
  },
  {
   "cell_type": "markdown",
   "id": "5f8bb8d9",
   "metadata": {},
   "source": [
    "### list mutation"
   ]
  },
  {
   "cell_type": "code",
   "execution_count": 1,
   "id": "f77cbd9b",
   "metadata": {},
   "outputs": [
    {
     "name": "stdout",
     "output_type": "stream",
     "text": [
      "2225076296256\n",
      "2225076296256\n",
      "[1]\n"
     ]
    }
   ],
   "source": [
    "# using the += will not create a new list, like tuple did\n",
    "# += will mutate it\n",
    "lst = []\n",
    "print(id(lst))\n",
    "lst += [1]\n",
    "print(id(lst))\n",
    "print(lst)"
   ]
  },
  {
   "cell_type": "code",
   "execution_count": 4,
   "id": "730ba890",
   "metadata": {},
   "outputs": [
    {
     "name": "stdout",
     "output_type": "stream",
     "text": [
      "2225076583616\n",
      "2225076583616\n",
      "[1, 2, [3, 4]]\n"
     ]
    }
   ],
   "source": [
    "# the same for extend and append\n",
    "l = [1,2]\n",
    "print(id(l))\n",
    "l.append([3,4])\n",
    "print(id(l))\n",
    "print(l)"
   ]
  },
  {
   "cell_type": "code",
   "execution_count": 5,
   "id": "12b740e5",
   "metadata": {},
   "outputs": [
    {
     "name": "stdout",
     "output_type": "stream",
     "text": [
      "2225076858112\n",
      "2225076858112\n",
      "[1, 2, 3, 4]\n"
     ]
    }
   ],
   "source": [
    "l = [1,2]\n",
    "print(id(l))\n",
    "l.extend([3,4])\n",
    "print(id(l))\n",
    "print(l)"
   ]
  },
  {
   "cell_type": "code",
   "execution_count": 1,
   "id": "7e46f26b",
   "metadata": {},
   "outputs": [
    {
     "name": "stdout",
     "output_type": "stream",
     "text": [
      "140664341713216\n",
      "[1, 2, 3, 4]\n",
      "140664341712768\n"
     ]
    }
   ],
   "source": [
    "# using + on list will create a new list\n",
    "l = [1,2]\n",
    "print(id(l))\n",
    "l = l + [3,4]\n",
    "print(l)\n",
    "print(id(l))"
   ]
  },
  {
   "cell_type": "code",
   "execution_count": 1,
   "id": "576a1d92",
   "metadata": {},
   "outputs": [
    {
     "name": "stdout",
     "output_type": "stream",
     "text": [
      "1852768995584\n",
      "1852768995584\n",
      "1852768995584\n"
     ]
    },
    {
     "data": {
      "text/plain": [
       "[]"
      ]
     },
     "execution_count": 1,
     "metadata": {},
     "output_type": "execute_result"
    }
   ],
   "source": [
    "# del and remove function will only mutate the list, not create a new one\n",
    "l = [1,2,3]\n",
    "print(id(l))\n",
    "del l[0:2]\n",
    "print(id(l))\n",
    "l.remove(3)\n",
    "print(id(l))\n",
    "l"
   ]
  },
  {
   "cell_type": "code",
   "execution_count": 5,
   "id": "4a95bd73",
   "metadata": {},
   "outputs": [
    {
     "name": "stdout",
     "output_type": "stream",
     "text": [
      "1852769786752\n",
      "1852769786752\n"
     ]
    }
   ],
   "source": [
    "# alias will only mutate the list\n",
    "a = [1,2,3]\n",
    "b = a \n",
    "print(id(a))\n",
    "print(id(b))"
   ]
  },
  {
   "cell_type": "code",
   "execution_count": 3,
   "id": "b81463bc",
   "metadata": {},
   "outputs": [
    {
     "name": "stdout",
     "output_type": "stream",
     "text": [
      "[2, 3, 4]\n",
      "[2, 3, 4]\n",
      "140464641007552\n",
      "140464641007552\n"
     ]
    }
   ],
   "source": [
    "# sort vs sorted\n",
    "a = [4,2,3]\n",
    "b = a \n",
    "a.sort()\n",
    "print(a)\n",
    "print(b)\n",
    "print(id(a))\n",
    "print(id(b))\n",
    "# sort only mutates the list"
   ]
  },
  {
   "cell_type": "code",
   "execution_count": 10,
   "id": "b84cffc7",
   "metadata": {},
   "outputs": [
    {
     "name": "stdout",
     "output_type": "stream",
     "text": [
      "[2, 3, 4]\n",
      "[4, 2, 3]\n",
      "1852769383424\n",
      "1852769229504\n"
     ]
    }
   ],
   "source": [
    "a = [4,2,3]\n",
    "b = a \n",
    "print(sorted(a))\n",
    "print(b)\n",
    "print(id(sorted(a)))\n",
    "print(id(b))\n",
    "# sorted makes a new list"
   ]
  },
  {
   "cell_type": "code",
   "execution_count": 13,
   "id": "2e84de8d",
   "metadata": {},
   "outputs": [
    {
     "name": "stdout",
     "output_type": "stream",
     "text": [
      "1852769181312\n",
      "1852769181120\n",
      "[1, 2, 3, 4, 5]\n",
      "[1, 'banana', 3, 4, 5]\n"
     ]
    }
   ],
   "source": [
    "# cloning\n",
    "a = [1,2,3,4,5]\n",
    "b = a[:]\n",
    "\n",
    "print(id(a))\n",
    "print(id(b))\n",
    "\n",
    "b[1]= \"banana\"\n",
    "print(a)\n",
    "print(b)"
   ]
  },
  {
   "cell_type": "markdown",
   "id": "d9ca936e",
   "metadata": {},
   "source": [
    "### nested list"
   ]
  },
  {
   "cell_type": "code",
   "execution_count": 16,
   "id": "cddc69cd",
   "metadata": {},
   "outputs": [
    {
     "name": "stdout",
     "output_type": "stream",
     "text": [
      "[1, 'kevin']\n",
      "[3, 4]\n",
      "[1, [1, 'kevin'], [3, 4]]\n",
      "[[1, 'kevin'], [1, [1, 'kevin'], [3, 4]]]\n"
     ]
    }
   ],
   "source": [
    "a = [1,2]\n",
    "b = [3,4]\n",
    "c = [1,a,b]\n",
    "d = [a,c]\n",
    "\n",
    "a[1] = \"kevin\"\n",
    "\n",
    "print(a)\n",
    "print(b)\n",
    "print(c)\n",
    "print(d)\n",
    "# notice that all of the a[1] change to kevin"
   ]
  },
  {
   "cell_type": "code",
   "execution_count": 17,
   "id": "c56f3180",
   "metadata": {},
   "outputs": [
    {
     "name": "stdout",
     "output_type": "stream",
     "text": [
      "[5, 6]\n",
      "[3, 4]\n",
      "[1, [1, 2], [3, 4]]\n",
      "[[1, 2], [1, [1, 2], [3, 4]]]\n"
     ]
    }
   ],
   "source": [
    "a = [1,2]\n",
    "b = [3,4]\n",
    "c = [1,a,b]\n",
    "d = [a,c]\n",
    "\n",
    "a = [5,6] # create a new list\n",
    "\n",
    "print(a)\n",
    "print(b)\n",
    "print(c)\n",
    "print(d)\n",
    "# notice that only the first one change into [5,6]"
   ]
  },
  {
   "cell_type": "code",
   "execution_count": 1,
   "id": "29bb9c70",
   "metadata": {},
   "outputs": [
    {
     "name": "stdout",
     "output_type": "stream",
     "text": [
      "140358326276672\n",
      "[1, 2, [3, 4]]\n",
      "140358326483264\n"
     ]
    }
   ],
   "source": [
    "a = [1,2,[3,4]]\n",
    "print(id(a))\n",
    "b = a[:]\n",
    "print(b)\n",
    "print(id(b))"
   ]
  },
  {
   "cell_type": "markdown",
   "id": "afd31fca",
   "metadata": {},
   "source": [
    "### mutation and iteration"
   ]
  },
  {
   "cell_type": "code",
   "execution_count": 22,
   "id": "62099e61",
   "metadata": {},
   "outputs": [
    {
     "name": "stdout",
     "output_type": "stream",
     "text": [
      "[3, 4] [1, 2, 5, 6]\n"
     ]
    }
   ],
   "source": [
    "def remove_duplicates(l1,l2):\n",
    "    l1copy = l1[:]\n",
    "    for e in l1copy:\n",
    "        if e in l2:\n",
    "            l1.remove(e)\n",
    "            \n",
    "l1 = [1,2,3,4]\n",
    "l2 = [1,2,5,6]\n",
    "\n",
    "remove_duplicates(l1,l2)\n",
    "print(l1,l2)"
   ]
  },
  {
   "cell_type": "code",
   "execution_count": 5,
   "id": "c25baa74",
   "metadata": {},
   "outputs": [
    {
     "name": "stdout",
     "output_type": "stream",
     "text": [
      "1\n",
      "3\n",
      "4\n",
      "[2, 3, 4] [1, 2, 5, 6]\n"
     ]
    }
   ],
   "source": [
    "# note that if you dont make a copy of l1, this code will be a buggy (output not the same as what we expected)\n",
    "def remove_duplicates(l1,l2):\n",
    "    # l1copy = l1[:]\n",
    "    for e in l1:\n",
    "        print(e)\n",
    "        if e in l2:\n",
    "            l1.remove(e)\n",
    "            # print(l1)\n",
    "            \n",
    "l1 = [1,2,3,4]\n",
    "l2 = [1,2,5,6]\n",
    "\n",
    "remove_duplicates(l1,l2)\n",
    "print(l1,l2)"
   ]
  },
  {
   "cell_type": "markdown",
   "id": "411ec142",
   "metadata": {},
   "source": [
    "### list comprehension\n",
    "* provide a concise way to create lists\n",
    "* if consist of brackets containing an expression followed by a for clause, then zero or more for or if clauses\n",
    "* the result will be a new list resulting from evaluating the expression in the context of the for and if clauses which follow it\n",
    "###### LIST COMPREHENSION IS A BIG STRENGTH OF PYTHON, YOU MUST MASTER IT"
   ]
  },
  {
   "cell_type": "code",
   "execution_count": 25,
   "id": "7aaeb652",
   "metadata": {},
   "outputs": [
    {
     "data": {
      "text/plain": [
       "'\\n[expression for item in list if conditional]\\n\\n# the above code equals to:\\nfor item in list:\\n    if conditional:\\n        expression\\n'"
      ]
     },
     "execution_count": 25,
     "metadata": {},
     "output_type": "execute_result"
    }
   ],
   "source": [
    "'''\n",
    "[expression for item in list if conditional]\n",
    "\n",
    "# the above code equals to:\n",
    "for item in list:\n",
    "    if conditional:\n",
    "        expression\n",
    "'''"
   ]
  },
  {
   "cell_type": "code",
   "execution_count": 27,
   "id": "fef8740d",
   "metadata": {},
   "outputs": [
    {
     "data": {
      "text/plain": [
       "[0, 1, 2, 3, 4, 5, 6, 7, 8, 9]"
      ]
     },
     "execution_count": 27,
     "metadata": {},
     "output_type": "execute_result"
    }
   ],
   "source": [
    "[item for item in range(10)]"
   ]
  },
  {
   "cell_type": "code",
   "execution_count": 28,
   "id": "24e52886",
   "metadata": {},
   "outputs": [
    {
     "data": {
      "text/plain": [
       "[0, 2, 4, 6, 8]"
      ]
     },
     "execution_count": 28,
     "metadata": {},
     "output_type": "execute_result"
    }
   ],
   "source": [
    "[item for item in range(10) if item%2 == 0]"
   ]
  },
  {
   "cell_type": "code",
   "execution_count": 29,
   "id": "d64a67ec",
   "metadata": {},
   "outputs": [
    {
     "data": {
      "text/plain": [
       "[0, 4, 16, 36, 64]"
      ]
     },
     "execution_count": 29,
     "metadata": {},
     "output_type": "execute_result"
    }
   ],
   "source": [
    "[item**2 for item in range(10) if item%2 == 0]"
   ]
  },
  {
   "cell_type": "code",
   "execution_count": 3,
   "id": "7730a4ce",
   "metadata": {},
   "outputs": [
    {
     "data": {
      "text/plain": [
       "[6, 1, 1, 3, 2, 5, 4, 1, 3, 0]"
      ]
     },
     "execution_count": 3,
     "metadata": {},
     "output_type": "execute_result"
    }
   ],
   "source": [
    "import random\n",
    "[random.randint(0,9) for _ in range(10)]\n",
    "# in pyhton, we often use variable name _ for variables that we don't use again"
   ]
  },
  {
   "cell_type": "code",
   "execution_count": 4,
   "id": "bed0d203",
   "metadata": {},
   "outputs": [
    {
     "name": "stdout",
     "output_type": "stream",
     "text": [
      "140218750904832\n",
      "[1, 2, 3, 4, 5, 6]\n",
      "140218750904832\n",
      "\n",
      "\n",
      "140219012385024\n",
      "[1, 2, 3, 4, 5, 6]\n",
      "140218750905792\n",
      "\n",
      "\n",
      "140219012385024\n",
      "([1, 2, 3], [4, 5, 6])\n",
      "140218750544128\n",
      "\n",
      "\n"
     ]
    }
   ],
   "source": [
    "# difference between += + and , in list\n",
    "l1 = [1,2,3]\n",
    "l2 = [4,5,6]\n",
    "\n",
    "print(id(l1))\n",
    "l1 += l2\n",
    "print(l1)\n",
    "print(id(l1))\n",
    "print('\\n')\n",
    "# += only mutate the lsit\n",
    "\n",
    "l1 = [1,2,3]\n",
    "l2 = [4,5,6]\n",
    "\n",
    "print(id(l1))\n",
    "l1 = l1 + l2\n",
    "print(l1)\n",
    "print(id(l1))\n",
    "print('\\n')\n",
    "# + creates a new list\n",
    "\n",
    "l1 = [1,2,3]\n",
    "l2 = [4,5,6]\n",
    "\n",
    "print(id(l1))\n",
    "l1 = l1,l2\n",
    "print(l1)\n",
    "print(id(l1))\n",
    "print('\\n')"
   ]
  }
 ],
 "metadata": {
  "kernelspec": {
   "display_name": "Python 3",
   "language": "python",
   "name": "python3"
  },
  "language_info": {
   "codemirror_mode": {
    "name": "ipython",
    "version": 3
   },
   "file_extension": ".py",
   "mimetype": "text/x-python",
   "name": "python",
   "nbconvert_exporter": "python",
   "pygments_lexer": "ipython3",
   "version": "3.8.8"
  }
 },
 "nbformat": 4,
 "nbformat_minor": 5
}
