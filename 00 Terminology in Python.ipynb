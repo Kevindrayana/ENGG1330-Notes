{
 "cells": [
  {
   "cell_type": "markdown",
   "id": "10ada4cb",
   "metadata": {},
   "source": [
    "# TERMINOLOGY"
   ]
  },
  {
   "cell_type": "markdown",
   "id": "156c5b93",
   "metadata": {},
   "source": [
    "LITERALS - raw data in code\n",
    "\n",
    "VARIABLES - store data in memory\n",
    "\n",
    "OPERATORS - special symbols that carry out operations\n",
    "\n",
    "EXPRESSIONS - combine literals and variables to create new values"
   ]
  },
  {
   "cell_type": "code",
   "execution_count": 1,
   "id": "e2bd2163",
   "metadata": {},
   "outputs": [],
   "source": [
    "pi = 3.14\n",
    "diameter = 3\n",
    "area = pi * ((diameter/2)**2)"
   ]
  },
  {
   "cell_type": "markdown",
   "id": "a7e155d9",
   "metadata": {},
   "source": [
    "in the above code,\n",
    "\n",
    "3.14, 3, 2, and 2 are what we call LITERALS\n",
    "\n",
    "pi, diameter, and area are what we call VARIABLES\n",
    "\n",
    "\"+ - / * () [] {}\" = are what we call OPERATORS\n",
    "\n",
    "we combine LITERALS and VARBIABLES with OPERATORS to form EXPRESSIONS"
   ]
  },
  {
   "cell_type": "markdown",
   "id": "81b6c372",
   "metadata": {},
   "source": [
    "## 1. LITERALS\n"
   ]
  },
  {
   "cell_type": "markdown",
   "id": "dfa855ac",
   "metadata": {},
   "source": [
    "### literals have many data types\n",
    "\n",
    "int = 3\n",
    "\n",
    "float = 3.123\n",
    "\n",
    "str = \"Bruce Lee\"\n",
    "\n",
    "bool = True / False\n",
    "\n",
    "ect."
   ]
  },
  {
   "cell_type": "markdown",
   "id": "b36e0cfc",
   "metadata": {},
   "source": [
    "## 2. VARIABLES"
   ]
  },
  {
   "cell_type": "markdown",
   "id": "006a0143",
   "metadata": {},
   "source": [
    " a = 3\n",
    " b = 2.123\n",
    " c = \"Bruce Lee\"\n",
    " d = True\n",
    " \n",
    " ### variables have unique names (identifiers)\n",
    " a,b,c,d are the identifiers\n",
    " \n",
    " ##### meaningful identifiers:\n",
    " you should pick a meaningfull intention revealing identifiers\n",
    " \n",
    " ##### may contain:\n",
    " 1. letters (either in lower or upper case)\n",
    " 2. numbers\n",
    " 3. _ character\n",
    " \n",
    " identifiers can be arbitrary long\n",
    " \n",
    " ##### may not contain\n",
    " 1. begin with a number\n",
    " 2. be a keywords such as True or False (and other pre defined words in python)\n",
    " 3. include characters other than letters, numbers, or _\n",
    " \n",
    " \n",
    " ### variables have a value\n",
    " 3, 2.123, Bruce Lee, True are the values\n",
    " \n"
   ]
  },
  {
   "cell_type": "markdown",
   "id": "e1b3d3c0",
   "metadata": {},
   "source": [
    " #### variables are used to temporarily store a value\n",
    " a variable is like blackboard, we can write a value on it and we can change the value"
   ]
  },
  {
   "cell_type": "code",
   "execution_count": 4,
   "id": "306afbe7",
   "metadata": {},
   "outputs": [
    {
     "name": "stdout",
     "output_type": "stream",
     "text": [
      "you are 18\n"
     ]
    }
   ],
   "source": [
    "age = 18\n",
    "print(\"you are\", age)"
   ]
  },
  {
   "cell_type": "markdown",
   "id": "f69e42db",
   "metadata": {},
   "source": [
    "\"you are\" and 18 are what we call ARGUMENTS"
   ]
  },
  {
   "cell_type": "code",
   "execution_count": 7,
   "id": "a89c065c",
   "metadata": {},
   "outputs": [
    {
     "name": "stdout",
     "output_type": "stream",
     "text": [
      "you are  19  soon\n"
     ]
    }
   ],
   "source": [
    "age = age + 1\n",
    "print(\"you are \",age, \" soon\")"
   ]
  },
  {
   "cell_type": "markdown",
   "id": "df25e621",
   "metadata": {},
   "source": [
    "## 3. OPERATORS\n",
    "help us carry on operation and define relationships between data\n",
    "\n",
    "what we operate is called an OPERAND\n",
    "\n",
    "### 3.1 ARITHMETIC\n",
    "* \\+ = addition\n",
    "\n",
    "* \\- = substraction\n",
    "\n",
    "* \\* = multiplication\n",
    "\n",
    "* / = division\n",
    "\n",
    "* % = modulo\n",
    "\n",
    "* ** = exponent\n",
    "\n",
    "* // = floor division\n"
   ]
  },
  {
   "cell_type": "markdown",
   "id": "c8502e4f",
   "metadata": {},
   "source": [
    "### 3.2 ASIGNMENT\n",
    "\n",
    "\" = \" = assignment\n",
    "\n",
    "\" += \" = addition and assignment (x += 1 equals to x = x + 1)\n",
    "\n",
    "\" -= \" = subtraction and assignment\n",
    "\n",
    "\" *= \" = multiplication and assignment\n",
    "\n",
    "\" /= \" = division and assignment\n",
    "\n",
    "\" %= \" = modulo and assignment\n",
    "\n",
    "\" **= \" = exponent and assignment\n",
    "\n",
    "\" //= \" = floor division and assignment\n"
   ]
  },
  {
   "cell_type": "markdown",
   "id": "25497751",
   "metadata": {},
   "source": [
    "### 3.3 BOOLEAN & COMPARISONS\n",
    "#### Boolean\n",
    "1. True == 1 (True is represented by number >= 1)\n",
    "2. False == 0  (False is represented by number 0)\n",
    "\n",
    "#### Boolean Operaors\n",
    "1. not\n",
    "2. or\n",
    "3. and\n",
    "\n",
    "#### Comparison Operators\n",
    "1. \"==\" \n",
    "2. \"!=\"\n",
    "3. \">\"\n",
    "4. \">=\"\n",
    "5. \"<\"\n",
    "6. \"<=\""
   ]
  },
  {
   "cell_type": "markdown",
   "id": "e8c6effc",
   "metadata": {},
   "source": [
    "### IF ELSE\n",
    "\n",
    "#### if statement\n",
    "to control the flow of statements so we can skip some line of codes\n",
    "\n",
    "#### if and else statement\n",
    "to make a simple branching action"
   ]
  },
  {
   "cell_type": "markdown",
   "id": "f659ece4",
   "metadata": {},
   "source": [
    "# 4. EXPRESSIONS\n",
    "#### evaluation order\n",
    "* expressions are evaluated from left to right\n",
    "* HERE ARE LIST OF PRECEDENCE FROM THE LOWEST(LEAST BINDING) TO THE HIGHEST(MOST BINDING):\n",
    "\n",
    "1. or\n",
    "2. and\n",
    "3. not x\n",
    "4. <, >, <=, >=, !=, ==\n",
    "5. +,- \n",
    "6. *, /, //, %\n",
    "7. +x , -x\n",
    "8. \\**\n",
    "9. x[index]\n",
    "10. (...)\n",
    "\n",
    "* python will execute from the highest precedence(most binding) to the lowest precedence (least binding)  \n",
    "* make use of the () if you forget the precedence"
   ]
  },
  {
   "cell_type": "markdown",
   "id": "973f2290",
   "metadata": {},
   "source": [
    "# CASTING AND SQUARE BRACKET OPERATOR\n",
    "### CASTING\n",
    "to specify the data type of a variable x, you need to use the following built in constructors\n",
    "1. int(x)\n",
    "2. str(x)\n",
    "3. float(x)\n",
    "\n",
    "### SQUARE BRACKET OPERATOR\n",
    "characters in a string can be accessed using the [] operator\n",
    "python uses the zero-based indexing"
   ]
  }
 ],
 "metadata": {
  "kernelspec": {
   "display_name": "Python 3",
   "language": "python",
   "name": "python3"
  },
  "language_info": {
   "codemirror_mode": {
    "name": "ipython",
    "version": 3
   },
   "file_extension": ".py",
   "mimetype": "text/x-python",
   "name": "python",
   "nbconvert_exporter": "python",
   "pygments_lexer": "ipython3",
   "version": "3.8.8"
  }
 },
 "nbformat": 4,
 "nbformat_minor": 5
}
