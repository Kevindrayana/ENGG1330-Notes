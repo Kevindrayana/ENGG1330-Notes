{
 "cells": [
  {
   "cell_type": "code",
   "execution_count": 14,
   "id": "46e58ed3",
   "metadata": {},
   "outputs": [
    {
     "name": "stdout",
     "output_type": "stream",
     "text": [
      "10\n",
      "yes\n"
     ]
    }
   ],
   "source": [
    "x = int(input())\n",
    "i = 0\n",
    "while 2**i<x:\n",
    "    i+=1\n",
    "\n",
    "j = 0\n",
    "while 3**j<x:\n",
    "    j += 1\n",
    "\n",
    "#print(i,j)\n",
    "\n",
    "if (abs(x-2**i)<42 or abs(x-2**(i-1))<42) and (abs(x-3**j)<42 or abs(x-3**(j-1))<42):\n",
    "    print(\"yes\")\n",
    "else:\n",
    "    print(\"no\")"
   ]
  },
  {
   "cell_type": "code",
   "execution_count": 20,
   "id": "afe2a044",
   "metadata": {},
   "outputs": [
    {
     "name": "stdout",
     "output_type": "stream",
     "text": [
      "1\n",
      "10\n",
      "[2, 3, 5, 7]\n",
      "cool\n"
     ]
    }
   ],
   "source": [
    "def check_prime(num):\n",
    "    counter = 0\n",
    "    for i in range(1,num+1):\n",
    "        if num % i == 0:\n",
    "            counter += 1\n",
    "    if counter == 2:\n",
    "        return True\n",
    "        \n",
    "x = int(input())\n",
    "y = int(input())\n",
    "\n",
    "if y < x:\n",
    "    x,y = y,x\n",
    "\n",
    "result = []\n",
    "for num in range(x+1,y):\n",
    "    if check_prime(num):\n",
    "        result.append(num)\n",
    "        \n",
    "print(result)\n",
    "if len(result) % 2 == 0:\n",
    "    print(\"cool\")\n",
    "else:\n",
    "    print(\"not cool\")"
   ]
  }
 ],
 "metadata": {
  "kernelspec": {
   "display_name": "Python 3",
   "language": "python",
   "name": "python3"
  },
  "language_info": {
   "codemirror_mode": {
    "name": "ipython",
    "version": 3
   },
   "file_extension": ".py",
   "mimetype": "text/x-python",
   "name": "python",
   "nbconvert_exporter": "python",
   "pygments_lexer": "ipython3",
   "version": "3.8.8"
  }
 },
 "nbformat": 4,
 "nbformat_minor": 5
}
