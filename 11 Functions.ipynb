{
 "cells": [
  {
   "cell_type": "markdown",
   "id": "6b585706",
   "metadata": {},
   "source": [
    "# divide and conquer\n",
    "* a good way to design a program is to BREAK DOWN the task into few SUB-TASKS\n",
    "* each sub-task can be further decomposed into smaller sub tasks and this process is repeated until all sub-tasks are small enough that their implementations become manageable\n",
    "* a powerful problem solving skill in all majors\n",
    "* DO PLANNING (think about the input and output), we udentify the\n",
    "1. input(s) - translates function arguments / parameters\n",
    "2. the objective of the sub-task (but not the process of how the task is done)\n",
    "3. output(s) - return statement"
   ]
  },
  {
   "cell_type": "code",
   "execution_count": 8,
   "id": "4479bb1c",
   "metadata": {},
   "outputs": [],
   "source": [
    "# bmi\n",
    "# first step: read in height and weight of user\n",
    "def calculate_bmi(height,weight):\n",
    "# second step: calculate the BMI\n",
    "    bmi = weight / (height*height)\n",
    "# third step output the category based on the BMI\n",
    "    return bmi"
   ]
  },
  {
   "cell_type": "markdown",
   "id": "1f65935c",
   "metadata": {},
   "source": [
    "# The main() function\n",
    "a good programming practice\n",
    "\n",
    "starting logic to go on and call other function as needed"
   ]
  },
  {
   "cell_type": "code",
   "execution_count": 11,
   "id": "130b8d7b",
   "metadata": {},
   "outputs": [],
   "source": [
    "def main():\n",
    "    height = float(input('height: '))\n",
    "    weight = float(input('weight: '))\n",
    "    bmi = calculate_bmi(height,weight)\n",
    "    print(print('The BMI Value is:', bmi))"
   ]
  },
  {
   "cell_type": "code",
   "execution_count": 12,
   "id": "7c15a3e3",
   "metadata": {},
   "outputs": [
    {
     "name": "stdout",
     "output_type": "stream",
     "text": [
      "height: 1.75\n",
      "weight: 70\n",
      "The BMI Value is: 22.857142857142858\n",
      "None\n"
     ]
    }
   ],
   "source": [
    "main()"
   ]
  },
  {
   "cell_type": "markdown",
   "id": "9e7a71c9",
   "metadata": {},
   "source": [
    "# local vs global variable\n",
    "PRIVATE/LOCAL\n",
    "* variable declared within a function, including input arguments, are private or local to that particular function, i.e. no other function can have direct access to them\n",
    "* local variables in a function come into existence only when the function is called, and disappear when the function is ended / returned\n",
    "* local variables declared within the same function must have unique names, whereas local variables of different functions may use the same name\n",
    "\n",
    "GLOBAL\n",
    "* variables declared outside all functions that can be accessed by all functions\n",
    "* remain in existence permanently - retain their values even after the functions that set them habe returned\n",
    "* the values of global variables can be changed by several functions\n",
    "* SELDOMLY USED BY PROFESSIONAL PROGRAMMERS as it can be modified by many functions and is very hard to trace"
   ]
  },
  {
   "cell_type": "markdown",
   "id": "999e8c23",
   "metadata": {},
   "source": [
    "# return\n",
    "* only get the value and copying back to the function callers\n",
    "* if a function returns a value then a call to such a function can be used as an operand in any expression on the program\n",
    "* if an immutable object has to be updated in a function, we will use return statement to rturn the updated value back to the function caller and update the original variable\n",
    "* to return multiple values from a function, just specify each value seperated by comma(,) after return keyword\n",
    "* functions can return None"
   ]
  },
  {
   "cell_type": "markdown",
   "id": "aec591ba",
   "metadata": {},
   "source": [
    "# global keyword"
   ]
  },
  {
   "cell_type": "code",
   "execution_count": 17,
   "id": "14017390",
   "metadata": {},
   "outputs": [
    {
     "name": "stdout",
     "output_type": "stream",
     "text": [
      "0\n",
      "22.857142857142858\n"
     ]
    }
   ],
   "source": [
    "# global keyword\n",
    "bmi = 0\n",
    "def calculate_bmi (height, weight):\n",
    "    global bmi\n",
    "    bmi = weight / (height**2)\n",
    "    \n",
    "print(bmi)\n",
    "      \n",
    "calculate_bmi(1.75, 70)\n",
    "print(bmi)"
   ]
  },
  {
   "cell_type": "code",
   "execution_count": 18,
   "id": "721c4ca5",
   "metadata": {},
   "outputs": [
    {
     "name": "stdout",
     "output_type": "stream",
     "text": [
      "100\n"
     ]
    }
   ],
   "source": [
    "# another ex\n",
    "n = 100\n",
    "def f1():\n",
    "    n= 10\n",
    "def f2():\n",
    "    print(n)\n",
    "    \n",
    "f1()\n",
    "f2()"
   ]
  },
  {
   "cell_type": "code",
   "execution_count": 19,
   "id": "4ee40669",
   "metadata": {},
   "outputs": [
    {
     "name": "stdout",
     "output_type": "stream",
     "text": [
      "10\n"
     ]
    }
   ],
   "source": [
    "n = 100\n",
    "def f1():\n",
    "    global n \n",
    "    n= 10\n",
    "def f2():\n",
    "    print(n)\n",
    "    \n",
    "f1()\n",
    "f2()"
   ]
  },
  {
   "cell_type": "code",
   "execution_count": 31,
   "id": "4e15a9d5",
   "metadata": {},
   "outputs": [
    {
     "name": "stdout",
     "output_type": "stream",
     "text": [
      "22.857142857142858\n"
     ]
    }
   ],
   "source": [
    "# default, positional, and keyword argument\n",
    "# DEFAULT\n",
    "def calculate_bmi(height = 1.75, weight = 70):\n",
    "    bmi = weight / (height**2)\n",
    "    return bmi\n",
    "\n",
    "def main():\n",
    "    bmi = calculate_bmi()\n",
    "    print(bmi)\n",
    "main()\n"
   ]
  },
  {
   "cell_type": "code",
   "execution_count": 2,
   "id": "951ec9be",
   "metadata": {},
   "outputs": [
    {
     "name": "stdout",
     "output_type": "stream",
     "text": [
      "2021-12-07 14:46:22.597377\n",
      "2021-12-07 14:46:22.597377\n",
      "2021-12-07 14:46:22.597377\n",
      "2021-12-07 14:46:22.597377\n",
      "2021-12-07 14:46:22.597377\n"
     ]
    }
   ],
   "source": [
    "## note that default arguments are evaluated at definition time, not funciton run time\n",
    "import datetime\n",
    "\n",
    "def greeting(time = datetime.datetime.now()):\n",
    "    print(time)\n",
    "    \n",
    "def main():\n",
    "    for i in range(5):\n",
    "        greeting()\n",
    "\n",
    "main() # realize that the time is always constant, not like what we wanted"
   ]
  },
  {
   "cell_type": "code",
   "execution_count": 3,
   "id": "c0979c6c",
   "metadata": {},
   "outputs": [
    {
     "name": "stdout",
     "output_type": "stream",
     "text": [
      "2021-12-07 14:46:22.998222\n",
      "2021-12-07 14:46:22.998512\n",
      "2021-12-07 14:46:22.998543\n",
      "2021-12-07 14:46:22.998573\n",
      "2021-12-07 14:46:22.998600\n"
     ]
    }
   ],
   "source": [
    "def greeting(time = None):\n",
    "    if time == None:\n",
    "        time = datetime.datetime.now()\n",
    "    print(time)\n",
    "    \n",
    "def main():\n",
    "    for i in range(5):\n",
    "        greeting()\n",
    "\n",
    "main()"
   ]
  },
  {
   "cell_type": "code",
   "execution_count": 34,
   "id": "d73e0f33",
   "metadata": {},
   "outputs": [
    {
     "name": "stdout",
     "output_type": "stream",
     "text": [
      "Student 1234325 Kit from Engineering computer science\n",
      "Student 210341234 Ben from None CE\n",
      "Student 20341234 Marry from Science Mathematics\n"
     ]
    }
   ],
   "source": [
    "# another ex:\n",
    "def student(name,uid,faculty= 'Engineering', dpt= 'computer science'):\n",
    "    print('Student', uid, name, \"from\", faculty,dpt)\n",
    "    \n",
    "def main():\n",
    "    student(\"Kit\", 1234325)\n",
    "    student(\"Ben\", 210341234, None, \"CE\")\n",
    "    student(\"Marry\", 20341234, \"Science\", \"Mathematics\")\n",
    "main()\n",
    "# realize that ben has strange output"
   ]
  },
  {
   "cell_type": "code",
   "execution_count": 35,
   "id": "0be14feb",
   "metadata": {},
   "outputs": [
    {
     "name": "stdout",
     "output_type": "stream",
     "text": [
      "Student 1234325 Kit from Engineering Computer Science\n",
      "Student 210341234 Ben from Engineering CE\n",
      "Student 20341234 Marry from Science Mathematics\n"
     ]
    }
   ],
   "source": [
    "def student(name,uid,faculty= None, dpt= None):\n",
    "    if faculty == None:\n",
    "        faculty = \"Engineering\"\n",
    "    if dpt == None:\n",
    "        dpt = \"Computer Science\"\n",
    "    print('Student', uid, name, \"from\", faculty,dpt)\n",
    "    \n",
    "def main():\n",
    "    student(\"Kit\", 1234325)\n",
    "    student(\"Ben\", 210341234, None, \"CE\")\n",
    "    student(\"Marry\", 20341234, \"Science\", \"Mathematics\")\n",
    "main()"
   ]
  },
  {
   "cell_type": "code",
   "execution_count": 39,
   "id": "27244958",
   "metadata": {},
   "outputs": [
    {
     "name": "stdout",
     "output_type": "stream",
     "text": [
      "22.857142857142858\n"
     ]
    }
   ],
   "source": [
    "#keyword argument\n",
    "## when calling a function, we can also associate the argument name and the value instead of following the order of the arguments\n",
    "\n",
    "def calculate_bmi(height, weight):\n",
    "    bmi = weight / (height**2)\n",
    "    return bmi\n",
    "\n",
    "def main():\n",
    "    bmi = calculate_bmi(weight = 70, height = 1.75) # relaize the order is reversed but it still can work\n",
    "    print(bmi)\n",
    "    \n",
    "main()"
   ]
  },
  {
   "cell_type": "code",
   "execution_count": 43,
   "id": "6176dc17",
   "metadata": {},
   "outputs": [
    {
     "ename": "SyntaxError",
     "evalue": "positional argument follows keyword argument (<ipython-input-43-1f5b5a78a830>, line 11)",
     "output_type": "error",
     "traceback": [
      "\u001b[0;36m  File \u001b[0;32m\"<ipython-input-43-1f5b5a78a830>\"\u001b[0;36m, line \u001b[0;32m11\u001b[0m\n\u001b[0;31m    student(name = \"Kate\", 2018555, None, None)\u001b[0m\n\u001b[0m                           ^\u001b[0m\n\u001b[0;31mSyntaxError\u001b[0m\u001b[0;31m:\u001b[0m positional argument follows keyword argument\n"
     ]
    }
   ],
   "source": [
    "# mixing positional and keyword argument\n",
    "# positional arguments cannot follow keyowrd arguments\n",
    "def student(name,uid,faculty= None, dpt= None):\n",
    "    if faculty == None:\n",
    "        faculty = \"Engineering\"\n",
    "    if dpt == None:\n",
    "        dpt = \"Computer Science\"\n",
    "    print('Student', uid, name, \"from\", faculty,dpt)\n",
    "\n",
    "def main():\n",
    "    student(name = \"Kate\", 2018555, None, None)\n",
    "    \n",
    "main()"
   ]
  },
  {
   "cell_type": "code",
   "execution_count": 44,
   "id": "dc0513c2",
   "metadata": {},
   "outputs": [
    {
     "name": "stdout",
     "output_type": "stream",
     "text": [
      "Student 2018444 Justin from science Actuarial Science\n"
     ]
    }
   ],
   "source": [
    "# but keyword argunent can follow positional argument\n",
    "def main():\n",
    "    student(\"Justin\", dpt = 'Actuarial Science', faculty=\"science\", uid = 2018444)\n",
    "main()"
   ]
  },
  {
   "cell_type": "markdown",
   "id": "bc45e79b",
   "metadata": {},
   "source": [
    "# PASSING IMMUTABLE & MUTABLE OBJECTS\n",
    "## mutable and imutable"
   ]
  },
  {
   "cell_type": "code",
   "execution_count": 45,
   "id": "4d21865d",
   "metadata": {},
   "outputs": [],
   "source": [
    "#variable, object, value, and reference\n",
    "a = 10 \n",
    "# a is a variable\n",
    "# 10 is an int object\n",
    "# with the (=) sign, the variable (a) references to an int object, that has a value (10)\n"
   ]
  },
  {
   "cell_type": "code",
   "execution_count": 50,
   "id": "2e66117d",
   "metadata": {},
   "outputs": [
    {
     "name": "stdout",
     "output_type": "stream",
     "text": [
      "n 4333218144 1\n",
      "n 4333218176 2\n",
      "m 4333218176 2\n",
      "m 4333218208 3\n"
     ]
    }
   ],
   "source": [
    "# verify int immutability\n",
    "def main():\n",
    "    n = 1\n",
    "    print('n', id(n), n)\n",
    "    n = 2\n",
    "    print('n', id(n), n)\n",
    "    m = n\n",
    "    print('m', id(m), m) # alias\n",
    "    m = 3\n",
    "    print('m', id(m), m)\n",
    "main()"
   ]
  },
  {
   "cell_type": "code",
   "execution_count": 56,
   "id": "e47d670d",
   "metadata": {},
   "outputs": [
    {
     "name": "stdout",
     "output_type": "stream",
     "text": [
      "a 140300354057008 Kit\n",
      "b 140300354057008 Kit\n",
      "a 140300354059888 Kitty\n",
      "a 140300347229168 KittyKit\n",
      "a 140300354037360 KittyKitKit\n"
     ]
    }
   ],
   "source": [
    "# verify str immutability\n",
    "def main():\n",
    "    a = 'Kit'\n",
    "    print('a', id(a),a)\n",
    "    b = 'Kit'\n",
    "    print('b', id(b), b)\n",
    "    a = 'Kitty'\n",
    "    print('a', id(a),a)\n",
    "    a = a+b\n",
    "    print('a', id(a),a)\n",
    "    a += b\n",
    "    print('a', id(a),a)\n",
    "main()"
   ]
  },
  {
   "cell_type": "code",
   "execution_count": 58,
   "id": "29b35b43",
   "metadata": {},
   "outputs": [
    {
     "name": "stdout",
     "output_type": "stream",
     "text": [
      "a 140300354870848 [1, 2, 3]\n",
      "a 140300354870848 [4, 2, 3]\n",
      "b 140300354870848 [4, 2, 3]\n",
      "a 140300354870848 [4, 2, 5]\n",
      "b 140300354870848 [4, 2, 5]\n",
      "a 140300354870848 [4, 2, 5]\n",
      "b 140300348306944 [4, 2, 5]\n"
     ]
    }
   ],
   "source": [
    "# verify list mutability\n",
    "def main():\n",
    "    a = [1,2,3]\n",
    "    print('a', id(a), a)\n",
    "    a[0] = 4\n",
    "    print('a', id(a), a)\n",
    "    b = a\n",
    "    print('b', id(b), b)\n",
    "    b[2] = 5\n",
    "    print('a', id(a), a)\n",
    "    print('b', id(b), b)\n",
    "    b = [4,2,5]\n",
    "    print('a', id(a), a)\n",
    "    print('b', id(b), b) # new list obj\n",
    "main()"
   ]
  },
  {
   "cell_type": "code",
   "execution_count": 61,
   "id": "bff13fbe",
   "metadata": {},
   "outputs": [
    {
     "name": "stdout",
     "output_type": "stream",
     "text": [
      "a 140300352764544 (1, 2, 3)\n"
     ]
    },
    {
     "ename": "TypeError",
     "evalue": "'tuple' object does not support item assignment",
     "output_type": "error",
     "traceback": [
      "\u001b[0;31m---------------------------------------------------------------------------\u001b[0m",
      "\u001b[0;31mTypeError\u001b[0m                                 Traceback (most recent call last)",
      "\u001b[0;32m<ipython-input-61-d0f65ca66884>\u001b[0m in \u001b[0;36m<module>\u001b[0;34m\u001b[0m\n\u001b[1;32m      5\u001b[0m     \u001b[0ma\u001b[0m\u001b[0;34m[\u001b[0m\u001b[0;36m0\u001b[0m\u001b[0;34m]\u001b[0m \u001b[0;34m=\u001b[0m \u001b[0;36m4\u001b[0m\u001b[0;34m\u001b[0m\u001b[0;34m\u001b[0m\u001b[0m\n\u001b[1;32m      6\u001b[0m \u001b[0;34m\u001b[0m\u001b[0m\n\u001b[0;32m----> 7\u001b[0;31m \u001b[0mmain\u001b[0m\u001b[0;34m(\u001b[0m\u001b[0;34m)\u001b[0m\u001b[0;34m\u001b[0m\u001b[0;34m\u001b[0m\u001b[0m\n\u001b[0m",
      "\u001b[0;32m<ipython-input-61-d0f65ca66884>\u001b[0m in \u001b[0;36mmain\u001b[0;34m()\u001b[0m\n\u001b[1;32m      3\u001b[0m     \u001b[0ma\u001b[0m \u001b[0;34m=\u001b[0m \u001b[0;34m(\u001b[0m\u001b[0;36m1\u001b[0m\u001b[0;34m,\u001b[0m\u001b[0;36m2\u001b[0m\u001b[0;34m,\u001b[0m\u001b[0;36m3\u001b[0m\u001b[0;34m)\u001b[0m\u001b[0;34m\u001b[0m\u001b[0;34m\u001b[0m\u001b[0m\n\u001b[1;32m      4\u001b[0m     \u001b[0mprint\u001b[0m\u001b[0;34m(\u001b[0m\u001b[0;34m'a'\u001b[0m\u001b[0;34m,\u001b[0m \u001b[0mid\u001b[0m\u001b[0;34m(\u001b[0m\u001b[0ma\u001b[0m\u001b[0;34m)\u001b[0m\u001b[0;34m,\u001b[0m \u001b[0ma\u001b[0m\u001b[0;34m)\u001b[0m\u001b[0;34m\u001b[0m\u001b[0;34m\u001b[0m\u001b[0m\n\u001b[0;32m----> 5\u001b[0;31m     \u001b[0ma\u001b[0m\u001b[0;34m[\u001b[0m\u001b[0;36m0\u001b[0m\u001b[0;34m]\u001b[0m \u001b[0;34m=\u001b[0m \u001b[0;36m4\u001b[0m\u001b[0;34m\u001b[0m\u001b[0;34m\u001b[0m\u001b[0m\n\u001b[0m\u001b[1;32m      6\u001b[0m \u001b[0;34m\u001b[0m\u001b[0m\n\u001b[1;32m      7\u001b[0m \u001b[0mmain\u001b[0m\u001b[0;34m(\u001b[0m\u001b[0;34m)\u001b[0m\u001b[0;34m\u001b[0m\u001b[0;34m\u001b[0m\u001b[0m\n",
      "\u001b[0;31mTypeError\u001b[0m: 'tuple' object does not support item assignment"
     ]
    }
   ],
   "source": [
    "# verify tuple immutability\n",
    "def main():\n",
    "    a = (1,2,3)\n",
    "    print('a', id(a), a)\n",
    "    a[0] = 4\n",
    "    \n",
    "main()"
   ]
  },
  {
   "cell_type": "code",
   "execution_count": 64,
   "id": "a6ea9b66",
   "metadata": {},
   "outputs": [
    {
     "name": "stdout",
     "output_type": "stream",
     "text": [
      "in main(): n before update 4333218432 10\n",
      "in update(): n before += 4333218432 10\n",
      "in update(): n after += 4333219072 30\n",
      "in main(): n after update 4333218432 10\n"
     ]
    }
   ],
   "source": [
    "#passing immutable objects in function\n",
    "def update(n):\n",
    "    print('in update(): n before +=', id(n), n)\n",
    "    n += 20\n",
    "    print('in update(): n after +=',id(n), n)\n",
    "def main():\n",
    "    n = 10\n",
    "    print('in main(): n before update', id(n), n)\n",
    "    update(n)\n",
    "    print(\"in main(): n after update\", id(n), n)\n",
    "    \n",
    "main()"
   ]
  },
  {
   "cell_type": "code",
   "execution_count": 67,
   "id": "eddfe1a7",
   "metadata": {},
   "outputs": [
    {
     "name": "stdout",
     "output_type": "stream",
     "text": [
      "the original salary is 2000\n",
      "the new salary is 2100.0\n"
     ]
    }
   ],
   "source": [
    "# updating an immutable object using return statement\n",
    "def salary_adjust(sal):\n",
    "    sal *= 1.05\n",
    "    return sal\n",
    "def main():\n",
    "    salary = 2000\n",
    "    print(\"the original salary is\", salary)\n",
    "    salary = salary_adjust(salary)\n",
    "    print('the new salary is', salary)\n",
    "    \n",
    "main()"
   ]
  },
  {
   "cell_type": "code",
   "execution_count": 69,
   "id": "6c183a6a",
   "metadata": {},
   "outputs": [
    {
     "name": "stdout",
     "output_type": "stream",
     "text": [
      "140300347682240 [1, 2]\n",
      "140300347682240 [1, 2]\n",
      "140300347682240 [1, 2, 3]\n",
      "140300347682240 [1, 2, 3]\n"
     ]
    }
   ],
   "source": [
    "# updating a mutable object (without return statement)(we call it in-place update)\n",
    "def update(n):\n",
    "    print(id(n),n)\n",
    "    n.append(3)\n",
    "    print(id(n),n)\n",
    "    \n",
    "def main():\n",
    "    n = [1,2]\n",
    "    print(id(n),n)\n",
    "    update(n)\n",
    "    print(id(n),n)\n",
    "    \n",
    "main()"
   ]
  },
  {
   "cell_type": "code",
   "execution_count": 71,
   "id": "9645ba63",
   "metadata": {},
   "outputs": [
    {
     "name": "stdout",
     "output_type": "stream",
     "text": [
      "140300355129792 [1, 2]\n",
      "140300355129792 [1, 2]\n",
      "140300355129792 [1, 2, 3, 4]\n",
      "140300355129792 [1, 2, 3, 4]\n"
     ]
    }
   ],
   "source": [
    "def update(n):\n",
    "    print(id(n),n)\n",
    "    n.extend([3,4])\n",
    "    print(id(n),n)\n",
    "    \n",
    "def main():\n",
    "    n = [1,2]\n",
    "    print(id(n),n)\n",
    "    update(n)\n",
    "    print(id(n),n)\n",
    "    \n",
    "main()"
   ]
  },
  {
   "cell_type": "code",
   "execution_count": 6,
   "id": "b5a22048",
   "metadata": {},
   "outputs": [
    {
     "name": "stdout",
     "output_type": "stream",
     "text": [
      "140206006330368 [1, 2]\n",
      "140206006330368 [1, 2]\n",
      "140206006330368 [1, 2, [3, 4]]\n",
      "140206006330368 [1, 2, [3, 4]]\n"
     ]
    }
   ],
   "source": [
    "def update(n):\n",
    "    print(id(n),n)\n",
    "    n.append([3,4])\n",
    "    print(id(n),n)\n",
    "    \n",
    "def main():\n",
    "    n = [1,2]\n",
    "    print(id(n),n)\n",
    "    update(n)\n",
    "    print(id(n),n)\n",
    "    \n",
    "main()"
   ]
  },
  {
   "cell_type": "code",
   "execution_count": 73,
   "id": "f2ef69a3",
   "metadata": {},
   "outputs": [
    {
     "name": "stdout",
     "output_type": "stream",
     "text": [
      "140300357138624 [1, 2]\n",
      "140300357138624 [1, 2]\n",
      "140300357139328 [1, 2, 3, 4]\n",
      "140300357138624 [1, 2]\n"
     ]
    }
   ],
   "source": [
    "def update(n): # NOT IN-PLACE UPDATE\n",
    "    print(id(n),n)\n",
    "    n=n+[3,4]\n",
    "    print(id(n),n)\n",
    "    \n",
    "def main():\n",
    "    n = [1,2]\n",
    "    print(id(n),n)\n",
    "    update(n)\n",
    "    print(id(n),n)\n",
    "    \n",
    "main()"
   ]
  },
  {
   "cell_type": "code",
   "execution_count": 10,
   "id": "85cf2c62",
   "metadata": {},
   "outputs": [
    {
     "name": "stdout",
     "output_type": "stream",
     "text": [
      "in main(): team before 140206005988544 ['Kitty', 'Dirk', 'Kevin']\n",
      "in rename(): t before 140206005988544 ['Kitty', 'Dirk', 'Kevin']\n",
      "in rename(): t after 140206005988544 ['Kit', 'Dirk', 'Kevin']\n",
      "in main(): team after 140206005988544 ['Kit', 'Dirk', 'Kevin']\n"
     ]
    }
   ],
   "source": [
    "def rename(t, oldname, newname):\n",
    "    print('in rename(): t before' , id(t),t)\n",
    "    for i,name in enumerate(t):\n",
    "        if name == oldname:\n",
    "            t[i] = newname\n",
    "    print('in rename(): t after', id(t),t)\n",
    "    \n",
    "def main():\n",
    "    team = ['Kitty','Dirk', 'Kevin']\n",
    "    print('in main(): team before', id(team), team)\n",
    "    rename(team, 'Kitty', 'Kit')\n",
    "    print('in main(): team after', id(team), team)\n",
    "main()\n"
   ]
  },
  {
   "cell_type": "markdown",
   "id": "8b2e8a32",
   "metadata": {},
   "source": [
    "# SUMMARY\n",
    "passing immutable objects (int, float, bool, str, tuple) to function, even the object is updated in function, the original object will not be updated\n",
    "* however, you need to, RETURN the updated object back to function caller and update the original object in the function caller\n",
    "passing mutable objects (list,set, dict) to function, if the object is in-place updated in function, the original object will also be updated\n"
   ]
  },
  {
   "cell_type": "code",
   "execution_count": 78,
   "id": "7831597e",
   "metadata": {},
   "outputs": [
    {
     "name": "stdout",
     "output_type": "stream",
     "text": [
      "in main(): salary before 140300353088704 [10000, 20000, 30000]\n",
      "in raisesalary(): sal before 140300353088704 [10000, 20000, 30000]\n",
      "in raisesalary(): sal after 140300353088704 [10000, 20000, 30000]\n",
      "in main(): salart after 140300353088704 [10000, 20000, 30000]\n"
     ]
    }
   ],
   "source": [
    "# checkpoint\n",
    "def raisesalary(sal,percentage = 1.1):\n",
    "    print('in raisesalary(): sal before', id(sal), sal)\n",
    "    for s in sal:\n",
    "        s *= percentage\n",
    "    print('in raisesalary(): sal after', id(sal), sal)\n",
    "    \n",
    "def main():\n",
    "    salary = [10000,20000,30000]\n",
    "    print('in main(): salary before', id(salary), salary)\n",
    "    raisesalary(salary)\n",
    "    print('in main(): salart after', id(salary), salary)\n",
    "    \n",
    "main() # realize that the output is not as we wanted"
   ]
  },
  {
   "cell_type": "code",
   "execution_count": 79,
   "id": "19273ab7",
   "metadata": {},
   "outputs": [
    {
     "name": "stdout",
     "output_type": "stream",
     "text": [
      "in main(): salary before 140300355024384 [10000, 20000, 30000]\n",
      "in raisesalary(): sal before 140300355024384 [10000, 20000, 30000]\n",
      "in raisesalary(): sal after 140300355024384 [11000.0, 22000.0, 33000.0]\n",
      "in main(): salart after 140300355024384 [11000.0, 22000.0, 33000.0]\n"
     ]
    }
   ],
   "source": [
    "# checkpoint\n",
    "def raisesalary(sal,percentage = 1.1):\n",
    "    print('in raisesalary(): sal before', id(sal), sal)\n",
    "    for i,s in enumerate(sal):\n",
    "        sal[i] *= percentage\n",
    "    print('in raisesalary(): sal after', id(sal), sal)\n",
    "    \n",
    "def main():\n",
    "    salary = [10000,20000,30000]\n",
    "    print('in main(): salary before', id(salary), salary)\n",
    "    raisesalary(salary)\n",
    "    print('in main(): salart after', id(salary), salary)\n",
    "    \n",
    "main()"
   ]
  }
 ],
 "metadata": {
  "kernelspec": {
   "display_name": "Python 3",
   "language": "python",
   "name": "python3"
  },
  "language_info": {
   "codemirror_mode": {
    "name": "ipython",
    "version": 3
   },
   "file_extension": ".py",
   "mimetype": "text/x-python",
   "name": "python",
   "nbconvert_exporter": "python",
   "pygments_lexer": "ipython3",
   "version": "3.8.8"
  }
 },
 "nbformat": 4,
 "nbformat_minor": 5
}
