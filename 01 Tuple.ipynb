{
 "cells": [
  {
   "cell_type": "markdown",
   "id": "743609b0",
   "metadata": {},
   "source": [
    "# TUPLE\n",
    "### an ORDERED sequence of elements\n",
    "#### IMMUTABLE\n",
    "one of the most versatile data type in python\n",
    "\n",
    "very similar to string\n",
    "\n",
    "tuple are safer (protect data) and faster than a list "
   ]
  },
  {
   "cell_type": "code",
   "execution_count": 1,
   "id": "5ab9d9ba",
   "metadata": {},
   "outputs": [],
   "source": [
    "# declaring  a tuple\n",
    "fruits = (\"apple\", \"orange\", \"banana\")"
   ]
  },
  {
   "cell_type": "code",
   "execution_count": 2,
   "id": "91706be8",
   "metadata": {},
   "outputs": [
    {
     "data": {
      "text/plain": [
       "'apple'"
      ]
     },
     "execution_count": 2,
     "metadata": {},
     "output_type": "execute_result"
    }
   ],
   "source": [
    "# accessing an element in tuple\n",
    "fruits[0]"
   ]
  },
  {
   "cell_type": "code",
   "execution_count": 4,
   "id": "958dda10",
   "metadata": {},
   "outputs": [
    {
     "name": "stdout",
     "output_type": "stream",
     "text": [
      "I got apple\n",
      "I got orange\n",
      "I got banana\n"
     ]
    }
   ],
   "source": [
    "# iteration through a tuple\n",
    "for fruit in fruits:\n",
    "    print(\"I got\", fruit)"
   ]
  },
  {
   "cell_type": "code",
   "execution_count": 8,
   "id": "a47c5996",
   "metadata": {},
   "outputs": [
    {
     "data": {
      "text/plain": [
       "tuple"
      ]
     },
     "execution_count": 8,
     "metadata": {},
     "output_type": "execute_result"
    }
   ],
   "source": [
    "# element in tuple can be of any type\n",
    "my_tuple = (1,\"string\", True)\n",
    "type(my_tuple)"
   ]
  },
  {
   "cell_type": "code",
   "execution_count": 10,
   "id": "af0e3b2d",
   "metadata": {},
   "outputs": [
    {
     "data": {
      "text/plain": [
       "3"
      ]
     },
     "execution_count": 10,
     "metadata": {},
     "output_type": "execute_result"
    }
   ],
   "source": [
    "# element in a tuple can be tuples\n",
    "my_tuples = ((1,2), (3,4), (5,5))\n",
    "len(my_tuples)"
   ]
  },
  {
   "cell_type": "code",
   "execution_count": 1,
   "id": "5ef43338",
   "metadata": {},
   "outputs": [
    {
     "name": "stdout",
     "output_type": "stream",
     "text": [
      "Kevin\n",
      "18\n",
      "A+\n"
     ]
    }
   ],
   "source": [
    "# multiple assignments\n",
    "t = \"Kevin\", 18, \"A+\"\n",
    "name, age, grade = t\n",
    "print(name)\n",
    "print(age)\n",
    "print(grade)"
   ]
  },
  {
   "cell_type": "code",
   "execution_count": 2,
   "id": "6c580911",
   "metadata": {},
   "outputs": [
    {
     "name": "stdout",
     "output_type": "stream",
     "text": [
      "(1, 2, 3, 4, 5, 6)\n",
      "((1, 2, 3), (4, 5, 6))\n"
     ]
    }
   ],
   "source": [
    "# tuple concatenation\n",
    "t1 = 1,2,3\n",
    "t2 = 4,5,6\n",
    "t3 = ()\n",
    "print(t1 + t2)\n",
    "t3 += t1, t2\n",
    "print(t3)"
   ]
  },
  {
   "cell_type": "code",
   "execution_count": 2,
   "id": "f5d52ba0",
   "metadata": {},
   "outputs": [
    {
     "name": "stdout",
     "output_type": "stream",
     "text": [
      "('orange', 'pinaple') <class 'tuple'>\n",
      "banana <class 'str'>\n",
      "('banana', 'pinaple', 'orange', 'apple') <class 'tuple'>\n"
     ]
    }
   ],
   "source": [
    "# tuple slicing\n",
    "fruits = (\"apple\", \"orange\", \"pinaple\",\"banana\")\n",
    "print(fruits[1:3],type(fruits[1:3]))\n",
    "print(fruits[-1], type(fruits[-1]))\n",
    "print(fruits[::-1], type(fruits[::-1]))"
   ]
  },
  {
   "cell_type": "code",
   "execution_count": 2,
   "id": "bfbbae4e",
   "metadata": {},
   "outputs": [],
   "source": [
    "# FUNCTIONS\n",
    "# a function is a block of organized reusable code that is used to perform a single related action\n",
    "# functions provide better modularity for your application an d a high degree of code reusing\n",
    "# you can create your own functions --> user-defined functions"
   ]
  },
  {
   "cell_type": "markdown",
   "id": "c7b507c6",
   "metadata": {},
   "source": [
    "### tuples as return value (>1 value)"
   ]
  },
  {
   "cell_type": "code",
   "execution_count": 3,
   "id": "48205119",
   "metadata": {},
   "outputs": [
    {
     "data": {
      "text/plain": [
       "(1, 4)"
      ]
     },
     "execution_count": 3,
     "metadata": {},
     "output_type": "execute_result"
    }
   ],
   "source": [
    "def quotientandremainder(x,y):\n",
    "    q = x // y\n",
    "    r = x % y\n",
    "    return q,y\n",
    "\n",
    "quotientandremainder(5,4)"
   ]
  },
  {
   "cell_type": "markdown",
   "id": "def6b484",
   "metadata": {},
   "source": [
    "### tuple unpacking"
   ]
  },
  {
   "cell_type": "code",
   "execution_count": 4,
   "id": "345cb602",
   "metadata": {},
   "outputs": [
    {
     "name": "stdout",
     "output_type": "stream",
     "text": [
      "1\n",
      "2\n",
      "3\n"
     ]
    }
   ],
   "source": [
    "t = 1,2,3\n",
    "a,b,c = t\n",
    "print(a)\n",
    "print(b)\n",
    "print(c)"
   ]
  },
  {
   "cell_type": "code",
   "execution_count": 17,
   "id": "cb575ac2",
   "metadata": {},
   "outputs": [
    {
     "name": "stdout",
     "output_type": "stream",
     "text": [
      "((0, 0, 0), (1, 2, 3), (2, 4, 6), (3, 6, 9), (4, 8, 12))\n",
      "x:0, y:0, z:0\n",
      "x:1, y:2, z:3\n",
      "x:2, y:4, z:6\n",
      "x:3, y:6, z:9\n",
      "x:4, y:8, z:12\n"
     ]
    }
   ],
   "source": [
    "t = ()\n",
    "for i in range(5):\n",
    "    p = i, i*2, i*3 #PACKING\n",
    "    t += p,\n",
    "print(t)\n",
    "for x, y, z in t: # UNPACKING\n",
    "    print(f'x:{x}, y:{y}, z:{z}')"
   ]
  },
  {
   "cell_type": "code",
   "execution_count": 18,
   "id": "0579eaaa",
   "metadata": {},
   "outputs": [
    {
     "name": "stdout",
     "output_type": "stream",
     "text": [
      "d u d e\n",
      "0 1 2\n"
     ]
    }
   ],
   "source": [
    "# note that tuple unpacking works for anything that is iterable, not just tuples\n",
    "a,b,c,d = \"dude\"\n",
    "print(a,b,c,d)\n",
    "x,y,z = range(3)\n",
    "print(x,y,z)"
   ]
  },
  {
   "cell_type": "code",
   "execution_count": 20,
   "id": "e1d735a8",
   "metadata": {},
   "outputs": [
    {
     "ename": "ValueError",
     "evalue": "too many values to unpack (expected 2)",
     "output_type": "error",
     "traceback": [
      "\u001b[1;31m---------------------------------------------------------------------------\u001b[0m",
      "\u001b[1;31mValueError\u001b[0m                                Traceback (most recent call last)",
      "\u001b[1;32m<ipython-input-20-970e30b1d0b5>\u001b[0m in \u001b[0;36m<module>\u001b[1;34m\u001b[0m\n\u001b[0;32m      1\u001b[0m \u001b[1;31m# when unpackin, the number of variables on the left must match the number of values in the right\u001b[0m\u001b[1;33m\u001b[0m\u001b[1;33m\u001b[0m\u001b[1;33m\u001b[0m\u001b[0m\n\u001b[1;32m----> 2\u001b[1;33m \u001b[0ma\u001b[0m\u001b[1;33m,\u001b[0m\u001b[0mb\u001b[0m \u001b[1;33m=\u001b[0m \u001b[1;33m(\u001b[0m\u001b[1;36m1\u001b[0m\u001b[1;33m,\u001b[0m\u001b[1;36m2\u001b[0m\u001b[1;33m,\u001b[0m\u001b[1;36m3\u001b[0m\u001b[1;33m)\u001b[0m\u001b[1;33m\u001b[0m\u001b[1;33m\u001b[0m\u001b[0m\n\u001b[0m",
      "\u001b[1;31mValueError\u001b[0m: too many values to unpack (expected 2)"
     ]
    }
   ],
   "source": [
    "# when unpacking, the number of variables on the left must match the number of values in the right\n",
    "a,b = (1,2,3)"
   ]
  },
  {
   "cell_type": "code",
   "execution_count": 22,
   "id": "328488ee",
   "metadata": {},
   "outputs": [
    {
     "ename": "TypeError",
     "evalue": "points() missing 2 required positional arguments: 'y' and 'z'",
     "output_type": "error",
     "traceback": [
      "\u001b[1;31m---------------------------------------------------------------------------\u001b[0m",
      "\u001b[1;31mTypeError\u001b[0m                                 Traceback (most recent call last)",
      "\u001b[1;32m<ipython-input-22-54fc125136c8>\u001b[0m in \u001b[0;36m<module>\u001b[1;34m\u001b[0m\n\u001b[0;32m      4\u001b[0m \u001b[1;33m\u001b[0m\u001b[0m\n\u001b[0;32m      5\u001b[0m \u001b[0mt\u001b[0m \u001b[1;33m=\u001b[0m \u001b[1;36m1\u001b[0m\u001b[1;33m,\u001b[0m\u001b[1;36m2\u001b[0m\u001b[1;33m,\u001b[0m\u001b[1;36m3\u001b[0m\u001b[1;33m\u001b[0m\u001b[1;33m\u001b[0m\u001b[0m\n\u001b[1;32m----> 6\u001b[1;33m \u001b[0mpoints\u001b[0m\u001b[1;33m(\u001b[0m\u001b[0mt\u001b[0m\u001b[1;33m)\u001b[0m\u001b[1;33m\u001b[0m\u001b[1;33m\u001b[0m\u001b[0m\n\u001b[0m",
      "\u001b[1;31mTypeError\u001b[0m: points() missing 2 required positional arguments: 'y' and 'z'"
     ]
    }
   ],
   "source": [
    "# unpacking for a function's parameter\n",
    "def points(x,y,z):\n",
    "    print(f'x:{x}, y:{y}, z:{z}')\n",
    "    \n",
    "t = 1,2,3\n",
    "points(t) # realize that this code will returns an error since the tupple is still unpacked"
   ]
  },
  {
   "cell_type": "code",
   "execution_count": 3,
   "id": "ec31dbf0",
   "metadata": {},
   "outputs": [
    {
     "name": "stdout",
     "output_type": "stream",
     "text": [
      "x:1, y:2, z:3\n",
      "x:1, y:2, z:3\n",
      "x:1, y:2, z:3\n"
     ]
    }
   ],
   "source": [
    "def points(x,y,z):\n",
    "    print(f'x:{x}, y:{y}, z:{z}')\n",
    "    \n",
    "t = 1,2,3\n",
    "points(t[0], t[1], t[2]) \n",
    "\n",
    "### a more simple way ### (RECOMMENDED)\n",
    "def points(x,y,z):\n",
    "    print(f'x:{x}, y:{y}, z:{z}')\n",
    "    \n",
    "t = 1,2,3\n",
    "points(*t) # we need to use a * sign before t to unpack it before the function is called\n",
    "points(*(1,2,3))"
   ]
  },
  {
   "cell_type": "markdown",
   "id": "8a0344d2",
   "metadata": {},
   "source": [
    "### swapping"
   ]
  },
  {
   "cell_type": "code",
   "execution_count": 25,
   "id": "16cf66be",
   "metadata": {},
   "outputs": [
    {
     "name": "stdout",
     "output_type": "stream",
     "text": [
      "2 1\n"
     ]
    }
   ],
   "source": [
    "# using a third variable\n",
    "a = 1\n",
    "b = 2\n",
    "tmp = a\n",
    "a = b\n",
    "b = tmp\n",
    "print(a,b)"
   ]
  },
  {
   "cell_type": "code",
   "execution_count": 27,
   "id": "80d96968",
   "metadata": {},
   "outputs": [
    {
     "name": "stdout",
     "output_type": "stream",
     "text": [
      "2 1\n"
     ]
    }
   ],
   "source": [
    "#using tuple unpacking (RECOMMENDED)\n",
    "a,b = 1, 2 \n",
    "a,b = b,a\n",
    "print(a,b)"
   ]
  },
  {
   "cell_type": "code",
   "execution_count": 1,
   "id": "2d4e5d29",
   "metadata": {},
   "outputs": [
    {
     "name": "stdout",
     "output_type": "stream",
     "text": [
      "([1, 2], [3, 4])\n"
     ]
    },
    {
     "ename": "TypeError",
     "evalue": "'tuple' object does not support item assignment",
     "output_type": "error",
     "traceback": [
      "\u001b[0;31m---------------------------------------------------------------------------\u001b[0m",
      "\u001b[0;31mTypeError\u001b[0m                                 Traceback (most recent call last)",
      "\u001b[0;32m<ipython-input-1-d9267a3e8b5d>\u001b[0m in \u001b[0;36m<module>\u001b[0;34m\u001b[0m\n\u001b[1;32m      6\u001b[0m \u001b[0mprint\u001b[0m\u001b[0;34m(\u001b[0m\u001b[0mt\u001b[0m\u001b[0;34m)\u001b[0m\u001b[0;34m\u001b[0m\u001b[0;34m\u001b[0m\u001b[0m\n\u001b[1;32m      7\u001b[0m \u001b[0;34m\u001b[0m\u001b[0m\n\u001b[0;32m----> 8\u001b[0;31m \u001b[0mt\u001b[0m\u001b[0;34m[\u001b[0m\u001b[0;36m0\u001b[0m\u001b[0;34m]\u001b[0m \u001b[0;34m=\u001b[0m \u001b[0;34m[\u001b[0m\u001b[0;36m5\u001b[0m\u001b[0;34m,\u001b[0m\u001b[0;36m6\u001b[0m\u001b[0;34m]\u001b[0m \u001b[0;31m# notice that this code induce an error since t is a tupple which is immutable\u001b[0m\u001b[0;34m\u001b[0m\u001b[0;34m\u001b[0m\u001b[0m\n\u001b[0m",
      "\u001b[0;31mTypeError\u001b[0m: 'tuple' object does not support item assignment"
     ]
    }
   ],
   "source": [
    "### tuple of list\n",
    "l1 = [1,2]\n",
    "l2 = [3,4]\n",
    "\n",
    "t = l1,l2\n",
    "print(t)\n",
    "\n",
    "t[0] = [5,6] # notice that this code induce an error since t is a tupple which is immutable"
   ]
  },
  {
   "cell_type": "code",
   "execution_count": 2,
   "id": "36d0c426",
   "metadata": {},
   "outputs": [
    {
     "data": {
      "text/plain": [
       "([5, 6], [3, 4])"
      ]
     },
     "execution_count": 2,
     "metadata": {},
     "output_type": "execute_result"
    }
   ],
   "source": [
    "# what we can do instead is change the content of the list\n",
    "l1 = [1,2]\n",
    "l2 = [3,4]\n",
    "\n",
    "t = l1,l2\n",
    "\n",
    "t[0][0] = 5\n",
    "t[0][1] = 6\n",
    "t"
   ]
  },
  {
   "cell_type": "code",
   "execution_count": 4,
   "id": "daaad3aa",
   "metadata": {},
   "outputs": [
    {
     "name": "stdout",
     "output_type": "stream",
     "text": [
      "140298876372224\n",
      "(1, 2, 3, 4, 5, 6)\n",
      "140298876327296\n",
      "\n",
      "\n",
      "140298876372224\n",
      "(1, 2, 3, 4, 5, 6)\n",
      "140298876327296\n",
      "\n",
      "\n",
      "140298876372224\n",
      "((1, 2, 3), (4, 5, 6))\n",
      "140298875886592\n"
     ]
    }
   ],
   "source": [
    "# difference between + and += and ,\n",
    "t1 = (1,2,3)\n",
    "t2 = (4,5,6)\n",
    "\n",
    "print(id(t1))\n",
    "t1 = t1 + t2\n",
    "print(t1)\n",
    "print(id(t1))\n",
    "print('\\n')\n",
    "\n",
    "t1 = (1,2,3)\n",
    "t2 = (4,5,6)\n",
    "\n",
    "print(id(t1))\n",
    "t1 += t2\n",
    "print(t1)\n",
    "print(id(t1))\n",
    "print('\\n')\n",
    "\n",
    "t1 = (1,2,3)\n",
    "t2 = (4,5,6)\n",
    "\n",
    "print(id(t1))\n",
    "t1 = t1, t2\n",
    "print(t1)\n",
    "print(id(t1))\n",
    "\n",
    "# notice that all of them results in creating a new tuple"
   ]
  },
  {
   "cell_type": "code",
   "execution_count": 5,
   "id": "03b6a628",
   "metadata": {},
   "outputs": [
    {
     "name": "stdout",
     "output_type": "stream",
     "text": [
      "<class 'tuple'>\n"
     ]
    }
   ],
   "source": [
    "# additional note:\n",
    "t =  () # this is already considered as a tuple\n",
    "print(type(t))"
   ]
  }
 ],
 "metadata": {
  "kernelspec": {
   "display_name": "Python 3",
   "language": "python",
   "name": "python3"
  },
  "language_info": {
   "codemirror_mode": {
    "name": "ipython",
    "version": 3
   },
   "file_extension": ".py",
   "mimetype": "text/x-python",
   "name": "python",
   "nbconvert_exporter": "python",
   "pygments_lexer": "ipython3",
   "version": "3.8.8"
  }
 },
 "nbformat": 4,
 "nbformat_minor": 5
}
