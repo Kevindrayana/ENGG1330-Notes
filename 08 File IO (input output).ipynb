{
 "cells": [
  {
   "cell_type": "markdown",
   "id": "9a5a7620",
   "metadata": {},
   "source": [
    "# special function in the jupyter notebook to quickly create a text file"
   ]
  },
  {
   "cell_type": "code",
   "execution_count": 3,
   "id": "b25fa6c1",
   "metadata": {},
   "outputs": [
    {
     "name": "stdout",
     "output_type": "stream",
     "text": [
      "Overwriting anytxtfile.txt\n"
     ]
    }
   ],
   "source": [
    "%%writefile anytxtfile.txt\n",
    "this is the first line\n",
    "this is the second line\n",
    "this is the third line"
   ]
  },
  {
   "cell_type": "markdown",
   "id": "c02284fa",
   "metadata": {},
   "source": [
    "# modes in python\n",
    "* mode = \"r\" is read only\n",
    "* mode = \"w\" is write only(will overwrite files or create new)\n",
    "* mode = \"a\" is append only (will add on to files)"
   ]
  },
  {
   "cell_type": "markdown",
   "id": "79786b77",
   "metadata": {},
   "source": [
    "# reading a text file"
   ]
  },
  {
   "cell_type": "code",
   "execution_count": 4,
   "id": "2fdc4317",
   "metadata": {},
   "outputs": [
    {
     "name": "stdout",
     "output_type": "stream",
     "text": [
      "('this is the first line\\n', 'this is the second line\\n', 'this is the third line\\n')\n"
     ]
    }
   ],
   "source": [
    "my_tuple = ()\n",
    "with open('anytxtfile.txt') as file: # the mode is r by default\n",
    "    for line in file:\n",
    "        my_tuple += line,\n",
    "        \n",
    "\n",
    "print(my_tuple) # this code is to read one line at a time"
   ]
  },
  {
   "cell_type": "code",
   "execution_count": 15,
   "id": "200c7434",
   "metadata": {},
   "outputs": [
    {
     "name": "stdout",
     "output_type": "stream",
     "text": [
      "this is the first line\n",
      "this is the second line\n",
      "this is the third line\n",
      "\n"
     ]
    }
   ],
   "source": [
    "with open('anytxtfile.txt', mode = \"r\") as file:\n",
    "    print(file.read())"
   ]
  },
  {
   "cell_type": "markdown",
   "id": "025b79c1",
   "metadata": {},
   "source": [
    "# writing a text file"
   ]
  },
  {
   "cell_type": "code",
   "execution_count": 21,
   "id": "b2e1daed",
   "metadata": {},
   "outputs": [
    {
     "name": "stdout",
     "output_type": "stream",
     "text": [
      "blablabla\n",
      "blablabla\n",
      "blablabla\n"
     ]
    }
   ],
   "source": [
    "my_tuple = ()\n",
    "with open('anytxtfile.txt', 'w') as file:\n",
    "    file.write(\"blablabla\\nblablabla\\nblablabla\")\n",
    "\n",
    "with open('anytxtfile.txt', 'r') as file:\n",
    "    print(file.read())"
   ]
  }
 ],
 "metadata": {
  "kernelspec": {
   "display_name": "Python 3",
   "language": "python",
   "name": "python3"
  },
  "language_info": {
   "codemirror_mode": {
    "name": "ipython",
    "version": 3
   },
   "file_extension": ".py",
   "mimetype": "text/x-python",
   "name": "python",
   "nbconvert_exporter": "python",
   "pygments_lexer": "ipython3",
   "version": "3.8.8"
  }
 },
 "nbformat": 4,
 "nbformat_minor": 5
}
