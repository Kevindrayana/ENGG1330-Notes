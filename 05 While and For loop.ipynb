{
 "cells": [
  {
   "cell_type": "markdown",
   "id": "f7e55a6c",
   "metadata": {},
   "source": [
    "##### a loop is any program construction that repeats or compounds a statement a number of times\n",
    "\n",
    "some terminology:\n",
    "* body: the statements to be repeated\n",
    "* iteration: each repetition"
   ]
  },
  {
   "cell_type": "markdown",
   "id": "e8404c83",
   "metadata": {},
   "source": [
    "# WHILE\n",
    "\n",
    "while (expression):\n",
    "    \n",
    "    statements"
   ]
  },
  {
   "cell_type": "code",
   "execution_count": 4,
   "id": "175df531",
   "metadata": {},
   "outputs": [
    {
     "name": "stdout",
     "output_type": "stream",
     "text": [
      "2*2 = 1\n",
      "2*2 = 2\n",
      "2*2 = 3\n",
      "2*2 = 4\n",
      "4\n"
     ]
    }
   ],
   "source": [
    "answer = 0 \n",
    "count = 0\n",
    "while answer != 4:\n",
    "    answer = int(input(\"2*2 = \"))\n",
    "    count += 1\n",
    "    \n",
    "print(count)"
   ]
  },
  {
   "cell_type": "code",
   "execution_count": 5,
   "id": "312e9fa8",
   "metadata": {},
   "outputs": [
    {
     "name": "stdout",
     "output_type": "stream",
     "text": [
      "0 0\n",
      "0 1\n",
      "0 2\n",
      "1 0\n",
      "1 1\n",
      "1 2\n",
      "2 0\n",
      "2 1\n",
      "2 2\n"
     ]
    }
   ],
   "source": [
    "# nested while loop \n",
    "i = 0 \n",
    "while i < 3:\n",
    "    j= 0\n",
    "    while j < 3:\n",
    "        print(i,j)\n",
    "        j += 1\n",
    "    i += 1"
   ]
  },
  {
   "cell_type": "markdown",
   "id": "161df50b",
   "metadata": {},
   "source": [
    "# FOR\n",
    "\n",
    "for i in iterable:\n",
    "    \n",
    "    statements"
   ]
  },
  {
   "cell_type": "code",
   "execution_count": 9,
   "id": "073dc56e",
   "metadata": {},
   "outputs": [
    {
     "name": "stdout",
     "output_type": "stream",
     "text": [
      "2\n",
      "3\n",
      "5\n",
      "7\n",
      "11\n"
     ]
    }
   ],
   "source": [
    "primes = [2,3,5,7,11]\n",
    "for prime in primes:\n",
    "    print (prime)"
   ]
  },
  {
   "cell_type": "code",
   "execution_count": 12,
   "id": "efaa78a3",
   "metadata": {},
   "outputs": [
    {
     "name": "stdout",
     "output_type": "stream",
     "text": [
      "enter a num: 10\n",
      "10\n",
      "9\n",
      "8\n",
      "7\n",
      "6\n",
      "5\n",
      "4\n",
      "3\n",
      "2\n",
      "1\n",
      "BOOM\n"
     ]
    }
   ],
   "source": [
    "num = int(input(\"enter a num: \"))\n",
    "\n",
    "for i in range(num,0,-1):\n",
    "    print(i)\n",
    "    \n",
    "print(\"BOOM\")"
   ]
  },
  {
   "cell_type": "code",
   "execution_count": 1,
   "id": "afef9775",
   "metadata": {},
   "outputs": [
    {
     "name": "stdout",
     "output_type": "stream",
     "text": [
      "0 a\n",
      "1 b\n",
      "2 c\n",
      "3 d\n",
      "4 e\n"
     ]
    }
   ],
   "source": [
    "lst = ['a','b','c','d','e']\n",
    "\n",
    "for index, value in enumerate(lst):\n",
    "    print(index, value)"
   ]
  },
  {
   "cell_type": "code",
   "execution_count": 8,
   "id": "3c61a980",
   "metadata": {},
   "outputs": [
    {
     "name": "stdout",
     "output_type": "stream",
     "text": [
      "0 0\n",
      "0 1\n",
      "0 2\n",
      "1 0\n",
      "1 1\n",
      "1 2\n",
      "2 0\n",
      "2 1\n",
      "2 2\n"
     ]
    }
   ],
   "source": [
    "# nested for loops\n",
    "for i in range(3):\n",
    "    for j in range(3):\n",
    "        print(i,j)"
   ]
  },
  {
   "cell_type": "code",
   "execution_count": 21,
   "id": "9d51ff42",
   "metadata": {},
   "outputs": [
    {
     "name": "stdout",
     "output_type": "stream",
     "text": [
      "s\n",
      "t\n",
      "r\n"
     ]
    }
   ],
   "source": [
    "# break and continue\n",
    "for i in \"string\":\n",
    "    \n",
    "    if i == \"i\":\n",
    "        break\n",
    "        \n",
    "    print(i)"
   ]
  },
  {
   "cell_type": "code",
   "execution_count": 22,
   "id": "dd343e9e",
   "metadata": {},
   "outputs": [
    {
     "name": "stdout",
     "output_type": "stream",
     "text": [
      "s\n",
      "t\n",
      "r\n",
      "n\n",
      "g\n"
     ]
    }
   ],
   "source": [
    "for i in \"string\":\n",
    "    \n",
    "    if i == \"i\":\n",
    "        continue\n",
    "        \n",
    "    print(i)"
   ]
  }
 ],
 "metadata": {
  "kernelspec": {
   "display_name": "Python 3",
   "language": "python",
   "name": "python3"
  },
  "language_info": {
   "codemirror_mode": {
    "name": "ipython",
    "version": 3
   },
   "file_extension": ".py",
   "mimetype": "text/x-python",
   "name": "python",
   "nbconvert_exporter": "python",
   "pygments_lexer": "ipython3",
   "version": "3.8.8"
  }
 },
 "nbformat": 4,
 "nbformat_minor": 5
}
