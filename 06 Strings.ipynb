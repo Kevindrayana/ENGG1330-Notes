{
 "cells": [
  {
   "cell_type": "markdown",
   "id": "de2c5599",
   "metadata": {},
   "source": [
    "# STRINGS - fundamental type\n",
    "### sequence of 0 or more characters\n",
    "* they can be indexed\n",
    "* they can be sliced\n",
    "* you can iterate across them\n",
    "* immutable\n",
    "* delimited by single or double quotes\n",
    "\n",
    "\n",
    "python uses unicode characters (computing industry standard for representation of text) --> could be words, emojis, chinese characters, ect\n",
    "\n",
    "\n",
    "\n",
    "either single or double quotes could be used interchangably"
   ]
  },
  {
   "cell_type": "markdown",
   "id": "007633f9",
   "metadata": {},
   "source": [
    "#### backslash tells python that hte next character will have special meaning\n",
    "\n",
    "* \\n = end the current line of text and start a new one\n",
    "* \\t = skip to the next \"tab stop\" in the text\n",
    "* \\\\' = do not interpret the ' as a string delimiter\n",
    "* \\\\\" = do not interpret the \" as a string delimiter\n",
    "* \\\\\\ = put a backslash character into the string"
   ]
  },
  {
   "cell_type": "code",
   "execution_count": 17,
   "id": "86ae2bca",
   "metadata": {},
   "outputs": [
    {
     "name": "stdout",
     "output_type": "stream",
     "text": [
      "hello \n",
      "world\n",
      "...\n"
     ]
    }
   ],
   "source": [
    "print(\"hello \\nworld\")\n",
    "print(\"...\")"
   ]
  },
  {
   "cell_type": "code",
   "execution_count": 1,
   "id": "cee58594",
   "metadata": {},
   "outputs": [
    {
     "name": "stdout",
     "output_type": "stream",
     "text": [
      "hello\tworld\n"
     ]
    }
   ],
   "source": [
    "print(\"hello\\tworld\")"
   ]
  },
  {
   "cell_type": "code",
   "execution_count": 4,
   "id": "33ac01b9",
   "metadata": {},
   "outputs": [
    {
     "name": "stdout",
     "output_type": "stream",
     "text": [
      "yo what's up bro\n"
     ]
    }
   ],
   "source": [
    "s = 'yo what\\'s up bro'\n",
    "print(s)"
   ]
  },
  {
   "cell_type": "code",
   "execution_count": 6,
   "id": "8cfe9e39",
   "metadata": {},
   "outputs": [
    {
     "name": "stdout",
     "output_type": "stream",
     "text": [
      "i just read a book entitled \"cacing\".\n"
     ]
    }
   ],
   "source": [
    "s = \"i just read a book entitled \\\"cacing\\\".\"\n",
    "print(s)"
   ]
  },
  {
   "cell_type": "code",
   "execution_count": 5,
   "id": "cf4fe347",
   "metadata": {
    "scrolled": true
   },
   "outputs": [
    {
     "name": "stdout",
     "output_type": "stream",
     "text": [
      "\n",
      "hi\n",
      "my\n",
      "name \n",
      "is\n",
      "kevin\n",
      "\n"
     ]
    }
   ],
   "source": [
    "s = '''\n",
    "hi\n",
    "my\n",
    "name \n",
    "is\n",
    "kevin\n",
    "'''\n",
    "print(s)\n"
   ]
  },
  {
   "cell_type": "code",
   "execution_count": 7,
   "id": "20dfa7b6",
   "metadata": {},
   "outputs": [
    {
     "name": "stdout",
     "output_type": "stream",
     "text": [
      "C:\\some\n",
      "ame\n",
      "C:\\some\\name\n"
     ]
    }
   ],
   "source": [
    "# raw string\n",
    "print(\"C:\\some\\name\") # notice that it will induce something we don't want\n",
    "print(r\"C:\\some\\name\")"
   ]
  },
  {
   "cell_type": "code",
   "execution_count": 2,
   "id": "c8adb1da",
   "metadata": {},
   "outputs": [
    {
     "name": "stdout",
     "output_type": "stream",
     "text": [
      "python\n"
     ]
    }
   ],
   "source": [
    "# concatenation string literals\n",
    "x = \"py\" \"thon\"\n",
    "print(x)\n",
    "# useful to concatenate long strings"
   ]
  },
  {
   "cell_type": "code",
   "execution_count": 2,
   "id": "26f6ef73",
   "metadata": {},
   "outputs": [
    {
     "data": {
      "text/plain": [
       "'strings are immutable'"
      ]
     },
     "execution_count": 2,
     "metadata": {},
     "output_type": "execute_result"
    }
   ],
   "source": [
    "# concatenation (in general)\n",
    "s = 'immutable'\n",
    "\"strings are \" + s"
   ]
  },
  {
   "cell_type": "code",
   "execution_count": 3,
   "id": "5108bf15",
   "metadata": {},
   "outputs": [
    {
     "data": {
      "text/plain": [
       "('strings are', 'immutable')"
      ]
     },
     "execution_count": 3,
     "metadata": {},
     "output_type": "execute_result"
    }
   ],
   "source": [
    "\"strings are\", s\n",
    "# using , will create a tuple"
   ]
  },
  {
   "cell_type": "code",
   "execution_count": 14,
   "id": "07e3fd18",
   "metadata": {},
   "outputs": [
    {
     "data": {
      "text/plain": [
       "'hahaha'"
      ]
     },
     "execution_count": 14,
     "metadata": {},
     "output_type": "execute_result"
    }
   ],
   "source": [
    "# replication\n",
    "'ha' * 3"
   ]
  },
  {
   "cell_type": "code",
   "execution_count": 15,
   "id": "c74d6a08",
   "metadata": {},
   "outputs": [
    {
     "data": {
      "text/plain": [
       "''"
      ]
     },
     "execution_count": 15,
     "metadata": {},
     "output_type": "execute_result"
    }
   ],
   "source": [
    "'ha' * 0"
   ]
  },
  {
   "cell_type": "code",
   "execution_count": 16,
   "id": "4f1f9f59",
   "metadata": {},
   "outputs": [
    {
     "data": {
      "text/plain": [
       "''"
      ]
     },
     "execution_count": 16,
     "metadata": {},
     "output_type": "execute_result"
    }
   ],
   "source": [
    "'ha' * -1"
   ]
  },
  {
   "cell_type": "code",
   "execution_count": 16,
   "id": "6a55c6de",
   "metadata": {},
   "outputs": [
    {
     "data": {
      "text/plain": [
       "'h'"
      ]
     },
     "execution_count": 16,
     "metadata": {},
     "output_type": "execute_result"
    }
   ],
   "source": [
    "# indexing\n",
    "s = \"hello world\"\n",
    "s[0]"
   ]
  },
  {
   "cell_type": "code",
   "execution_count": 18,
   "id": "a465d852",
   "metadata": {},
   "outputs": [
    {
     "data": {
      "text/plain": [
       "False"
      ]
     },
     "execution_count": 18,
     "metadata": {},
     "output_type": "execute_result"
    }
   ],
   "source": [
    "# membership test\n",
    "'a' in 'hello world'"
   ]
  },
  {
   "cell_type": "code",
   "execution_count": 1,
   "id": "19e4d6b5",
   "metadata": {},
   "outputs": [
    {
     "name": "stdout",
     "output_type": "stream",
     "text": [
      "licin\n",
      "slicin\n",
      "licing\n",
      "siig\n",
      "gnici\n"
     ]
    },
    {
     "ename": "ValueError",
     "evalue": "slice step cannot be zero",
     "output_type": "error",
     "traceback": [
      "\u001b[0;31m---------------------------------------------------------------------------\u001b[0m",
      "\u001b[0;31mValueError\u001b[0m                                Traceback (most recent call last)",
      "\u001b[0;32m<ipython-input-1-2f82dcb6afd5>\u001b[0m in \u001b[0;36m<module>\u001b[0;34m\u001b[0m\n\u001b[1;32m      6\u001b[0m \u001b[0mprint\u001b[0m\u001b[0;34m(\u001b[0m\u001b[0ms\u001b[0m\u001b[0;34m[\u001b[0m\u001b[0;34m:\u001b[0m\u001b[0;34m:\u001b[0m\u001b[0;36m2\u001b[0m\u001b[0;34m]\u001b[0m\u001b[0;34m)\u001b[0m\u001b[0;34m\u001b[0m\u001b[0;34m\u001b[0m\u001b[0m\n\u001b[1;32m      7\u001b[0m \u001b[0mprint\u001b[0m\u001b[0;34m(\u001b[0m\u001b[0ms\u001b[0m\u001b[0;34m[\u001b[0m\u001b[0;36m10\u001b[0m\u001b[0;34m:\u001b[0m\u001b[0;36m1\u001b[0m\u001b[0;34m:\u001b[0m\u001b[0;34m-\u001b[0m\u001b[0;36m1\u001b[0m\u001b[0;34m]\u001b[0m\u001b[0;34m)\u001b[0m \u001b[0;31m# note that the negative strides are allowed as long as the start possition apperas later than the ending position\u001b[0m\u001b[0;34m\u001b[0m\u001b[0;34m\u001b[0m\u001b[0m\n\u001b[0;32m----> 8\u001b[0;31m \u001b[0mprint\u001b[0m\u001b[0;34m(\u001b[0m\u001b[0ms\u001b[0m\u001b[0;34m[\u001b[0m\u001b[0;36m10\u001b[0m\u001b[0;34m:\u001b[0m\u001b[0;36m1\u001b[0m\u001b[0;34m:\u001b[0m\u001b[0;36m0\u001b[0m\u001b[0;34m]\u001b[0m\u001b[0;34m)\u001b[0m\u001b[0;31m# stride cannot be 0\u001b[0m\u001b[0;34m\u001b[0m\u001b[0;34m\u001b[0m\u001b[0m\n\u001b[0m",
      "\u001b[0;31mValueError\u001b[0m: slice step cannot be zero"
     ]
    }
   ],
   "source": [
    "#slicing\n",
    "s = 'slicing'\n",
    "print(s[1:6])\n",
    "print(s[:-1])\n",
    "print(s[1:])\n",
    "print(s[::2])\n",
    "print(s[10:1:-1]) # note that the negative strides are allowed as long as the start possition apperas later than the ending position\n",
    "print(s[10:1:0])# stride cannot be 0\n"
   ]
  },
  {
   "cell_type": "code",
   "execution_count": 23,
   "id": "e59a7541",
   "metadata": {},
   "outputs": [
    {
     "data": {
      "text/plain": [
       "True"
      ]
     },
     "execution_count": 23,
     "metadata": {},
     "output_type": "execute_result"
    }
   ],
   "source": [
    "\"a\" < \"ab\""
   ]
  },
  {
   "cell_type": "code",
   "execution_count": 31,
   "id": "86149627",
   "metadata": {},
   "outputs": [
    {
     "name": "stdout",
     "output_type": "stream",
     "text": [
      "olleh"
     ]
    }
   ],
   "source": [
    "# string function no.1 REVERSED()\n",
    "s = \"hello\"\n",
    "for i in reversed(s):\n",
    "    print(i, end = \"\")"
   ]
  },
  {
   "cell_type": "code",
   "execution_count": 29,
   "id": "a85fe7cd",
   "metadata": {},
   "outputs": [
    {
     "name": "stdout",
     "output_type": "stream",
     "text": [
      "a\n",
      "b\n",
      "c\n",
      "1\n",
      "<class 'str'>\n"
     ]
    }
   ],
   "source": [
    "# string function no.2 CHR()\n",
    "    # returns the string representing a character whose unicode point is the integer i\n",
    "print(chr(97))\n",
    "print(chr(98))\n",
    "print(chr(99))\n",
    "print(chr(49))\n",
    "print(type(chr(49)))"
   ]
  },
  {
   "cell_type": "code",
   "execution_count": 8,
   "id": "14941454",
   "metadata": {},
   "outputs": [
    {
     "name": "stdout",
     "output_type": "stream",
     "text": [
      "0 \u0000\n",
      "1 \u0001\n",
      "2 \u0002\n",
      "3 \u0003\n",
      "4 \u0004\n",
      "5 \u0005\n",
      "6 \u0006\n",
      "7 \u0007\n",
      "8 \b\n",
      "9 \t\n",
      "10 \n",
      "\n",
      "11 \u000b",
      "\n",
      "12 \f",
      "\n",
      "13 \r\n",
      "14 \u000e\n",
      "15 \u000f\n",
      "16 \u0010\n",
      "17 \u0011\n",
      "18 \u0012\n",
      "19 \u0013\n",
      "20 \u0014\n",
      "21 \u0015\n",
      "22 \u0016\n",
      "23 \u0017\n",
      "24 \u0018\n",
      "25 \u0019\n",
      "26 \u001a\n",
      "27 \u001b\n",
      "28 \u001c",
      "\n",
      "29 \u001d",
      "\n",
      "30 \u001e",
      "\n",
      "31 \u001f\n",
      "32  \n",
      "33 !\n",
      "34 \"\n",
      "35 #\n",
      "36 $\n",
      "37 %\n",
      "38 &\n",
      "39 '\n",
      "40 (\n",
      "41 )\n",
      "42 *\n",
      "43 +\n",
      "44 ,\n",
      "45 -\n",
      "46 .\n",
      "47 /\n",
      "48 0\n",
      "49 1\n",
      "50 2\n",
      "51 3\n",
      "52 4\n",
      "53 5\n",
      "54 6\n",
      "55 7\n",
      "56 8\n",
      "57 9\n",
      "58 :\n",
      "59 ;\n",
      "60 <\n",
      "61 =\n",
      "62 >\n",
      "63 ?\n",
      "64 @\n",
      "65 A\n",
      "66 B\n",
      "67 C\n",
      "68 D\n",
      "69 E\n",
      "70 F\n",
      "71 G\n",
      "72 H\n",
      "73 I\n",
      "74 J\n",
      "75 K\n",
      "76 L\n",
      "77 M\n",
      "78 N\n",
      "79 O\n",
      "80 P\n",
      "81 Q\n",
      "82 R\n",
      "83 S\n",
      "84 T\n",
      "85 U\n",
      "86 V\n",
      "87 W\n",
      "88 X\n",
      "89 Y\n",
      "90 Z\n",
      "91 [\n",
      "92 \\\n",
      "93 ]\n",
      "94 ^\n",
      "95 _\n",
      "96 `\n",
      "97 a\n",
      "98 b\n",
      "99 c\n",
      "100 d\n",
      "101 e\n",
      "102 f\n",
      "103 g\n",
      "104 h\n",
      "105 i\n",
      "106 j\n",
      "107 k\n",
      "108 l\n",
      "109 m\n",
      "110 n\n",
      "111 o\n",
      "112 p\n",
      "113 q\n",
      "114 r\n",
      "115 s\n",
      "116 t\n",
      "117 u\n",
      "118 v\n",
      "119 w\n",
      "120 x\n",
      "121 y\n",
      "122 z\n",
      "123 {\n",
      "124 |\n",
      "125 }\n",
      "126 ~\n",
      "127 \n",
      "128 \n",
      "129 \n",
      "130 \n"
     ]
    }
   ],
   "source": [
    "for i in range(131):\n",
    "    print(i, chr(i))"
   ]
  },
  {
   "cell_type": "markdown",
   "id": "de663e39",
   "metadata": {},
   "source": [
    "## please remember the following:\n",
    "* chr(32) = \" \"\n",
    "* chr(48) = \"0\"\n",
    "* chr(65) = \"A\"\n",
    "* chr(97) = \"a\""
   ]
  },
  {
   "cell_type": "code",
   "execution_count": 4,
   "id": "4cfb2336",
   "metadata": {},
   "outputs": [
    {
     "name": "stdout",
     "output_type": "stream",
     "text": [
      "97\n",
      "98\n",
      "99\n",
      "49\n",
      "65\n",
      "37\n",
      "32\n"
     ]
    }
   ],
   "source": [
    "# string function no.3 ORD()\n",
    "    # returns an integer representing the unicode point of that character\n",
    "print(ord('a'))\n",
    "print(ord('b'))\n",
    "print(ord('c'))\n",
    "print(ord('1'))\n",
    "print(ord('A'))\n",
    "print(ord('%'))\n",
    "print(ord(' '))"
   ]
  },
  {
   "cell_type": "code",
   "execution_count": 51,
   "id": "fcba7531",
   "metadata": {},
   "outputs": [
    {
     "name": "stdout",
     "output_type": "stream",
     "text": [
      "Kevin\n",
      "KEVIN\n",
      "kevin\n"
     ]
    }
   ],
   "source": [
    "# string function no.4,5,6 CAPITALIZE(), UPPER(), LOWER()\n",
    "s = \"keVin\"\n",
    "print(s.capitalize()) # realize that the V becomes v\n",
    "print(s.upper())\n",
    "print(s.lower())"
   ]
  },
  {
   "cell_type": "markdown",
   "id": "dab42ece",
   "metadata": {},
   "source": [
    "#### other string functions\n",
    "* upper()\n",
    "* lower()\n",
    "* split()\n",
    "* find()\n",
    "* count()\n",
    "* isalnum()\n",
    "* isalpha()\n",
    "* isdecimal()\n",
    "* strip()\n",
    "* replace()"
   ]
  },
  {
   "cell_type": "code",
   "execution_count": 11,
   "id": "92582039",
   "metadata": {},
   "outputs": [
    {
     "name": "stdout",
     "output_type": "stream",
     "text": [
      "['welcome', 'to', 'the', 'jungle']\n",
      "['welcome ', ' the jungle']\n"
     ]
    }
   ],
   "source": [
    "# split()\n",
    "txt = \"welcome to the jungle\"\n",
    "\n",
    "x = txt.split()\n",
    "print(x)\n",
    "\n",
    "y = txt.split(\"to\")\n",
    "print(y) # the \"to\" becomes the seperator"
   ]
  },
  {
   "cell_type": "code",
   "execution_count": 50,
   "id": "facd57c9",
   "metadata": {},
   "outputs": [
    {
     "name": "stdout",
     "output_type": "stream",
     "text": [
      "my a name a is a kevin\n",
      "h a i\n"
     ]
    }
   ],
   "source": [
    "# strip()\n",
    "txt = \"a my a name a is a kevin aa\"\n",
    "print(txt.strip(\"a \")) # removes a and space from the starting and ending of a string\n",
    "\n",
    "txt = \"           h a i         \"\n",
    "print(txt.strip())"
   ]
  },
  {
   "cell_type": "code",
   "execution_count": 6,
   "id": "b98e34a4",
   "metadata": {},
   "outputs": [
    {
     "name": "stdout",
     "output_type": "stream",
     "text": [
      "1\n",
      "2\n",
      "0\n"
     ]
    }
   ],
   "source": [
    "# find()\n",
    "txt = 'helen'\n",
    "print(txt.find('e')) # returns the index of the first occurence of the desired letter\n",
    "print(txt.find('l'))\n",
    "print(txt.find('hel'))"
   ]
  },
  {
   "cell_type": "code",
   "execution_count": 30,
   "id": "b2b3c77d",
   "metadata": {},
   "outputs": [
    {
     "name": "stdout",
     "output_type": "stream",
     "text": [
      "2\n"
     ]
    }
   ],
   "source": [
    "# count() \n",
    "txt = 'steven'\n",
    "print(txt.count('e')) # count the number of occuerences of the desired letter"
   ]
  },
  {
   "cell_type": "code",
   "execution_count": 44,
   "id": "7e57b512",
   "metadata": {},
   "outputs": [
    {
     "name": "stdout",
     "output_type": "stream",
     "text": [
      "True\n",
      "False\n",
      "False\n"
     ]
    }
   ],
   "source": [
    "# isalnum()\n",
    "txt = '42a'\n",
    "print(txt.isalnum()) # returns True if all of the input is alphabet or number, False otherwise\n",
    "txt = '42 a' \n",
    "print(txt.isalnum()) # note that space is not considered as alphabet or number\n",
    "txt = '42.'\n",
    "print(txt.isalnum())"
   ]
  },
  {
   "cell_type": "code",
   "execution_count": 46,
   "id": "753ce0e1",
   "metadata": {},
   "outputs": [
    {
     "name": "stdout",
     "output_type": "stream",
     "text": [
      "True\n",
      "False\n",
      "False\n"
     ]
    }
   ],
   "source": [
    "# isalpha()\n",
    "txt = 'onetwothree' # returns True if all of the input is alphabet, False otherwise\n",
    "print(txt.isalpha())\n",
    "txt = 'one two three'\n",
    "print(txt.isalpha())\n",
    "txt = 'one23'\n",
    "print(txt.isalpha())"
   ]
  },
  {
   "cell_type": "code",
   "execution_count": 16,
   "id": "2bed2547",
   "metadata": {},
   "outputs": [
    {
     "name": "stdout",
     "output_type": "stream",
     "text": [
      "True\n",
      "False\n",
      "False\n",
      "False\n"
     ]
    }
   ],
   "source": [
    "# isdecimal()\n",
    "txt = '123' # returns True if all the characters are decimals (0-9)\n",
    "print(txt.isdecimal())\n",
    "txt = '2.3' # float is not accepted\n",
    "print(txt.isdecimal())\n",
    "txt = '1 2 3'\n",
    "print(txt.isdecimal())\n",
    "txt = 'one 2 3'\n",
    "print(txt.isdecimal())"
   ]
  },
  {
   "cell_type": "markdown",
   "id": "9a083d2e",
   "metadata": {},
   "source": [
    "* isalnum() supports only Alphabets or Numbers\n",
    "* isascii() supports everything inside the ASCII table, eg Symbols (!)\n",
    "* isdecimal() supports only Decimal Numbers. \n",
    "* isdigit() supports Decimals, Subscripts (₂), Superscripts(²). \n",
    "* isnumeric() supports Digits, Vulgar Fractions (⅔), Subscripts (₂), Superscripts (²), Roman Numerals (M), Currency Numerators (£).\n"
   ]
  },
  {
   "cell_type": "code",
   "execution_count": 61,
   "id": "a61c91f7",
   "metadata": {},
   "outputs": [
    {
     "name": "stdout",
     "output_type": "stream",
     "text": [
      "my name is brian\n",
      "my name is brianindrayana\n",
      "hilin\n"
     ]
    }
   ],
   "source": [
    "# replace()\n",
    "txt = 'my name is kevin'\n",
    "print(txt.replace('kevin', 'brian')) # replace all 'kevin' to 'brian'\n",
    "txt = 'my name is kevinindrayana'\n",
    "print(txt.replace('kevin', 'brian')) # note that the kevin is still replaced\n",
    "txt = 'helen'\n",
    "print(txt.replace('e','i')) #replace all 'e' to 'i'"
   ]
  },
  {
   "cell_type": "code",
   "execution_count": 12,
   "id": "ca607b00",
   "metadata": {},
   "outputs": [
    {
     "name": "stdout",
     "output_type": "stream",
     "text": [
      "True\n",
      "True\n"
     ]
    }
   ],
   "source": [
    "#startswith\n",
    "txt = 'hi my name is kevin'\n",
    "print(txt.startswith('h'))\n",
    "print(txt.startswith('hi my name is'))"
   ]
  },
  {
   "cell_type": "code",
   "execution_count": 55,
   "id": "33ac3986",
   "metadata": {},
   "outputs": [
    {
     "data": {
      "text/plain": [
       "'hi my name is kevin'"
      ]
     },
     "execution_count": 55,
     "metadata": {},
     "output_type": "execute_result"
    }
   ],
   "source": [
    "# immutablity - a string once created can never be changed\n",
    "# then how can we delete something from a string?\n",
    "# SLICING + CONCATENATION !!\n",
    "s = \"hi my name is a kevin\"\n",
    "s[:14] + s[16:]"
   ]
  },
  {
   "cell_type": "code",
   "execution_count": 56,
   "id": "37d941ad",
   "metadata": {},
   "outputs": [
    {
     "data": {
      "text/plain": [
       "'hello my name is bon'"
      ]
     },
     "execution_count": 56,
     "metadata": {},
     "output_type": "execute_result"
    }
   ],
   "source": [
    "# then how can we change something from a string ?\n",
    "# SAME IDEA ! USE SLICING + CONCATENATION\n",
    "s = \"hello my name is ben\"\n",
    "s[:18] + \"o\" + s[19:]\n"
   ]
  },
  {
   "cell_type": "code",
   "execution_count": 8,
   "id": "ac113105",
   "metadata": {},
   "outputs": [
    {
     "name": "stdout",
     "output_type": "stream",
     "text": [
      "['t', 'e', 's', 't']\n",
      "a b c\n"
     ]
    },
    {
     "data": {
      "text/plain": [
       "\"['t', 'e', 's', 't']\""
      ]
     },
     "execution_count": 8,
     "metadata": {},
     "output_type": "execute_result"
    }
   ],
   "source": [
    "# string to list\n",
    "mystr = \"test\"\n",
    "mylist = list(mystr)\n",
    "print(mylist)\n",
    "\n",
    "# list to string\n",
    "mylst = [\"a\", \"b\", \"c\"]\n",
    "mystring = \" \".join(mylst)\n",
    "print(mystring)\n",
    "str(mylist) # realize that this is not the output we want"
   ]
  },
  {
   "cell_type": "code",
   "execution_count": 8,
   "id": "aa9f64b9",
   "metadata": {},
   "outputs": [
    {
     "name": "stdout",
     "output_type": "stream",
     "text": [
      "hi my name is Kevin\n",
      "hi my name is Kevin, age 17\n"
     ]
    }
   ],
   "source": [
    "# f-strings\n",
    "name = \"Kevin\"\n",
    "print(f'hi my name is {name}')\n",
    "mydict = {'name': 'Kevin', 'age': 17}\n",
    "print(f\"hi my name is {mydict['name']}, age {mydict['age']}\")"
   ]
  },
  {
   "cell_type": "code",
   "execution_count": 10,
   "id": "d4a1654c",
   "metadata": {},
   "outputs": [
    {
     "name": "stdout",
     "output_type": "stream",
     "text": [
      "|Kevin               |\n",
      "|       Kevin        |\n",
      "|               Kevin|\n",
      "|Kevin               |\n"
     ]
    }
   ],
   "source": [
    "# f-strings format specifiers\n",
    "print(f'|{name: <20}|') # left allignment width 20\n",
    "print(f'|{name: ^20}|') # center allignment width 20\n",
    "print(f'|{name: >20}|') # right allignment width 20\n",
    "print(f'|{name:20}|') # by default it will be left alligned"
   ]
  },
  {
   "cell_type": "code",
   "execution_count": 6,
   "id": "eb2a8e8d",
   "metadata": {},
   "outputs": [
    {
     "name": "stdout",
     "output_type": "stream",
     "text": [
      "00001\n",
      "00002\n",
      "00003\n",
      "00004\n",
      "00005\n",
      "00006\n",
      "00007\n",
      "00008\n",
      "00009\n",
      "00010\n"
     ]
    }
   ],
   "source": [
    "# another example with space fillers\n",
    "for i in range(1,11):\n",
    "    print(f\"{i:05}\") # 0 represents the white-space fillers and 5 represents the width"
   ]
  },
  {
   "cell_type": "code",
   "execution_count": 3,
   "id": "e22f8ee9",
   "metadata": {},
   "outputs": [
    {
     "name": "stdout",
     "output_type": "stream",
     "text": [
      "00100\n",
      "00200\n",
      "00300\n",
      "00400\n",
      "00500\n",
      "00600\n",
      "00700\n",
      "00800\n",
      "00900\n",
      "01000\n"
     ]
    }
   ],
   "source": [
    "for i in range(1,11):\n",
    "    print(f\"{i:0^5}\")\n",
    "\n",
    "# pay attention to the number 10"
   ]
  },
  {
   "cell_type": "code",
   "execution_count": 53,
   "id": "b72261f1",
   "metadata": {},
   "outputs": [
    {
     "name": "stdout",
     "output_type": "stream",
     "text": [
      " 1 *\n",
      " 2 **\n",
      " 3 ***\n",
      " 4 ****\n",
      " 5 *****\n",
      " 6 ******\n",
      " 7 *******\n",
      " 8 ********\n",
      " 9 *********\n",
      "10 **********\n"
     ]
    }
   ],
   "source": [
    "for i in range(1, 11):\n",
    "    print(f\"{i:>2}\",end = \" \")\n",
    "    x = \"*\" * i\n",
    "    print(f\"{x}\")\n"
   ]
  },
  {
   "cell_type": "code",
   "execution_count": 71,
   "id": "95283eb7",
   "metadata": {},
   "outputs": [
    {
     "name": "stdout",
     "output_type": "stream",
     "text": [
      "3.1416\n"
     ]
    }
   ],
   "source": [
    "# format the output of float\n",
    "pi = 3.14159265\n",
    "print(f\"{pi:.4f}\") # notice that it is rounded to 4 decimal point"
   ]
  },
  {
   "cell_type": "code",
   "execution_count": 75,
   "id": "659dfbdf",
   "metadata": {},
   "outputs": [
    {
     "name": "stdout",
     "output_type": "stream",
     "text": [
      "3.142\n"
     ]
    }
   ],
   "source": [
    "print(f\"{pi:.4}\") # 4 characters\n",
    "# jgn pake yg ini, pake yg atas aja"
   ]
  },
  {
   "cell_type": "markdown",
   "id": "99be8a96",
   "metadata": {},
   "source": [
    "### ENCRYPTION"
   ]
  },
  {
   "cell_type": "code",
   "execution_count": 22,
   "id": "2df03da3",
   "metadata": {},
   "outputs": [
    {
     "name": "stdout",
     "output_type": "stream",
     "text": [
      "lmnopqrstuvwxyzabcdefghijk\n",
      "spwwz\n"
     ]
    }
   ],
   "source": [
    "plain_text= 'hello'\n",
    "n_key = 11\n",
    "\n",
    "#shift alphabet by n_keys\n",
    "alphabet = 'abcdefghijklmnopqrstuvwxyz'\n",
    "encryptedalphabet = alphabet[n_key:] + alphabet[:n_key]\n",
    "print(encryptedalphabet)\n",
    "\n",
    "#iterate through the plain text\n",
    "ciphertext = ''\n",
    "for i in plain_text:\n",
    "    ciphertext += encryptedalphabet[ord(i)-97]\n",
    "    \n",
    "print(ciphertext)"
   ]
  },
  {
   "cell_type": "markdown",
   "id": "73bda442",
   "metadata": {},
   "source": [
    "### DECRYPTION"
   ]
  },
  {
   "cell_type": "code",
   "execution_count": 24,
   "id": "d43ccfa6",
   "metadata": {},
   "outputs": [
    {
     "name": "stdout",
     "output_type": "stream",
     "text": [
      "0 spwwz\n",
      "1 rovvy\n",
      "2 qnuux\n",
      "3 pmttw\n",
      "4 olssv\n",
      "5 nkrru\n",
      "6 mjqqt\n",
      "7 lipps\n",
      "8 khoor\n",
      "9 jgnnq\n",
      "10 ifmmp\n",
      "11 hello\n",
      "12 gdkkn\n",
      "13 fcjjm\n",
      "14 ebiil\n",
      "15 dahhk\n",
      "16 czggj\n",
      "17 byffi\n",
      "18 axeeh\n",
      "19 zwddg\n",
      "20 yvccf\n",
      "21 xubbe\n",
      "22 wtaad\n",
      "23 vszzc\n",
      "24 uryyb\n",
      "25 tqxxa\n"
     ]
    }
   ],
   "source": [
    "alphabet = 'abcdefghijklmnopqrstuvwxyz'\n",
    "ciphertext = 'spwwz'\n",
    "\n",
    "for key in range(26):\n",
    "    decrypted_alphabet = alphabet[-key:] + alphabet [:-key]\n",
    "    plaintext = ''\n",
    "    for i in ciphertext:\n",
    "        plaintext += decrypted_alphabet[ord(i)-97]\n",
    "        \n",
    "    print(key, plaintext)\n"
   ]
  },
  {
   "cell_type": "markdown",
   "id": "e6b54d27",
   "metadata": {},
   "source": [
    "### CREATING A SORTED LIST"
   ]
  },
  {
   "cell_type": "code",
   "execution_count": 11,
   "id": "ab15029b",
   "metadata": {},
   "outputs": [
    {
     "name": "stdout",
     "output_type": "stream",
     "text": [
      "HKU\n",
      "['HKU']\n",
      "CUHK\n",
      "['CUHK', 'HKU']\n",
      "CITYU\n",
      "['CITYU', 'CUHK', 'HKU']\n"
     ]
    },
    {
     "ename": "KeyboardInterrupt",
     "evalue": "Interrupted by user",
     "output_type": "error",
     "traceback": [
      "\u001b[1;31m---------------------------------------------------------------------------\u001b[0m",
      "\u001b[1;31mKeyboardInterrupt\u001b[0m                         Traceback (most recent call last)",
      "\u001b[1;32m<ipython-input-11-c5e2c03d3c2e>\u001b[0m in \u001b[0;36m<module>\u001b[1;34m\u001b[0m\n\u001b[0;32m      1\u001b[0m \u001b[0mstrings\u001b[0m \u001b[1;33m=\u001b[0m \u001b[1;33m[\u001b[0m\u001b[1;33m]\u001b[0m\u001b[1;33m\u001b[0m\u001b[1;33m\u001b[0m\u001b[0m\n\u001b[0;32m      2\u001b[0m \u001b[1;32mwhile\u001b[0m \u001b[1;32mTrue\u001b[0m\u001b[1;33m:\u001b[0m\u001b[1;33m\u001b[0m\u001b[1;33m\u001b[0m\u001b[0m\n\u001b[1;32m----> 3\u001b[1;33m     \u001b[0mnewstring\u001b[0m \u001b[1;33m=\u001b[0m \u001b[0minput\u001b[0m\u001b[1;33m(\u001b[0m\u001b[1;33m)\u001b[0m\u001b[1;33m\u001b[0m\u001b[1;33m\u001b[0m\u001b[0m\n\u001b[0m\u001b[0;32m      4\u001b[0m     \u001b[0mpos\u001b[0m \u001b[1;33m=\u001b[0m \u001b[1;36m0\u001b[0m\u001b[1;33m\u001b[0m\u001b[1;33m\u001b[0m\u001b[0m\n\u001b[0;32m      5\u001b[0m     \u001b[1;32mwhile\u001b[0m \u001b[0mpos\u001b[0m \u001b[1;33m<\u001b[0m \u001b[0mlen\u001b[0m\u001b[1;33m(\u001b[0m\u001b[0mstrings\u001b[0m\u001b[1;33m)\u001b[0m\u001b[1;33m:\u001b[0m\u001b[1;33m\u001b[0m\u001b[1;33m\u001b[0m\u001b[0m\n",
      "\u001b[1;32m~\\anaconda3\\lib\\site-packages\\ipykernel\\kernelbase.py\u001b[0m in \u001b[0;36mraw_input\u001b[1;34m(self, prompt)\u001b[0m\n\u001b[0;32m    858\u001b[0m                 \u001b[1;34m\"raw_input was called, but this frontend does not support input requests.\"\u001b[0m\u001b[1;33m\u001b[0m\u001b[1;33m\u001b[0m\u001b[0m\n\u001b[0;32m    859\u001b[0m             )\n\u001b[1;32m--> 860\u001b[1;33m         return self._input_request(str(prompt),\n\u001b[0m\u001b[0;32m    861\u001b[0m             \u001b[0mself\u001b[0m\u001b[1;33m.\u001b[0m\u001b[0m_parent_ident\u001b[0m\u001b[1;33m,\u001b[0m\u001b[1;33m\u001b[0m\u001b[1;33m\u001b[0m\u001b[0m\n\u001b[0;32m    862\u001b[0m             \u001b[0mself\u001b[0m\u001b[1;33m.\u001b[0m\u001b[0m_parent_header\u001b[0m\u001b[1;33m,\u001b[0m\u001b[1;33m\u001b[0m\u001b[1;33m\u001b[0m\u001b[0m\n",
      "\u001b[1;32m~\\anaconda3\\lib\\site-packages\\ipykernel\\kernelbase.py\u001b[0m in \u001b[0;36m_input_request\u001b[1;34m(self, prompt, ident, parent, password)\u001b[0m\n\u001b[0;32m    902\u001b[0m             \u001b[1;32mexcept\u001b[0m \u001b[0mKeyboardInterrupt\u001b[0m\u001b[1;33m:\u001b[0m\u001b[1;33m\u001b[0m\u001b[1;33m\u001b[0m\u001b[0m\n\u001b[0;32m    903\u001b[0m                 \u001b[1;31m# re-raise KeyboardInterrupt, to truncate traceback\u001b[0m\u001b[1;33m\u001b[0m\u001b[1;33m\u001b[0m\u001b[1;33m\u001b[0m\u001b[0m\n\u001b[1;32m--> 904\u001b[1;33m                 \u001b[1;32mraise\u001b[0m \u001b[0mKeyboardInterrupt\u001b[0m\u001b[1;33m(\u001b[0m\u001b[1;34m\"Interrupted by user\"\u001b[0m\u001b[1;33m)\u001b[0m \u001b[1;32mfrom\u001b[0m \u001b[1;32mNone\u001b[0m\u001b[1;33m\u001b[0m\u001b[1;33m\u001b[0m\u001b[0m\n\u001b[0m\u001b[0;32m    905\u001b[0m             \u001b[1;32mexcept\u001b[0m \u001b[0mException\u001b[0m \u001b[1;32mas\u001b[0m \u001b[0me\u001b[0m\u001b[1;33m:\u001b[0m\u001b[1;33m\u001b[0m\u001b[1;33m\u001b[0m\u001b[0m\n\u001b[0;32m    906\u001b[0m                 \u001b[0mself\u001b[0m\u001b[1;33m.\u001b[0m\u001b[0mlog\u001b[0m\u001b[1;33m.\u001b[0m\u001b[0mwarning\u001b[0m\u001b[1;33m(\u001b[0m\u001b[1;34m\"Invalid Message:\"\u001b[0m\u001b[1;33m,\u001b[0m \u001b[0mexc_info\u001b[0m\u001b[1;33m=\u001b[0m\u001b[1;32mTrue\u001b[0m\u001b[1;33m)\u001b[0m\u001b[1;33m\u001b[0m\u001b[1;33m\u001b[0m\u001b[0m\n",
      "\u001b[1;31mKeyboardInterrupt\u001b[0m: Interrupted by user"
     ]
    }
   ],
   "source": [
    "strings = []\n",
    "while True:\n",
    "    newstring = input()\n",
    "    pos = 0\n",
    "    while pos < len(strings):\n",
    "        if strings[pos] > newstring:\n",
    "            break\n",
    "        pos += 1\n",
    "    strings.insert(pos,newstring)\n",
    "    print(strings)"
   ]
  }
 ],
 "metadata": {
  "kernelspec": {
   "display_name": "Python 3",
   "language": "python",
   "name": "python3"
  },
  "language_info": {
   "codemirror_mode": {
    "name": "ipython",
    "version": 3
   },
   "file_extension": ".py",
   "mimetype": "text/x-python",
   "name": "python",
   "nbconvert_exporter": "python",
   "pygments_lexer": "ipython3",
   "version": "3.8.8"
  }
 },
 "nbformat": 4,
 "nbformat_minor": 5
}
