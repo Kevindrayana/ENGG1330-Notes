{
 "cells": [
  {
   "cell_type": "markdown",
   "id": "131d7e94",
   "metadata": {},
   "source": [
    "# PAST PAPER 2019"
   ]
  },
  {
   "cell_type": "code",
   "execution_count": 4,
   "id": "ef896af6",
   "metadata": {},
   "outputs": [
    {
     "name": "stdout",
     "output_type": "stream",
     "text": [
      "0(i),3(i),1(i),4(i),2(i),"
     ]
    }
   ],
   "source": [
    "for i in range(10,1,-2):\n",
    "    print(f'{i%5}(i)', end = ',')"
   ]
  },
  {
   "cell_type": "code",
   "execution_count": 17,
   "id": "ff239a51",
   "metadata": {},
   "outputs": [
    {
     "name": "stdout",
     "output_type": "stream",
     "text": [
      "6.0 5.5 3 ao\n"
     ]
    }
   ],
   "source": [
    "a = 12\n",
    "b = 4\n",
    "c = a//b\n",
    "d = 'a'\n",
    "b += 1.5\n",
    "print(a/2,b,c,d+'o')"
   ]
  },
  {
   "cell_type": "code",
   "execution_count": 23,
   "id": "66a5e3c7",
   "metadata": {},
   "outputs": [
    {
     "name": "stdout",
     "output_type": "stream",
     "text": [
      "isdom.ro\n"
     ]
    }
   ],
   "source": [
    "a = \"www.wisdom.row.hk\"\n",
    "print(a.strip('w.hk'))"
   ]
  },
  {
   "cell_type": "code",
   "execution_count": 24,
   "id": "76b620f5",
   "metadata": {},
   "outputs": [
    {
     "name": "stdout",
     "output_type": "stream",
     "text": [
      "['ty', 'tm', 'tx', 'tz', 'ty']\n"
     ]
    }
   ],
   "source": [
    "lst = ['a','d','y','f','b','m','g','x','c','z','y']\n",
    "print(['t'+j for j in lst if j > 'i'])"
   ]
  },
  {
   "cell_type": "code",
   "execution_count": 40,
   "id": "d6127fc6",
   "metadata": {},
   "outputs": [
    {
     "name": "stdout",
     "output_type": "stream",
     "text": [
      "(2,).(3, 4).(3, 4, 2).(3, 4, 5).(9, 4, 3).(9, 5, 2)."
     ]
    }
   ],
   "source": [
    "t1 = 3,4,5\n",
    "t2 = 9,5,2\n",
    "t3 = 3,4\n",
    "t4 = 9,4,3\n",
    "t5 = 2,\n",
    "t6 = t3+t5\n",
    "\n",
    "l = [t1,t2,t3,t4,t5,t6]\n",
    "l.sort()\n",
    "for v in l:\n",
    "    print(v, end = '.')"
   ]
  },
  {
   "cell_type": "code",
   "execution_count": 33,
   "id": "834ea5a4",
   "metadata": {},
   "outputs": [
    {
     "name": "stdout",
     "output_type": "stream",
     "text": [
      "99\n"
     ]
    }
   ],
   "source": [
    "s = 'ENGG13300'\n",
    "x = 0\n",
    "for c in s:\n",
    "    if c >= 'A' and c <= 'Z':\n",
    "        x += ord(c) - ord('A')\n",
    "    elif c >= '0' and c <= '9':\n",
    "        x += (ord(c)-ord('0'))*10\n",
    "print(x)"
   ]
  },
  {
   "cell_type": "code",
   "execution_count": 34,
   "id": "434f9736",
   "metadata": {},
   "outputs": [
    {
     "name": "stdout",
     "output_type": "stream",
     "text": [
      "fuls beautfe L\n"
     ]
    }
   ],
   "source": [
    "s1 = 'Life is beautiful'\n",
    "s2 = s1.split('i')\n",
    "s3 = ''\n",
    "for t in s2:\n",
    "    s3 = t + s3\n",
    "print(s3)"
   ]
  },
  {
   "cell_type": "code",
   "execution_count": 35,
   "id": "f41bb49a",
   "metadata": {},
   "outputs": [
    {
     "name": "stdout",
     "output_type": "stream",
     "text": [
      "(10, 9) (19, 8) (27, 7) "
     ]
    }
   ],
   "source": [
    "i = 0\n",
    "j = 10\n",
    "while i<20 and j>5:\n",
    "    i += j \n",
    "    j -= 1\n",
    "    print(f\"({i}, {j})\", end = \" \")"
   ]
  },
  {
   "cell_type": "code",
   "execution_count": 38,
   "id": "2d0b0da7",
   "metadata": {},
   "outputs": [
    {
     "name": "stdout",
     "output_type": "stream",
     "text": [
      "[0, 0, 1, 2, 1, 2, 1, 2, 4, 5, 7]\n"
     ]
    }
   ],
   "source": [
    "a = [0]*2 + [1,2] * 3 + [4,5,7]\n",
    "print(a)"
   ]
  },
  {
   "cell_type": "code",
   "execution_count": 45,
   "id": "df184642",
   "metadata": {},
   "outputs": [
    {
     "name": "stdout",
     "output_type": "stream",
     "text": [
      "offset: 10, r: 35\n"
     ]
    }
   ],
   "source": [
    "def fx(a,b):\n",
    "    offset = 20\n",
    "    if a>b:\n",
    "        a += offset\n",
    "    else:\n",
    "        b += offset\n",
    "    return a-b\n",
    "\n",
    "offset = 10\n",
    "r = fx(30,15)\n",
    "print(f\"offset: {offset}, r: {r}\")\n",
    "        "
   ]
  },
  {
   "cell_type": "code",
   "execution_count": 46,
   "id": "dfd71808",
   "metadata": {},
   "outputs": [
    {
     "name": "stdout",
     "output_type": "stream",
     "text": [
      "8:a,12:r,"
     ]
    }
   ],
   "source": [
    "k = 0\n",
    "for i in 'Smart':\n",
    "    for j in 'car':\n",
    "        k+=1 \n",
    "        if i == j:\n",
    "            print(f'{k}:{i}', end = ',')"
   ]
  },
  {
   "cell_type": "code",
   "execution_count": 48,
   "id": "baf182e4",
   "metadata": {},
   "outputs": [
    {
     "name": "stdout",
     "output_type": "stream",
     "text": [
      "[4, 5, 6, 7, 0, 8]\n"
     ]
    }
   ],
   "source": [
    "data = [1,2,3,4,5,6,7,8,9,10]\n",
    "data = data[3:8]\n",
    "data.insert(4,0)\n",
    "print(data)"
   ]
  },
  {
   "cell_type": "code",
   "execution_count": 52,
   "id": "9fd5d5b4",
   "metadata": {},
   "outputs": [
    {
     "name": "stdout",
     "output_type": "stream",
     "text": [
      "dNokgonnigok\n",
      "Engineering\n"
     ]
    }
   ],
   "source": [
    "def encrypt(msg,cbook):\n",
    "    output = ''\n",
    "    for c in msg:\n",
    "        if c.lower() >= 'a' and c.lower() <= 'z':\n",
    "            lc = cbook[ord(c.lower())-ord('a')]\n",
    "            if c.isupper():\n",
    "                lc = lc.upper()\n",
    "            output += lc\n",
    "            \n",
    "        else:\n",
    "            output += c\n",
    "    return output\n",
    "\n",
    "def decrypt(msg,cbook):\n",
    "    output = ''\n",
    "    for c in msg:\n",
    "        if c.lower()>='a' and c.lower() <= 'z':\n",
    "            index = cbook.find(c.lower())\n",
    "            lc = chr(ord('a')+index)\n",
    "            if c.isupper():\n",
    "                lc = lc.upper()\n",
    "            output += lc\n",
    "            \n",
    "        else:\n",
    "            output += c\n",
    "    return output\n",
    "\n",
    "codebook = 'rlhpndkqgjvszobmfiaeutcyxw'\n",
    "s = input()\n",
    "c = s[0]\n",
    "m = s[1:]\n",
    "if c == 'e':\n",
    "    print(encrypt(m, codebook))\n",
    "else:\n",
    "    print(decrypt(m,codebook))"
   ]
  },
  {
   "cell_type": "code",
   "execution_count": 79,
   "id": "8f9d101e",
   "metadata": {},
   "outputs": [
    {
     "name": "stdout",
     "output_type": "stream",
     "text": [
      "this is a test\n",
      "is\n",
      "this\n",
      "is\n"
     ]
    }
   ],
   "source": [
    "def count_alphabets(word,s):\n",
    "    counter = 0\n",
    "    for i in list(set(list(word))):\n",
    "        for j in s:\n",
    "            if i.lower() == j.lower():\n",
    "                counter += 1\n",
    "    return counter\n",
    "\n",
    "word_list = input().split()\n",
    "s = input()\n",
    "occurence = []\n",
    "\n",
    "for i in word_list:\n",
    "    occurence.append(count_alphabets(i,s))\n",
    "\n",
    "for j in range(len(occurence)):\n",
    "    if occurence[j] == max(occurence):\n",
    "        print(word_list[j])"
   ]
  },
  {
   "cell_type": "code",
   "execution_count": 96,
   "id": "c8c641e9",
   "metadata": {},
   "outputs": [
    {
     "name": "stdout",
     "output_type": "stream",
     "text": [
      "20\n",
      "1\n",
      "4\n",
      "9\n"
     ]
    }
   ],
   "source": [
    "def count_no_of_factors(n):\n",
    "    counter = 0\n",
    "    for i in range(1,n+1):\n",
    "        if n%i == 0 and i != 1 and n!= i:\n",
    "            counter += 1\n",
    "    return counter\n",
    "    \n",
    "n,a = int(input()), int(input())\n",
    "for i in range(1,n):\n",
    "    if a == count_no_of_factors(i):\n",
    "        print(i)"
   ]
  },
  {
   "cell_type": "code",
   "execution_count": 114,
   "id": "9b7bf911",
   "metadata": {},
   "outputs": [
    {
     "name": "stdout",
     "output_type": "stream",
     "text": [
      "2\n",
      "2 1 9\n",
      "1 1 8\n",
      "1 1 8\n",
      "2 1 9\n"
     ]
    }
   ],
   "source": [
    "def change_order(n):\n",
    "    a,b,c = n.split()\n",
    "    new_num = b,c,a\n",
    "    return int(''.join(new_num))\n",
    "\n",
    "originals = []\n",
    "for i in range(int(input())):\n",
    "    originals.append(input())\n",
    "    \n",
    "#print(originals)\n",
    "\n",
    "swapped = []\n",
    "for j in originals:\n",
    "    swapped.append(change_order(j))\n",
    "    \n",
    "#print(swapped)\n",
    "    \n",
    "sorted_swapped = sorted(swapped)  \n",
    "\n",
    "#print(sorted_swapped)\n",
    "\n",
    "for y in range(len(sorted_swapped)):\n",
    "    for x in range(len(swapped)):\n",
    "        if swapped[x] == sorted_swapped[y]:\n",
    "            print(originals[x])\n",
    "\n"
   ]
  },
  {
   "cell_type": "code",
   "execution_count": 1,
   "id": "1dd86180",
   "metadata": {},
   "outputs": [
    {
     "name": "stdout",
     "output_type": "stream",
     "text": [
      "20\n",
      "1 2 3 4\n",
      "30 40 50 60\n",
      "600\n"
     ]
    }
   ],
   "source": [
    "L = int(input())\n",
    "vs = list(map(int,input().split()))\n",
    "ps = list(map(int,input().split()))\n",
    "\n",
    "dct = {}\n",
    "for i in range(len(vs)):\n",
    "    dct[vs[i]] = ps[i]\n",
    "\n",
    "def findmax():\n",
    "    charge_for_1 = []\n",
    "    for i in range(len(vs)):\n",
    "        charge_for_1.append(ps[i]/vs[i])\n",
    "    for i in range(len(charge_for_1)):\n",
    "        if charge_for_1[i] == max(charge_for_1):\n",
    "            return vs[i]\n",
    "        \n",
    "def findnumberclosestto(n):\n",
    "    lst = []\n",
    "    for i in vs:\n",
    "        if n-i >= 0:\n",
    "            lst.append(n-i)\n",
    "    if lst != []:\n",
    "        for j in range(len(lst)):\n",
    "            if lst[j] == min(lst):\n",
    "                return vs[j]\n",
    "    \n",
    "def main():\n",
    "    a,b = divmod(L,findmax())\n",
    "        \n",
    "    if b != 0:\n",
    "        if findnumberclosestto(b) != None:\n",
    "            print(a * dct[findmax()] + b // findnumberclosestto(b) * dct[findnumberclosestto(b)]) \n",
    "        else:\n",
    "            print(a * dct[findmax()]) \n",
    "    else:\n",
    "        print(a * dct[findmax()])\n",
    "main()"
   ]
  },
  {
   "cell_type": "code",
   "execution_count": 36,
   "id": "57c4412c",
   "metadata": {},
   "outputs": [
    {
     "name": "stdout",
     "output_type": "stream",
     "text": [
      "5\n",
      "2 3\n",
      "20 30\n",
      "1 5\n",
      "30 40\n",
      "vs: [2, 3, 1, 5]\n",
      "ps: [20, 30, 30, 40]\n",
      "{2: 20, 3: 30, 1: 30, 5: 40}\n",
      "150\n"
     ]
    }
   ],
   "source": [
    "L = int(input())\n",
    "vs = list(map(int,input().split()))\n",
    "ps = list(map(int,input().split()))\n",
    "\n",
    "vs += list(map(int,input().split()))\n",
    "ps += list(map(int,input().split()))\n",
    "\n",
    "dct = {}\n",
    "for i in range(len(vs)):\n",
    "    if vs[i] not in dct or ps[i] > dct[vs[i]]:\n",
    "        dct[vs[i]] = ps[i]\n",
    "\n",
    "def findmax():\n",
    "    charge_for_1 = []\n",
    "    for i in range(len(vs)):\n",
    "        charge_for_1.append(ps[i]/vs[i])\n",
    "    for i in range(len(charge_for_1)):\n",
    "        if charge_for_1[i] == max(charge_for_1):\n",
    "            return vs[i]\n",
    "        \n",
    "def findnumberclosestto(n):\n",
    "    lst = []\n",
    "    for i in vs:\n",
    "        if n-i >= 0:\n",
    "            lst.append(abs(n-i))\n",
    "    if lst != []:\n",
    "        for j in range(len(lst)):\n",
    "            if lst[j] == min(lst):\n",
    "                return vs[j]\n",
    "    \n",
    "def main():\n",
    "    a,b = divmod(L,findmax())\n",
    "        \n",
    "    if b != 0:\n",
    "        if findnumberclosestto(b) != None:\n",
    "            print(a * dct[findmax()] + b // findnumberclosestto(b) * dct[findnumberclosestto(b)]) \n",
    "        else:\n",
    "            print(a * dct[findmax()]) \n",
    "    else:\n",
    "        print(a * dct[findmax()])\n",
    "main()"
   ]
  },
  {
   "cell_type": "markdown",
   "id": "55296c8a",
   "metadata": {},
   "source": [
    "# PAST PAPER 2020"
   ]
  },
  {
   "cell_type": "code",
   "execution_count": 49,
   "id": "e71b0ece",
   "metadata": {},
   "outputs": [
    {
     "name": "stdout",
     "output_type": "stream",
     "text": [
      "6.0 8.0 6 6.0 9 8.0\n"
     ]
    }
   ],
   "source": [
    "i = 3.0\n",
    "print(i*2, 2**i, 3*2, 2.0*3, 3**2, 2.0**3)"
   ]
  },
  {
   "cell_type": "code",
   "execution_count": 51,
   "id": "1c524b97",
   "metadata": {},
   "outputs": [
    {
     "name": "stdout",
     "output_type": "stream",
     "text": [
      "4.0 4.25 2 2.0\n"
     ]
    }
   ],
   "source": [
    "i = 4.0\n",
    "print(17//i, 17.0/4, 18//7, 18.0//7)"
   ]
  },
  {
   "cell_type": "code",
   "execution_count": 60,
   "id": "cc81190c",
   "metadata": {},
   "outputs": [
    {
     "name": "stdout",
     "output_type": "stream",
     "text": [
      "0 0 1 0 5 1\n"
     ]
    }
   ],
   "source": [
    "i = 40\n",
    "print(i%1, i%2, i%3, i%4, 5%i, 40%(i-1))"
   ]
  },
  {
   "cell_type": "code",
   "execution_count": 63,
   "id": "a31765e5",
   "metadata": {},
   "outputs": [
    {
     "name": "stdout",
     "output_type": "stream",
     "text": [
      "17 17.67 17.7 17.666\n"
     ]
    }
   ],
   "source": [
    "i = 17.666\n",
    "print(int(i), f'{i:.2f}', f'{i:.1f}', f'{i:.3f}')"
   ]
  },
  {
   "cell_type": "code",
   "execution_count": 65,
   "id": "cd12b36d",
   "metadata": {},
   "outputs": [
    {
     "name": "stdout",
     "output_type": "stream",
     "text": [
      "True\n"
     ]
    }
   ],
   "source": [
    "i = 42\n",
    "b = i<=44 and i*2>100 or i*3>100\n",
    "print(b)"
   ]
  },
  {
   "cell_type": "code",
   "execution_count": 66,
   "id": "ca4caf17",
   "metadata": {},
   "outputs": [
    {
     "name": "stdout",
     "output_type": "stream",
     "text": [
      "4242446424"
     ]
    }
   ],
   "source": [
    "a = []\n",
    "a = a + [1,2]\n",
    "a = [1,2] + a\n",
    "a = a + [2,2] + a\n",
    "del a[0]\n",
    "a.insert(3,3)\n",
    "for e in reversed(a):\n",
    "    print(e*2, end = '')"
   ]
  },
  {
   "cell_type": "code",
   "execution_count": 67,
   "id": "fcc1b44a",
   "metadata": {},
   "outputs": [
    {
     "name": "stdout",
     "output_type": "stream",
     "text": [
      "02two6"
     ]
    }
   ],
   "source": [
    "d = {0:0, 1:'one', 'two':2, 3:'three'}\n",
    "for e in d:\n",
    "    if e == 'two':\n",
    "        print(e, end = '')\n",
    "    else:\n",
    "        print(e+e, end = '')"
   ]
  },
  {
   "cell_type": "code",
   "execution_count": 68,
   "id": "2b9c55b3",
   "metadata": {},
   "outputs": [
    {
     "name": "stdout",
     "output_type": "stream",
     "text": [
      "GO NHF\n"
     ]
    }
   ],
   "source": [
    "a = 'The University of Hong Kong'\n",
    "print(a[:-13:-2].upper())"
   ]
  },
  {
   "cell_type": "code",
   "execution_count": 69,
   "id": "ba839653",
   "metadata": {},
   "outputs": [
    {
     "name": "stdout",
     "output_type": "stream",
     "text": [
      "h\n"
     ]
    }
   ],
   "source": [
    "a = 3,6,1,2,5,4,0\n",
    "a2 = 'theBest'\n",
    "print(a2[a[2]])"
   ]
  },
  {
   "cell_type": "code",
   "execution_count": 70,
   "id": "516a8a54",
   "metadata": {},
   "outputs": [
    {
     "name": "stdout",
     "output_type": "stream",
     "text": [
      "1086"
     ]
    }
   ],
   "source": [
    "i = 1\n",
    "for i in range(10,5,-2):\n",
    "    print(i, end = '')"
   ]
  },
  {
   "cell_type": "code",
   "execution_count": 71,
   "id": "3fa660f4",
   "metadata": {},
   "outputs": [
    {
     "name": "stdout",
     "output_type": "stream",
     "text": [
      "1 -100 -41 24\n"
     ]
    }
   ],
   "source": [
    "a = 1\n",
    "b = 42\n",
    "c = a-b\n",
    "d = 18\n",
    "if a < b:\n",
    "    b = -100\n",
    "    if c < b:\n",
    "        a = -101\n",
    "    else:\n",
    "        d = 19\n",
    "        if b*2< -201:\n",
    "            d = 20\n",
    "        elif c < -1:\n",
    "            d += 5\n",
    "        else:\n",
    "            d += 6\n",
    "            \n",
    "print(a,b,c,d)"
   ]
  },
  {
   "cell_type": "code",
   "execution_count": 72,
   "id": "678cd80d",
   "metadata": {},
   "outputs": [
    {
     "name": "stdout",
     "output_type": "stream",
     "text": [
      "1238\n"
     ]
    }
   ],
   "source": [
    "i = 1\n",
    "while i < 4:\n",
    "    print(i, end = '')\n",
    "    i += 1\n",
    "print(i*2)"
   ]
  },
  {
   "cell_type": "code",
   "execution_count": 73,
   "id": "0946ca3d",
   "metadata": {},
   "outputs": [
    {
     "name": "stdout",
     "output_type": "stream",
     "text": [
      "7 07 16 06 1"
     ]
    }
   ],
   "source": [
    "for i in range(7, 5, -1):\n",
    "    for x in range(2):\n",
    "        print(i,x,end = '')"
   ]
  },
  {
   "cell_type": "code",
   "execution_count": 74,
   "id": "b640c39c",
   "metadata": {},
   "outputs": [
    {
     "name": "stdout",
     "output_type": "stream",
     "text": [
      "strne\n"
     ]
    }
   ],
   "source": [
    "for v in 'string':\n",
    "    if v == 'i':\n",
    "        continue\n",
    "    print(v,end='')\n",
    "    if v == 'n':\n",
    "        break\n",
    "print('e')"
   ]
  },
  {
   "cell_type": "code",
   "execution_count": 78,
   "id": "b7f31e53",
   "metadata": {},
   "outputs": [
    {
     "name": "stdout",
     "output_type": "stream",
     "text": [
      "(18, 6)\n"
     ]
    }
   ],
   "source": [
    "def a(a):\n",
    "    return (a*2, a*3)\n",
    "def b(b):\n",
    "    return (a(b)[1], b)\n",
    "\n",
    "print(b(6))"
   ]
  },
  {
   "cell_type": "code",
   "execution_count": 79,
   "id": "8a0d0bd5",
   "metadata": {},
   "outputs": [
    {
     "name": "stdout",
     "output_type": "stream",
     "text": [
      "5678876"
     ]
    }
   ],
   "source": [
    "def r(p):\n",
    "    print(p, end ='')\n",
    "    if p < 8:\n",
    "        r(p+1)\n",
    "        p = p + 1\n",
    "        print(p, end = '')\n",
    "        \n",
    "r(5)"
   ]
  },
  {
   "cell_type": "code",
   "execution_count": 80,
   "id": "e6698484",
   "metadata": {},
   "outputs": [
    {
     "name": "stdout",
     "output_type": "stream",
     "text": [
      "[1, 6, 2] 2\n"
     ]
    }
   ],
   "source": [
    "def f(a,i):\n",
    "    a[1] = 6\n",
    "    a[i] = 2\n",
    "    i = 3\n",
    "    return a+[1,2]\n",
    "a = [1,2,3]\n",
    "i = 2\n",
    "f(a,i)\n",
    "print(a,i)"
   ]
  },
  {
   "cell_type": "code",
   "execution_count": 81,
   "id": "c2f5ec61",
   "metadata": {},
   "outputs": [
    {
     "name": "stdout",
     "output_type": "stream",
     "text": [
      "2 14 36 56 7"
     ]
    }
   ],
   "source": [
    "a = [[1,2], [3,4], [5,6], [7,6]]\n",
    "for i in a:\n",
    "    print(i[1], i[0], end = '')"
   ]
  },
  {
   "cell_type": "code",
   "execution_count": 82,
   "id": "6d06413c",
   "metadata": {},
   "outputs": [
    {
     "name": "stdout",
     "output_type": "stream",
     "text": [
      "[[1, 2], [3, 2]]\n"
     ]
    }
   ],
   "source": [
    "a = [1,2]\n",
    "b = [3,4]\n",
    "c = [a,b]\n",
    "a = [1]\n",
    "b[1] = 2\n",
    "print(c)"
   ]
  },
  {
   "cell_type": "code",
   "execution_count": 83,
   "id": "3832a947",
   "metadata": {},
   "outputs": [
    {
     "name": "stdout",
     "output_type": "stream",
     "text": [
      "0132"
     ]
    }
   ],
   "source": [
    "for i in range(3):\n",
    "    while(i<4):\n",
    "        print(i, end = '')\n",
    "        i += 2\n",
    "        if i == 2:\n",
    "            break"
   ]
  },
  {
   "cell_type": "code",
   "execution_count": 14,
   "id": "4c83827f",
   "metadata": {},
   "outputs": [
    {
     "name": "stdout",
     "output_type": "stream",
     "text": [
      "[]\n"
     ]
    }
   ],
   "source": [
    "def check_palindrome(s):\n",
    "    if len(s) <= 1:\n",
    "        return True\n",
    "    else:\n",
    "        if s[0] == s[-1]:\n",
    "            return check_palindrome(s[1:-1])\n",
    "        else:\n",
    "            return False\n",
    "        \n",
    "s = 'abbaa'     \n",
    "        \n",
    "lst = []\n",
    "r = len(s)\n",
    "l = 0\n",
    "\n",
    "if check_palindrome(s[l:r]):\n",
    "    lst.append(s[l:r])\n",
    "else:\n",
    "    r -= 1\n",
    "    check_palindrome(s[l:r])\n",
    "            \n",
    "            \n",
    "print(lst)"
   ]
  },
  {
   "cell_type": "code",
   "execution_count": 5,
   "id": "6b5bb9d6",
   "metadata": {},
   "outputs": [
    {
     "name": "stdout",
     "output_type": "stream",
     "text": [
      "kevin\n"
     ]
    },
    {
     "data": {
      "text/plain": [
       "1"
      ]
     },
     "execution_count": 5,
     "metadata": {},
     "output_type": "execute_result"
    }
   ],
   "source": [
    "def longestpalindrome(s):\n",
    "    result = ''\n",
    "    resultlen = 0\n",
    "    \n",
    "    for i in range(len(s)):\n",
    "        ##odd length\n",
    "        l,r = i,i\n",
    "        while l >=0 and r < len(s) and s[l] == s[r]:\n",
    "            if r-l+1 > resultlen:\n",
    "                result = s[l:r+1]\n",
    "                resultlen = r -l + 1\n",
    "            l -= 1\n",
    "            r += 1\n",
    "            \n",
    "        ##even length\n",
    "        l,r = i, i+1\n",
    "        while l >=0 and r < len(s) and s[l] == s[r]:\n",
    "            if r-l+1 > resultlen:\n",
    "                result = s[l:r+1]\n",
    "                resultlen = r -l + 1\n",
    "            l -= 1\n",
    "            r += 1\n",
    "    return result\n",
    "x`\n",
    "s = input()\n",
    "len(longestpalindrome(s))"
   ]
  },
  {
   "cell_type": "code",
   "execution_count": 12,
   "id": "6fd2128c",
   "metadata": {},
   "outputs": [
    {
     "name": "stdout",
     "output_type": "stream",
     "text": [
      "9\n",
      "1\n",
      "4\n"
     ]
    }
   ],
   "source": [
    "def ispalindrome(x):\n",
    "    if x == x[::-1]:\n",
    "        return True\n",
    "    return False\n",
    "\n",
    "def LP(y):\n",
    "    lst = []\n",
    "    for i in range(len(y)):\n",
    "        for j in range(len(y)):\n",
    "            if i <= j:\n",
    "                if ispalindrome(y[i:j]):\n",
    "                    lst.append(len(y[i:j]))\n",
    "    return max(lst)\n",
    "\n",
    "def main():\n",
    "    print(LP('abbbbabbbbdbbbbbbbaa')) #prints 9\n",
    "    print(LP('test')) #prints 1\n",
    "    print(LP('annatestannana')) #prints 4\n",
    "\n",
    "main()"
   ]
  },
  {
   "cell_type": "code",
   "execution_count": 28,
   "id": "9c348091",
   "metadata": {},
   "outputs": [
    {
     "name": "stdout",
     "output_type": "stream",
     "text": [
      "0100\n",
      "0111101100\n",
      "01111111111111110\n",
      "010\n",
      "01110\n",
      "0\n",
      "01111111110111100100\n"
     ]
    }
   ],
   "source": [
    "def d(y):\n",
    "    for i in range(y,0,-1):\n",
    "        if y % i == 0:\n",
    "            print('0', end = '')\n",
    "        else:\n",
    "            print('1', end = '')\n",
    "            \n",
    "    return ''\n",
    "\n",
    "def main():\n",
    "    print(d(4))\n",
    "    print(d(10))\n",
    "    print(d(17))\n",
    "    print(d(3))\n",
    "    print(d(5))\n",
    "    print(d(1))\n",
    "    print(d(20))\n",
    "    \n",
    "main()"
   ]
  },
  {
   "cell_type": "code",
   "execution_count": 34,
   "id": "63c72f50",
   "metadata": {},
   "outputs": [
    {
     "name": "stdout",
     "output_type": "stream",
     "text": [
      "3\n",
      "2\n"
     ]
    }
   ],
   "source": [
    "def play(b,n):\n",
    "    counter = 0\n",
    "    while counter < len(b):\n",
    "        if b[counter][n] == 'a':\n",
    "            n += 1\n",
    "            counter += 1\n",
    "        elif b[counter][n] == 'b':\n",
    "            n -= 1\n",
    "            counter += 1\n",
    "        else:\n",
    "            counter += 1\n",
    "    return n\n",
    "            \n",
    "def main():\n",
    "    b = ['ababc', 'cabab', 'ccabc', 'cabab', 'abcab']\n",
    "    print(play(b,0))\n",
    "    print(play(b,3))\n",
    "    \n",
    "main()"
   ]
  },
  {
   "cell_type": "code",
   "execution_count": 37,
   "id": "b9416b11",
   "metadata": {},
   "outputs": [
    {
     "data": {
      "text/plain": [
       "[[0, 1], [1, 2], [2, 100]]"
      ]
     },
     "execution_count": 37,
     "metadata": {},
     "output_type": "execute_result"
    }
   ],
   "source": [
    "lst = [[1,2], [2,100], [0,1]]\n",
    "lst.sort()\n",
    "lst"
   ]
  }
 ],
 "metadata": {
  "kernelspec": {
   "display_name": "Python 3",
   "language": "python",
   "name": "python3"
  },
  "language_info": {
   "codemirror_mode": {
    "name": "ipython",
    "version": 3
   },
   "file_extension": ".py",
   "mimetype": "text/x-python",
   "name": "python",
   "nbconvert_exporter": "python",
   "pygments_lexer": "ipython3",
   "version": "3.8.8"
  }
 },
 "nbformat": 4,
 "nbformat_minor": 5
}
