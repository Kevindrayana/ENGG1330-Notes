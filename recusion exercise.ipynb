{
 "cells": [
  {
   "cell_type": "code",
   "execution_count": 4,
   "id": "c5820f8a",
   "metadata": {},
   "outputs": [],
   "source": [
    "def factorial(n):\n",
    "    if n == 0:\n",
    "        return 1\n",
    "    \n",
    "    else:\n",
    "        return n * factorial(n-1)"
   ]
  },
  {
   "cell_type": "code",
   "execution_count": 12,
   "id": "3f3fe6eb",
   "metadata": {},
   "outputs": [],
   "source": [
    "def palindrome(s):\n",
    "    if len(s) <= 1:\n",
    "        return True\n",
    "    \n",
    "    else:\n",
    "        if s[0] == s[-1]:\n",
    "            return palindrome(s[1:-1])\n",
    "        else:\n",
    "            return False"
   ]
  },
  {
   "cell_type": "code",
   "execution_count": 21,
   "id": "6b17b4d0",
   "metadata": {},
   "outputs": [],
   "source": [
    "def pascal(n):\n",
    "    if n == 1:\n",
    "        return [1]\n",
    "    \n",
    "    else:\n",
    "        result = []\n",
    "        result.append(1)\n",
    "        previous = pascal(n-1)\n",
    "        for i in range(len(previous)-1):\n",
    "            result.append(previous[i] + previous[i+1])\n",
    "        result.append(1)\n",
    "    return result"
   ]
  },
  {
   "cell_type": "code",
   "execution_count": 29,
   "id": "930881f5",
   "metadata": {},
   "outputs": [
    {
     "name": "stdout",
     "output_type": "stream",
     "text": [
      "14\n"
     ]
    }
   ],
   "source": [
    "#eucid theory\n",
    "def gcd(a,b):\n",
    "    if b == 0:\n",
    "        return a\n",
    "    \n",
    "    else:\n",
    "        return gcd(b, a%b)"
   ]
  },
  {
   "cell_type": "code",
   "execution_count": 30,
   "id": "a5773676",
   "metadata": {},
   "outputs": [],
   "source": [
    "def fibonaci(n):\n",
    "    if n < 2:\n",
    "        return n\n",
    "    else:\n",
    "        return fibonaci(n-1) + fibonaci(n-2)"
   ]
  },
  {
   "cell_type": "code",
   "execution_count": 34,
   "id": "1e5e2ab3",
   "metadata": {},
   "outputs": [
    {
     "name": "stdout",
     "output_type": "stream",
     "text": [
      "move disk from A to B\n",
      "move disk from A to C\n",
      "move disk from B to C\n",
      "move disk from A to B\n",
      "move disk from C to A\n",
      "move disk from C to B\n",
      "move disk from A to B\n",
      "move disk from A to C\n",
      "move disk from B to C\n",
      "move disk from B to A\n",
      "move disk from C to A\n",
      "move disk from B to C\n",
      "move disk from A to B\n",
      "move disk from A to C\n",
      "move disk from B to C\n"
     ]
    }
   ],
   "source": [
    "def move(n,from_,to,buffer):\n",
    "    if n == 1:\n",
    "        print(f'move disk from {from_} to {to}')\n",
    "    \n",
    "    else:\n",
    "        move(n-1,from_,buffer,to)\n",
    "        move(1, from_,to,buffer)\n",
    "        move(n-1, buffer,to,from_)\n",
    "        \n",
    "move(4,'A','C','B')"
   ]
  },
  {
   "cell_type": "code",
   "execution_count": 38,
   "id": "466df68d",
   "metadata": {},
   "outputs": [],
   "source": [
    "def subsetsum(lst,n,result,target):\n",
    "    if target <= 0:\n",
    "        print(result)\n",
    "        return\n",
    "    if n <= 0:\n",
    "        return\n",
    "    \n",
    "    #case 1 (include)\n",
    "    if lst[n-1] <= target:\n",
    "        subsetsum(lst, n-1, result + (lst[n-1],), target - lst[n-1])\n",
    "    #case 2 (exclude)\n",
    "    subsetsum(lst, n-1, result, target)\n",
    "    "
   ]
  },
  {
   "cell_type": "code",
   "execution_count": 39,
   "id": "03c4ed8c",
   "metadata": {},
   "outputs": [
    {
     "name": "stdout",
     "output_type": "stream",
     "text": [
      "(4, 8)\n",
      "(4, 5, 3)\n",
      "(7, 5)\n"
     ]
    }
   ],
   "source": [
    "lst = [3,5,7,8,4]\n",
    "target = 12\n",
    "result = ()\n",
    "\n",
    "subsetsum(lst,len(lst),result,target)"
   ]
  }
 ],
 "metadata": {
  "kernelspec": {
   "display_name": "Python 3",
   "language": "python",
   "name": "python3"
  },
  "language_info": {
   "codemirror_mode": {
    "name": "ipython",
    "version": 3
   },
   "file_extension": ".py",
   "mimetype": "text/x-python",
   "name": "python",
   "nbconvert_exporter": "python",
   "pygments_lexer": "ipython3",
   "version": "3.8.8"
  }
 },
 "nbformat": 4,
 "nbformat_minor": 5
}
