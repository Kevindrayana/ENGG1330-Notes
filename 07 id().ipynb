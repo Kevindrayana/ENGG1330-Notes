{
 "cells": [
  {
   "cell_type": "markdown",
   "id": "96ab8bd8",
   "metadata": {},
   "source": [
    "# id() - identitity\n",
    "virtual adress in pyhton\n",
    "\n",
    "basically a reference to memory\n",
    "\n",
    "where the value of the object/variable is stored on memory on the computer\n",
    "\n",
    "to understand the code better"
   ]
  },
  {
   "cell_type": "code",
   "execution_count": 4,
   "id": "e2907a79",
   "metadata": {},
   "outputs": [
    {
     "name": "stdout",
     "output_type": "stream",
     "text": [
      "140727479838800\n",
      "140727479838800\n",
      "140727479838832\n",
      "140727479838864\n"
     ]
    }
   ],
   "source": [
    "a = 10\n",
    "b = 10\n",
    "c = 11\n",
    "d = 12\n",
    "\n",
    "print(id(a))\n",
    "print(id(b)) # realize that a and b has the same id because it reffered to the same integer\n",
    "print(id(c))\n",
    "print(id(d))"
   ]
  },
  {
   "cell_type": "code",
   "execution_count": 12,
   "id": "95f35eca",
   "metadata": {},
   "outputs": [
    {
     "name": "stdout",
     "output_type": "stream",
     "text": [
      "2401850319088\n",
      "2401850319088\n",
      "2401850402416\n",
      "2401850402416\n"
     ]
    }
   ],
   "source": [
    "# a b c d can be any objects\n",
    "a = ('a')\n",
    "b = ('a')\n",
    "c = 'abc'\n",
    "d = 'abc'\n",
    "print(id(a))\n",
    "print(id(b)) \n",
    "print(id(c))\n",
    "print(id(d))"
   ]
  },
  {
   "cell_type": "code",
   "execution_count": 13,
   "id": "af48afca",
   "metadata": {},
   "outputs": [
    {
     "name": "stdout",
     "output_type": "stream",
     "text": [
      "2401893065280\n",
      "2401892985152\n",
      "2401850402416\n",
      "2401850402416\n"
     ]
    }
   ],
   "source": [
    "a = [1,2,3]\n",
    "b = [1,2,3]\n",
    "c = 'abc'\n",
    "d = 'abc'\n",
    "print(id(a))\n",
    "print(id(b)) # notice that a and b has different id's which means that this program requires more memory\n",
    "print(id(c))\n",
    "print(id(d))"
   ]
  },
  {
   "cell_type": "code",
   "execution_count": 6,
   "id": "c7258f78",
   "metadata": {},
   "outputs": [
    {
     "name": "stdout",
     "output_type": "stream",
     "text": [
      "140704353962880\n",
      "140704353962880\n",
      "140704353962880\n",
      "['b'] ['b']\n"
     ]
    }
   ],
   "source": [
    "# id function is very useful to understand and debug code\n",
    "s1 = ['a']\n",
    "print(id(s1))\n",
    "s2 = s1\n",
    "print(id(s2))\n",
    "s2[0] = \"b\"\n",
    "print(id(s2))\n",
    "print(s1, s2)\n",
    "# notice that there is only 1 list created"
   ]
  },
  {
   "cell_type": "code",
   "execution_count": 16,
   "id": "b3bb5a5e",
   "metadata": {
    "scrolled": true
   },
   "outputs": [
    {
     "name": "stdout",
     "output_type": "stream",
     "text": [
      "<class 'int'>\n",
      "<class 'tuple'>\n",
      "<class 'tuple'>\n"
     ]
    }
   ],
   "source": [
    "# declaring a single-item tuple\n",
    "## with a trailing comma\n",
    "a = (1)\n",
    "b = (1,)\n",
    "c = 1,\n",
    "\n",
    "print(type(a))\n",
    "print(type(b))\n",
    "print(type(c))"
   ]
  },
  {
   "cell_type": "code",
   "execution_count": 22,
   "id": "0a78f4a5",
   "metadata": {},
   "outputs": [
    {
     "name": "stdout",
     "output_type": "stream",
     "text": [
      "2401912401824\n",
      "2401892771648\n",
      "2401910516416\n",
      "2401893896336\n",
      "2401916194144\n",
      "2401912923616\n",
      "2401912924096\n",
      "2401924145776\n",
      "2401908744928\n",
      "2401912265024\n",
      "(2, 5, 2, 1, 0, 3, 7, 1, 3, 3)\n"
     ]
    }
   ],
   "source": [
    "import random\n",
    "\n",
    "t = ()\n",
    "for i in range(10):\n",
    "    t += random.randint(0,9),\n",
    "    print(id(t)) # everytime you +=, you create a new tupple (shown by the unique value of id's)\n",
    "print(t)\n",
    "\n",
    "\n",
    "### += ing tuple will result in making a new tuple, hence larger memory ###\n",
    "### don't use tuple if you want ot modify it constantly ###"
   ]
  },
  {
   "cell_type": "code",
   "execution_count": 1,
   "id": "0c8e6aa7",
   "metadata": {},
   "outputs": [
    {
     "name": "stdout",
     "output_type": "stream",
     "text": [
      "140704353967552\n",
      "140704353967552\n",
      "140704353967552\n",
      "140704353967552\n",
      "140704353967552\n",
      "140704353967552\n",
      "140704353967552\n",
      "140704353967552\n",
      "140704353967552\n",
      "140704353967552\n",
      "[8, 8, 4, 0, 4, 3, 8, 1, 0, 9]\n"
     ]
    }
   ],
   "source": [
    "import random\n",
    "\n",
    "l = []\n",
    "for i in range(10):\n",
    "    l += [random.randint(0,9)]\n",
    "    print(id(l)) # everytime you +=, you are only modifying the list (shown by the same value of id's)\n",
    "print(l)\n",
    "\n",
    "### += ing list insted will only modify the list, not creating a new one\n",
    "### use list if you want to continuously edit it"
   ]
  },
  {
   "cell_type": "code",
   "execution_count": 4,
   "id": "a9095bc6",
   "metadata": {},
   "outputs": [
    {
     "name": "stdout",
     "output_type": "stream",
     "text": [
      "<class 'int'>\n"
     ]
    }
   ],
   "source": [
    "## additional note: id returns an int\n",
    "print(type(id('kevin')))"
   ]
  }
 ],
 "metadata": {
  "kernelspec": {
   "display_name": "Python 3",
   "language": "python",
   "name": "python3"
  },
  "language_info": {
   "codemirror_mode": {
    "name": "ipython",
    "version": 3
   },
   "file_extension": ".py",
   "mimetype": "text/x-python",
   "name": "python",
   "nbconvert_exporter": "python",
   "pygments_lexer": "ipython3",
   "version": "3.8.8"
  }
 },
 "nbformat": 4,
 "nbformat_minor": 5
}
